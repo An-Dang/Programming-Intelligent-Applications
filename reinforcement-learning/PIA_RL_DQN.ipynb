{
 "cells": [
  {
   "cell_type": "markdown",
   "metadata": {},
   "source": [
    "# PIA - Reinforcement Learning\n",
    "\n",
    "1. RL Intro\n",
    "2. Dynamic Programing\n",
    "3. Tabular Q-Learning\n",
    "4. **Deep Reinforcement Learning (DQN)**\n",
    "\n",
    "## 4. Deep Reinforcement Learning (DQN)\n",
    "\n",
    "Welcome to the final Reinforcement Learning Notebook. In this part you will implement the Deep Q-Learning Algorithm that was used by Mnih et al. to play Atari Video games. The resulting agent is called Deep Q-Network agent (or shorter DQN agent) because it uses a Deep Neural Network to approximate the value function (instead of saving it in a table)."
   ]
  },
  {
   "cell_type": "markdown",
   "metadata": {},
   "source": [
    "---\n",
    "### Course of Action\n",
    "\n",
    "* Please write all executable python code in ```Code```-Cells (```Cell```->```Cell Type```->```Code```) and all Text as [Markdown](http://commonmark.org/help/) in ```Markdown```-Cells\n",
    "* Describe your thinking and your decisions (where appropriate) in an extra Markdown Cell or via Python comments\n",
    "* In general: discuss all your results and comment on them (are they good/bad/unexpected, could they be improved, how?, etc.). Furthermore, visualise your data (input and output).\n",
    "* Write a short general conclusion at the end of the notebook\n",
    "* Further experiments are encouraged. However, don't forget to comment on your reasoning.\n",
    "* Use a scientific approach for all experiments (i.e. develop a hypothesis or concrete question, make observations, evaluate results)\n",
    "\n",
    "### Submission\n",
    "\n",
    "E-Mail your complete Notebook to [maucher@hdm-stuttgart.de](mailto:maucher@hdm-stuttgart.de) until the start of the next lecture. One Notebook per Group is enough. Edit the teammember table below.\n",
    "\n",
    "**Important**: Also attach a HTML version of your notebook (```File```->```Download as```->```HTML```) in addition to the ```.ipynb```-File."
   ]
  },
  {
   "cell_type": "markdown",
   "metadata": {},
   "source": [
    "| Teammember |                    |\n",
    "|------------|--------------------|\n",
    "| 1.         | Christopher Caldwell |\n",
    "| 2.         | Fabian Müller      |\n",
    "| 3.         | An Dang         |"
   ]
  },
  {
   "cell_type": "markdown",
   "metadata": {},
   "source": [
    "## Prerequisites\n",
    "\n",
    "- **INSTALL**: [OpenAI Gym](https://github.com/openai/gym#installation) - minimal install should be enough.\n",
    "- The notebook is pretty self contained and includes all relevant theory. However, make sure that you have **read** and *understood* a corresponding lecture at least once! The notebook can only provide a short recap. Being prepared will help you to finish the notebook in time!\n",
    "- Some good reading resources are:\n",
    "\n",
    "    1. Johannes Maucher's [lecture on RL](https://maucher.home.hdm-stuttgart.de/MachineLearning/WS1718/V12Reinforcement.pdf) - chapter 4,5 & **6**.\n",
    "    2. David Silver's course on RL: [Lecture 6](http://www0.cs.ucl.ac.uk/staff/d.silver/web/Teaching.html): [Youtube](https://www.youtube.com/watch?v=UoPei5o4fps), [Lecture 9](http://www0.cs.ucl.ac.uk/staff/d.silver/web/Teaching.html): [Youtube](https://www.youtube.com/watch?v=sGuiWX07sKw&list=PLqYmG7hTraZDM-OYHWgPebj2MfCFzFObQ&index=9).\n",
    "    3. Sutton & Barto: [Reinforcement Learning: An Introduction](http://incompleteideas.net/book/the-book-2nd.html) chapter **16.5**, further reading and more details chapters 9,10 & 11 (complete online pdf draft available).\n",
    "    4. Read the original DQN papers:\n",
    "        - NIPS 2013 - [Playing Atari with Deep Reinforcement Learning](https://arxiv.org/abs/1312.5602)\n",
    "        - Nature 2015 - [Human Level Control Through Deep Reinforcement Learning](https://deepmind.com/research/publications/human-level-control-through-deep-reinforcement-learning/)"
   ]
  },
  {
   "cell_type": "markdown",
   "metadata": {},
   "source": [
    "---\n",
    "\n",
    "## Theory\n",
    "\n",
    "In the last notebook you have implemented the model-free **Q-Learning** algorithm and solved the *full reinforcement learning problem* by **learning from samples**. In this context, *full* refered to the fact that we dont have acess to the world model and *model-free* to the fact that we have not tried to learn that model. Furthermore, Q-Learning performed **online** updates to the policy, meaning that we have adjusted the policy *online* after every time step. Finally Q-Learning is an **off-policy** algorithm because we followed an e-greedy behavior policy while we have performed updates according to a greedy target policy. Now we will tackle the **curse of dimensionality** by **approximating the value function** instead of saving it explicitly in a table.\n",
    "\n",
    "### Case Study - Video Games\n",
    "\n",
    "<img src=\"./RL_pics/Atari_games.png\" alt=\"DQN\" style=\"width: 1000px;\"/>\n",
    "\n",
    "Before we proceed to the solution, let us quickly revise the actual problem that we are trying to solve. Consider the task of learning to play a video game given only the raw game screen as input. This is similar to how humans would play the game. Since the game screen is typically represented as raw pixels, this leaves us with a really high dimensional input or state space because every change of pixels represents a new and distinct state of the game, even if the change seems completely insignificant to you! Remember, the agent has no real knowledge of the game (or world model). Clearly it is infeasible to store every possible state of pixle combinations in a table. See [Reinforcement Learning: An Introduction](http://incompleteideas.net/book/the-book-2nd.html) chapter 16.5 for a comprehensive discussion.   \n",
    "\n",
    "<img src=\"./RL_pics/DQN_principle.png\" alt=\"DQN\" style=\"width: 800px;\"/>\n",
    "\n",
    "> The problem that is solved by Deep Reinforcement Learning (in the case of DQN) is how to learn a mapping from a high dimensional input space to action values. This mapping represents the value function and can be used in a policy, e.g. to choose the best action with the highest value.\n",
    "\n",
    "\n",
    "### Nonlinear Function Approximation with Artificial Neural Networks\n",
    "\n",
    "First of all, a lookup table can mathematically be seen as a very simple form of a function, i.e. a direct mapping of values (hence the name value function). However, for the reasons explained above, this approach does not scale to high dimensional input spaces. A typical solution to this problem is to replace the *perfect* but intractable lookup table with a more complicated function that *only* **approximates the true value function** but is computationally tractable. In the case of DQN we choose a deep neural network as our function approximator. Formally, this new function is denoted as $\\hat{Q}$ and we write\n",
    "\n",
    "$$\\begin{eqnarray} \n",
    "\\hat{Q}(s,a,\\theta) \\approx Q_{\\pi}(s,a)\n",
    "\\end{eqnarray}$$\n",
    "\n",
    "where $\\theta$ are the parameters of the neural network. In other words, the value function now depends on those parameters and the task of finding and optimal value function turns into the task of finding an optimal set of parameters for the network. Fortunately, we know how to train and optimize a neural network with SGD and backpropagation given an appropriate loss function. **Inside the RL-framework we can use the TD-error as the loss function**. Formally we optimize:  \n",
    "\n",
    "$$\\begin{eqnarray} \n",
    "L_i(\\theta_{i}) = \\Big( \\underbrace{r_{t+1} + \\gamma \\max_a Q(s_{t+1}, a; \\theta_i) - Q(s_t, a_t;\\theta_i)}_{TD-error} \\Big)^2\n",
    "\\end{eqnarray}$$\n",
    "\n",
    "> Note that in order to obtain any action-values, we now need to perform a forward pass through the network. In practice, this means two forward passes before we can calculate the loss, one pass for the value of $Q(s_t, a_t;\\theta_i)$ and another one to calculate the value of $\\max_a Q(s_{t+1}, a; \\theta_i)$. More details on that later.\n",
    "\n",
    "\n",
    "### Instabilities and Solutions\n",
    "\n",
    "So far, so good. By using the TD-error as loss function we can train the network in a supervised learning like setup. Sadly it is not that easy. Remember that in supervised learning we assumed the data to be *independent and identically distributed* (iid-data) in order for SGD to work properly. This assuption does not hold in reinforcement learning where subsequent data is highly correlated and in contrast, depends strongly on the agents last choice of actions. This inherent sequential property, in combination with an off-policy algorithm and a non-linear function appoximator such as a neural network, results in the problem that the learnable network parameters are at risk to oscillate or even diverge catastrophically during training. In theory, there is no convergence guarantee whatsoever. In practice, Mnih et al. found two major ways in which the training process can be stabilized:\n",
    "\n",
    "- **Experience Replay** - This idea introduces a so called **replay buffer** $\\mathcal{D}$ which stores the last $N$ state transitions as experience tuples $(S,A,R,S')$. In other words, the agent saves its recent history to a buffer. This way, experience can be reused and the correlation between samples can be broken by **drawing random minibatches** of experience $U(\\mathcal{D})$ from it during the training.\n",
    "<br><br>\n",
    "\n",
    "- **Fixed Q-Targets** - The second idea is to keep **a separate set of parameters** $\\theta^{−}$ for calculating the **TD target**. This set is basically a copy of $\\theta$ that is held fixed for some time $t$ and periodically gets swapped with the current parameter values in order to allow progress. Mnih et al. have shown that updating $\\theta$ towards such fixed Q-targets is another effective way to stabilize the training process. In practice, this means that we have basically two separate networks which we will distinguish by their different set of parameters $\\theta^{-}$ and $\\theta$. We will refer to them respectively as **Target-** and **Q-Network**.\n",
    "\n",
    "As a result, the **Q-learning update** of DQN at iteration $i$ uses the following loss function: \n",
    "\n",
    "$$\\begin{eqnarray} \n",
    "L_i(\\theta_{i}) = \\mathbb{E}_{(s,a,r,s') \\sim U(\\mathcal{D})} \\Bigg[ \\Bigg( r_{t+1} + \\gamma \\max_a \\underbrace{Q(s_{t+1}, a; \\theta^{-}_{i})}_{Target-Network} - \\underbrace{Q(s_t, a_t;\\theta_i)}_{Q-Network} \\Big)^2 \\Bigg]\n",
    "\\end{eqnarray}$$\n",
    "\n",
    "And thats it! We can use this update rule inside the Q-Learning algorithm to train a Deep Q-Network with SGD as we do in supervised learning. The corresponding **Deep Q-Learning algorithm** is given in the next part."
   ]
  },
  {
   "cell_type": "markdown",
   "metadata": {},
   "source": [
    "---\n",
    "\n",
    "## Implementation\n",
    "\n",
    "As in the previous notebooks we will implement the DQN algorithm step by step. While the original DQN architecture was a CNN trained on Atari games, we will choose a much simpler problem and architecture. This way you can verify and debug your implementation much faster (in minutes vs hours...). However, the algorithm itself is still the same and extending it should be straightforward after completing the notebook. Though, this is left to the *further ideas part* depending on your time and motivation.\n",
    "\n",
    "The following is an overview of all the parts you need. Use it as a checklist if you get lost. Like with Q-Learning, try first to verify that all the sub-parts are working as expected. If you are confident, integrate them iteratively into the main loop. There is no single best approach how to proceed so feel free to jump back and forth between the cells as you like.\n",
    "\n",
    "##### Overview\n",
    "\n",
    "- The OpenAI Gym Environment\n",
    "- Replay Buffer\n",
    "- Epsilon Schedule\n",
    "- Deep Q-Network (and computation graph)\n",
    "- E-Greedy Policy (action selection)\n",
    "- Update the Target Network\n",
    "- Train Method\n",
    "- Main Loop\n",
    "<br><br>\n",
    "- Evaluation of Deep Reinforcement Learning Algorithms\n",
    "\n"
   ]
  },
  {
   "cell_type": "markdown",
   "metadata": {},
   "source": [
    "### The Open AI Gym Environment\n",
    "\n",
    "You will use the OpenAI Gym environment to solve a classic control task known as **Cart Pole Balance**. The great thing about the gym environment is that it offers a common interface to [many different environments](https://gym.openai.com/envs/#classic_control). That way you can easily test your algorithms on different tasks, e.g. switch from an easy one like CartPole to more challenging ones like an Atari game etc. ;)\n",
    "\n",
    "For now, we will solve the **CartPole-v0** task. \n",
    "\n",
    "1. First of all, [go and read](https://github.com/openai/gym/wiki/CartPole-v0) about its most important details such as the *observations, actions, rewards,* it's *max length* etc.\n",
    "2. Second, get used to the gym interface. Run a random agent for some episodes etc. The most important API calls are:\n",
    "    - `gym.make('CartPole-v0')` returns a new `game`.\n",
    "    - The game's `action_space` and `observation_space` variables.\n",
    "    - `reset()` - returns an initial `observation`.\n",
    "    - `step()`  - takes an `action` int, returns an `observation, reward, game_over, info` tuple.\n",
    "    - `render()` - renders the current game state.\n",
    "    - `close()` - call this after the last episode has ended to clean up."
   ]
  },
  {
   "cell_type": "code",
   "execution_count": 1,
   "metadata": {},
   "outputs": [
    {
     "name": "stdout",
     "output_type": "stream",
     "text": [
      "[[-0.00153281  0.04138803 -0.03962849 -0.01789272]]\n",
      "State:  [-0.00070505 -0.15314385 -0.03998635  0.26202829]\n",
      "Reward:  1.0\n",
      "Terminate?  False\n",
      "Info:  {}\n",
      "State:  [-0.00376792 -0.34767288 -0.03474578  0.54183574]\n",
      "Reward:  1.0\n",
      "Terminate?  False\n",
      "Info:  {}\n",
      "State:  [-0.01072138 -0.15208025 -0.02390907  0.23841066]\n",
      "Reward:  1.0\n",
      "Terminate?  False\n",
      "Info:  {}\n",
      "State:  [-0.01376299  0.04337496 -0.01914085 -0.06171696]\n",
      "Reward:  1.0\n",
      "Terminate?  False\n",
      "Info:  {}\n",
      "State:  [-0.01289549  0.23876605 -0.02037519 -0.36037696]\n",
      "Reward:  1.0\n",
      "Terminate?  False\n",
      "Info:  {}\n",
      "State:  [-0.00812017  0.43417161 -0.02758273 -0.65941436]\n",
      "Reward:  1.0\n",
      "Terminate?  False\n",
      "Info:  {}\n",
      "State:  [ 5.63265878e-04  6.29666359e-01 -4.07710174e-02 -9.60653232e-01]\n",
      "Reward:  1.0\n",
      "Terminate?  False\n",
      "Info:  {}\n",
      "State:  [ 0.01315659  0.43511543 -0.05998408 -0.68105271]\n",
      "Reward:  1.0\n",
      "Terminate?  False\n",
      "Info:  {}\n",
      "State:  [ 0.0218589   0.63101694 -0.07360514 -0.99200122]\n",
      "Reward:  1.0\n",
      "Terminate?  False\n",
      "Info:  {}\n",
      "State:  [ 0.03447924  0.82704251 -0.09344516 -1.30686382]\n",
      "Reward:  1.0\n",
      "Terminate?  False\n",
      "Info:  {}\n",
      "State:  [ 0.05102009  0.63322092 -0.11958244 -1.04483275]\n",
      "Reward:  1.0\n",
      "Terminate?  False\n",
      "Info:  {}\n",
      "State:  [ 0.06368451  0.82970988 -0.14047909 -1.37253487]\n",
      "Reward:  1.0\n",
      "Terminate?  False\n",
      "Info:  {}\n",
      "State:  [ 0.08027871  1.02628078 -0.16792979 -1.70565175]\n",
      "Reward:  1.0\n",
      "Terminate?  False\n",
      "Info:  {}\n",
      "State:  [ 0.10080432  0.83344196 -0.20204282 -1.46960217]\n",
      "Reward:  1.0\n",
      "Terminate?  False\n",
      "Info:  {}\n",
      "State:  [ 0.11747316  1.03038018 -0.23143487 -1.81799781]\n",
      "Reward:  1.0\n",
      "Terminate?  True\n",
      "Info:  {}\n",
      "END OF GAME!!!!!!!\n",
      "[[ 0.03928215 -0.00480169  0.03227281 -0.02713625]]\n",
      "State:  [ 0.03918611  0.18984294  0.03173009 -0.3094646 ]\n",
      "Reward:  1.0\n",
      "Terminate?  False\n",
      "Info:  {}\n",
      "State:  [ 0.04298297 -0.00571639  0.02554079 -0.00694617]\n",
      "Reward:  1.0\n",
      "Terminate?  False\n",
      "Info:  {}\n",
      "State:  [ 0.04286864 -0.20119515  0.02540187  0.2936845 ]\n",
      "Reward:  1.0\n",
      "Terminate?  False\n",
      "Info:  {}\n",
      "State:  [ 0.03884474 -0.0064444   0.03127556  0.00911996]\n",
      "Reward:  1.0\n",
      "Terminate?  False\n",
      "Info:  {}\n",
      "State:  [ 0.03871585 -0.2020006   0.03145796  0.31150433]\n",
      "Reward:  1.0\n",
      "Terminate?  False\n",
      "Info:  {}\n",
      "State:  [ 0.03467584 -0.00734062  0.03768805  0.02890593]\n",
      "Reward:  1.0\n",
      "Terminate?  False\n",
      "Info:  {}\n",
      "State:  [ 0.03452903  0.18722117  0.03826616 -0.25165183]\n",
      "Reward:  1.0\n",
      "Terminate?  False\n",
      "Info:  {}\n",
      "State:  [ 0.03827345  0.38177639  0.03323313 -0.53202352]\n",
      "Reward:  1.0\n",
      "Terminate?  False\n",
      "Info:  {}\n",
      "State:  [ 0.04590898  0.18620315  0.02259266 -0.22905691]\n",
      "Reward:  1.0\n",
      "Terminate?  False\n",
      "Info:  {}\n",
      "State:  [ 0.04963304 -0.00923425  0.01801152  0.07066605]\n",
      "Reward:  1.0\n",
      "Terminate?  False\n",
      "Info:  {}\n",
      "State:  [ 0.04944836 -0.20460973  0.01942484  0.36897684]\n",
      "Reward:  1.0\n",
      "Terminate?  False\n",
      "Info:  {}\n",
      "State:  [ 0.04535616 -0.40000222  0.02680438  0.66772082]\n",
      "Reward:  1.0\n",
      "Terminate?  False\n",
      "Info:  {}\n",
      "State:  [ 0.03735612 -0.59548647  0.04015879  0.96872141]\n",
      "Reward:  1.0\n",
      "Terminate?  False\n",
      "Info:  {}\n",
      "State:  [ 0.02544639 -0.7911239   0.05953322  1.27374447]\n",
      "Reward:  1.0\n",
      "Terminate?  False\n",
      "Info:  {}\n",
      "State:  [ 0.00962391 -0.59680989  0.08500811  1.00028224]\n",
      "Reward:  1.0\n",
      "Terminate?  False\n",
      "Info:  {}\n",
      "State:  [-0.00231229 -0.79295877  0.10501376  1.31840541]\n",
      "Reward:  1.0\n",
      "Terminate?  False\n",
      "Info:  {}\n",
      "State:  [-0.01817146 -0.59930975  0.13138186  1.0603494 ]\n",
      "Reward:  1.0\n",
      "Terminate?  False\n",
      "Info:  {}\n",
      "State:  [-0.03015766 -0.40614926  0.15258885  0.81162095]\n",
      "Reward:  1.0\n",
      "Terminate?  False\n",
      "Info:  {}\n",
      "State:  [-0.03828064 -0.21340999  0.16882127  0.57055846]\n",
      "Reward:  1.0\n",
      "Terminate?  False\n",
      "Info:  {}\n",
      "State:  [-0.04254884 -0.41044696  0.18023244  0.91131019]\n",
      "Reward:  1.0\n",
      "Terminate?  False\n",
      "Info:  {}\n",
      "State:  [-0.05075778 -0.60748956  0.19845864  1.25478849]\n",
      "Reward:  1.0\n",
      "Terminate?  False\n",
      "Info:  {}\n",
      "State:  [-0.06290757 -0.8045203   0.22355441  1.60249809]\n",
      "Reward:  1.0\n",
      "Terminate?  True\n",
      "Info:  {}\n",
      "END OF GAME!!!!!!!\n",
      "[[0.04587715 0.01680942 0.00360325 0.01084303]]\n",
      "State:  [ 0.04621334  0.21187951  0.00382011 -0.28070086]\n",
      "Reward:  1.0\n",
      "Terminate?  False\n",
      "Info:  {}\n",
      "State:  [ 0.05045093  0.40694676 -0.0017939  -0.57217649]\n",
      "Reward:  1.0\n",
      "Terminate?  False\n",
      "Info:  {}\n",
      "State:  [ 0.05858986  0.60209382 -0.01323743 -0.86542401]\n",
      "Reward:  1.0\n",
      "Terminate?  False\n",
      "Info:  {}\n",
      "State:  [ 0.07063174  0.40715452 -0.03054591 -0.57693237]\n",
      "Reward:  1.0\n",
      "Terminate?  False\n",
      "Info:  {}\n",
      "State:  [ 0.07877483  0.21247374 -0.04208456 -0.29402653]\n",
      "Reward:  1.0\n",
      "Terminate?  False\n",
      "Info:  {}\n",
      "State:  [ 0.0830243   0.01797627 -0.04796509 -0.01490786]\n",
      "Reward:  1.0\n",
      "Terminate?  False\n",
      "Info:  {}\n",
      "State:  [ 0.08338383 -0.17642615 -0.04826325  0.26226408]\n",
      "Reward:  1.0\n",
      "Terminate?  False\n",
      "Info:  {}\n",
      "State:  [ 0.07985531 -0.37082714 -0.04301797  0.53934212]\n",
      "Reward:  1.0\n",
      "Terminate?  False\n",
      "Info:  {}\n",
      "State:  [ 0.07243876 -0.5653188  -0.03223113  0.81816633]\n",
      "Reward:  1.0\n",
      "Terminate?  False\n",
      "Info:  {}\n",
      "State:  [ 0.06113239 -0.75998508 -0.0158678   1.10053979]\n",
      "Reward:  1.0\n",
      "Terminate?  False\n",
      "Info:  {}\n",
      "State:  [ 0.04593268 -0.95489466  0.006143    1.38820241]\n",
      "Reward:  1.0\n",
      "Terminate?  False\n",
      "Info:  {}\n",
      "State:  [ 0.02683479 -1.15009262  0.03390705  1.68279986]\n",
      "Reward:  1.0\n",
      "Terminate?  False\n",
      "Info:  {}\n",
      "State:  [ 0.00383294 -0.95537929  0.06756304  1.4008645 ]\n",
      "Reward:  1.0\n",
      "Terminate?  False\n",
      "Info:  {}\n",
      "State:  [-0.01527465 -0.76115887  0.09558033  1.13004696]\n",
      "Reward:  1.0\n",
      "Terminate?  False\n",
      "Info:  {}\n",
      "State:  [-0.03049782 -0.56740956  0.11818127  0.86880736]\n",
      "Reward:  1.0\n",
      "Terminate?  False\n",
      "Info:  {}\n",
      "State:  [-0.04184602 -0.3740766   0.13555742  0.61549522]\n",
      "Reward:  1.0\n",
      "Terminate?  False\n",
      "Info:  {}\n",
      "State:  [-0.04932755 -0.57080607  0.14786732  0.9476142 ]\n",
      "Reward:  1.0\n",
      "Terminate?  False\n",
      "Info:  {}\n",
      "State:  [-0.06074367 -0.3779512   0.16681961  0.70480343]\n",
      "Reward:  1.0\n",
      "Terminate?  False\n",
      "Info:  {}\n",
      "State:  [-0.06830269 -0.18548536  0.18091568  0.46893024]\n",
      "Reward:  1.0\n",
      "Terminate?  False\n",
      "Info:  {}\n",
      "State:  [-0.0720124  -0.38264002  0.19029428  0.81273522]\n",
      "Reward:  1.0\n",
      "Terminate?  False\n",
      "Info:  {}\n",
      "State:  [-0.0796652  -0.19056269  0.20654899  0.5854296 ]\n",
      "Reward:  1.0\n",
      "Terminate?  False\n",
      "Info:  {}\n",
      "State:  [-0.08347645  0.00115913  0.21825758  0.36425412]\n",
      "Reward:  1.0\n",
      "Terminate?  True\n",
      "Info:  {}\n",
      "END OF GAME!!!!!!!\n",
      "[[ 0.04453523  0.01680574 -0.03048523 -0.04557019]]\n",
      "State:  [ 0.04487135  0.21235126 -0.03139663 -0.34771346]\n",
      "Reward:  1.0\n",
      "Terminate?  False\n",
      "Info:  {}\n",
      "State:  [ 0.04911837  0.40790539 -0.0383509  -0.65012918]\n",
      "Reward:  1.0\n",
      "Terminate?  False\n",
      "Info:  {}\n",
      "State:  [ 0.05727648  0.60353996 -0.05135348 -0.95463765]\n",
      "Reward:  1.0\n",
      "Terminate?  False\n",
      "Info:  {}\n",
      "State:  [ 0.06934728  0.40914503 -0.07044624 -0.67852096]\n",
      "Reward:  1.0\n",
      "Terminate?  False\n",
      "Info:  {}\n",
      "State:  [ 0.07753018  0.21506879 -0.08401665 -0.40882271]\n",
      "Reward:  1.0\n",
      "Terminate?  False\n",
      "Info:  {}\n",
      "State:  [ 0.08183156  0.02123229 -0.09219311 -0.1437654 ]\n",
      "Reward:  1.0\n",
      "Terminate?  False\n",
      "Info:  {}\n",
      "State:  [ 0.0822562  -0.17245669 -0.09506842  0.11846785]\n",
      "Reward:  1.0\n",
      "Terminate?  False\n",
      "Info:  {}\n",
      "State:  [ 0.07880707  0.02388972 -0.09269906 -0.20262987]\n",
      "Reward:  1.0\n",
      "Terminate?  False\n",
      "Info:  {}\n",
      "State:  [ 0.07928486 -0.16979267 -0.09675166  0.05943185]\n",
      "Reward:  1.0\n",
      "Terminate?  False\n",
      "Info:  {}\n",
      "State:  [ 0.07588901  0.02657379 -0.09556302 -0.26214092]\n",
      "Reward:  1.0\n",
      "Terminate?  False\n",
      "Info:  {}\n",
      "State:  [ 0.07642049  0.22292072 -0.10080584 -0.58337031]\n",
      "Reward:  1.0\n",
      "Terminate?  False\n",
      "Info:  {}\n",
      "State:  [ 0.0808789   0.41929967 -0.11247324 -0.90603006]\n",
      "Reward:  1.0\n",
      "Terminate?  False\n",
      "Info:  {}\n",
      "State:  [ 0.08926489  0.61575012 -0.13059385 -1.23184131]\n",
      "Reward:  1.0\n",
      "Terminate?  False\n",
      "Info:  {}\n",
      "State:  [ 0.1015799   0.42252683 -0.15523067 -0.98275994]\n",
      "Reward:  1.0\n",
      "Terminate?  False\n",
      "Info:  {}\n",
      "State:  [ 0.11003043  0.61934949 -0.17488587 -1.31989876]\n",
      "Reward:  1.0\n",
      "Terminate?  False\n",
      "Info:  {}\n",
      "State:  [ 0.12241742  0.4268156  -0.20128385 -1.08665793]\n",
      "Reward:  1.0\n",
      "Terminate?  False\n",
      "Info:  {}\n",
      "State:  [ 0.13095373  0.62394006 -0.223017   -1.43515358]\n",
      "Reward:  1.0\n",
      "Terminate?  True\n",
      "Info:  {}\n",
      "END OF GAME!!!!!!!\n"
     ]
    }
   ],
   "source": [
    "import gym\n",
    "import numpy as np\n",
    "\n",
    "game = gym.make(\"CartPole-v0\")\n",
    "observation_space = game.observation_space.shape[0]\n",
    "action_space = game.action_space.n\n",
    "i=0\n",
    "while i in range(0,4):\n",
    "    state = game.reset()\n",
    "   \n",
    "    state = np.reshape(state, [1, observation_space])\n",
    "    print(state)\n",
    "    x = 0\n",
    "    while x in range(0,200):\n",
    "        state_next, reward, terminal, info  = game.step(np.random.randint(0,action_space))\n",
    "        print(\"State: \",state_next)\n",
    "        print(\"Reward: \",reward)\n",
    "        print(\"Terminate? \",terminal)\n",
    "        print(\"Info: \",info)\n",
    "        \n",
    "        if terminal:\n",
    "            print(\"END OF GAME!!!!!!!\")\n",
    "            x=202\n",
    "        \n",
    "        game.render()\n",
    "        x+=1 \n",
    "    i+=1\n",
    "game.close()\n"
   ]
  },
  {
   "cell_type": "markdown",
   "metadata": {},
   "source": [
    "### Replay Buffer\n",
    "\n",
    "The replay buffer should store the last $N$ experience tuples. This is basically a FIFO queue and practically, [python offers such a data structure called](https://docs.python.org/3/library/collections.html#collections.deque) `deque`. If initialized with a `maxlen` parameter, `deque`'s `append` method will pop items from the left automatically when the list grows beyond the given `maxlen`. This is exactly what we want and **you can implement it in just a few lines of code!** The replay buffer should have the following methods:\n",
    "\n",
    "- `__init__` constructor, initializing an internal `deque` with a given `maxlen` or $N$ or better, call it `buffer_size`.\n",
    "- `add` method, appending a new `[state, action, reward, next_state, done]` tuple. (`done` is the `game_over` information) \n",
    "- `sample` method, sample a random batch of training data of size `batch_size`. You can use `random`'s `sample` method for that.\n",
    "\n",
    "Use the cells below to test your implementation, e.g. by filling it with some integers in a loop, check whats in the queue and test the sampling method etc."
   ]
  },
  {
   "cell_type": "code",
   "execution_count": 2,
   "metadata": {},
   "outputs": [],
   "source": [
    "import random as r\n",
    "from collections import deque\n",
    "\n",
    "class ReplayBuffer():\n",
    "    def __init__(self, buffer_size):\n",
    "        self.buffer = deque([], maxlen=buffer_size)\n",
    "    \n",
    "    def add(self, state, action, reward, next_state, done):\n",
    "        self.buffer.append([state, action, reward, next_state, done])\n",
    "        #print(self.buffer)\n",
    "    \n",
    "    def sample(self, sample_size):\n",
    "        return(r.sample(self.buffer, sample_size))\n",
    "            \n",
    "        "
   ]
  },
  {
   "cell_type": "code",
   "execution_count": 3,
   "metadata": {},
   "outputs": [
    {
     "data": {
      "text/plain": [
       "[[1, 2, 3, 4, 7], [1, 2, 3, 4, 6], [1, 2, 3, 4, 5]]"
      ]
     },
     "execution_count": 3,
     "metadata": {},
     "output_type": "execute_result"
    }
   ],
   "source": [
    "# TESTING the replay buffer\n",
    "size = 3\n",
    "replay_buffer = ReplayBuffer(size)\n",
    "i = 0\n",
    "while i < size+5:\n",
    "    replay_buffer.add(1,2,3,4,i)\n",
    "    i+=1\n",
    "replay_buffer.sample(3)\n",
    "    "
   ]
  },
  {
   "cell_type": "markdown",
   "metadata": {},
   "source": [
    "### Epsilon Schedule\n",
    "\n",
    "Last time, we calculated the current epsilon value inside the main loop. This time we need a little bit more control so let's create a class for that task. The reason for that is that we have to pre fill the replay buffer with some initial random experience before we can sample from it and start with the actual training. We want to control the amount of initial experience with a `pre_train_steps` variable. During this time, the schedule should return the `start_epsilon` value so that the agent behaves fully random. After that, the normal decay should be applied. The implementation needs two methods:\n",
    "\n",
    "- `__init__` constructor, takes all hyper parameters for the schedule such as `start_epsilon, final_epsilon, pre_train_steps, final_exploration_step`, pre calculate the decay value per step here.\n",
    "- `value` method, takes a time step `t` and returns a correpsonding `epsilon` value. If `t` is smaller or greater than the `pre_train_steps` or `final_exploration_step` return the fixed values accordingly. In between calculate the decayed `epsilon` value at time `t`.\n",
    "\n",
    "Use the code in the cell below to test and visualize your schedule."
   ]
  },
  {
   "cell_type": "code",
   "execution_count": 4,
   "metadata": {},
   "outputs": [],
   "source": [
    "import numpy as np\n",
    "\n",
    "class LinearSchedule():\n",
    " \n",
    "    def __init__(self, start_epsilon, final_epsilon, pre_train_steps, final_exploration_step):\n",
    "    # You code comes here\n",
    "        self.start_epsilon = start_epsilon\n",
    "        self.final_epsilon = final_epsilon\n",
    "        self.pre_train_steps = pre_train_steps\n",
    "        self.final_exploration_step = final_exploration_step\n",
    "        \n",
    "        self.decay = (self.start_epsilon - self.final_epsilon) / (self.final_exploration_step - self.pre_train_steps)\n",
    "\n",
    "    \n",
    "    def value(self, t):      \n",
    "        if t<=self.pre_train_steps:\n",
    "            return self.start_epsilon\n",
    "        else:\n",
    "            if t>self.final_exploration_step:\n",
    "                return self.final_epsilon\n",
    "            else:\n",
    "                current_epsilon = self.start_epsilon-self.decay*(t-self.pre_train_steps)\n",
    "                return current_epsilon"
   ]
  },
  {
   "cell_type": "code",
   "execution_count": 5,
   "metadata": {},
   "outputs": [
    {
     "data": {
      "text/plain": [
       "[<matplotlib.lines.Line2D at 0x2831a1f9ba8>]"
      ]
     },
     "execution_count": 5,
     "metadata": {},
     "output_type": "execute_result"
    },
    {
     "data": {
      "image/png": "[encoded data removed]",
      "text/plain": [
       "<Figure size 432x288 with 1 Axes>"
      ]
     },
     "metadata": {
      "needs_background": "light"
     },
     "output_type": "display_data"
    }
   ],
   "source": [
    "# TESTING the epsilon schedule\n",
    "%matplotlib inline\n",
    "import matplotlib.pyplot as plt\n",
    "\n",
    "schedule    = LinearSchedule(1.0, 0.1, 100, 1000)\n",
    "test_points = [schedule.value(t) for t in range(1100)]\n",
    "\n",
    "plt.plot(test_points)"
   ]
  },
  {
   "cell_type": "markdown",
   "metadata": {},
   "source": [
    "### Deep Q-Network\n",
    "\n",
    "The original DQN agent included a CNN as shown in the theory part of this notebook. For our task however, a simple MLP with only one hidden layer should be enough. Starting that simple will help you to get other implementation details right. Later on you can easily scale up and switch the MLP for a more powerfull network.\n",
    "\n",
    "While the architecture will be easy, the DQN algorithm requires us to keep basically two separate networks, namely, a main **Q-Network** and a second **Target-Network**. In addition, Tensorflow requires us to keep a reference to every node we want to calculate with the `sess.run` command. For those reasons we will build a *generic* and reusable `DQNetwork` class and bind all graph nodes to the object. Later we can then simply use the instance objects to reference specifc nodes in a clean and readable way.\n",
    "\n",
    "We will implement the `DQNetwork` class below in two steps. The first part denoted as *basic Deep Q-Network*, includes the actual network. The second part denote as *Q-Learning Calculations*, includes all the additional calculations to train the network.\n",
    "\n",
    "#### Part 1 - Basic Deep Q-Network\n",
    "\n",
    "This part is identical for the main Q- and the Target-Network. **It includes all trainable variables of the graph!** The model should be a fully connected feedforward network with one hidden layer of size $64$ and **ReLU** activations. For the CartPole task, the resulting MLP will consequently be later of size `num_inputs=4, num_hidden=64, num_outputs=2`. For the generic `DQNetwork` class however, let the user specify those values as parameters.\n",
    "\n",
    "- Now create a `self.best_action` node which should take the output layer (or q-values) and **return the indice** of the maximum action value. You can use `tf.argmax` for that. You can query this node in the e-greedy action selection later.\n",
    "\n",
    "- Create another node, `self.max_q` which does the same thing but **returns the value** of the maximum action value. You can use `tf.reduce_max` for that. You will need this node for the calculation of the TD-target later.\n",
    "\n",
    "So far, everything should have been very straightforward.\n",
    "\n",
    "#### Part 2 - Q-Learning Calculations\n",
    "\n",
    "This part is different for the Q- and the Target-Network. **It includes all the necessary calculations for training the network.** The code skeleton below shows how to constrain the graph creation with two simple if statements. \n",
    "\n",
    "First, the **Target Stream**. This part will later calculate the **TD-Target** (or $y_i$) with the following equation:\n",
    "\n",
    "$$\\begin{eqnarray} \n",
    "y_i = r_{t+1} + \\gamma \\max_a \\underbrace{Q(s_{t+1}, a; \\theta^{-}_{i})}_{Target-Network}\n",
    "\\end{eqnarray}$$\n",
    "\n",
    "Remember that we will train with mini-batches sampled from the replay buffer. For that reason, the `reward` values will be provided by mini-batches. This means we have to feed them externally, so let's create a **placeholder node** for those. Next, gamma will be **a constant** so let's create one in tensorflow and let the user specify it as a parameter at creation time of the network. Next, $s_{t+1}$ are the `next_states` from the buffer. This is not important here but you have to feed them correctly later! To get the maximum action value, use the `self.max_q` node that you have created earlier. Finally, there is a small detail we have not talked about yet. **In the rare case that the next state is a final state, i.e the game is over, only the reward should be taken into account.** To realize this here is a little *trick*: create another placeholder for the boolean `done` values from the mini-batch. Then, multiply the right-hand side of the equation with `tf.abs(self.done - 1)`. For clarity call the final node which implements the equation above `self.td_target`! \n",
    "\n",
    "> Note that this is a *lot* of text but basically 4 lines of code!\n",
    "\n",
    "Second, the **Q Stream**. This part will calculate the full **TD-Error** and optimize the mean squared error on the mini-batch.\n",
    "\n",
    "$$\\begin{eqnarray} \n",
    "L_i(\\theta_{i}) = \\mathbb{E}_{(s,a,r,s') \\sim U(\\mathcal{D})} \\Bigg[ \\Bigg( y_i - \\underbrace{Q(s_t, a_t;\\theta_i)}_{Q-Network} \\Big)^2 \\Bigg]\n",
    "\\end{eqnarray}$$\n",
    "\n",
    "Now first, create a placeholder for the **td-target** ($y_i$). These values have been calculated by the Target-Network and we must feed them again to the main Q-Network. Yes, its really two **separate** networks even though they share some code here. Next we need the value of $Q(s_t, a_t;\\theta_i)$. We can query **all action values** by feeding the mini-batch of `states` ($s_t$) from the buffer to the network (first part of the network). The *problem* is that **we only want to select the action value of the action that was actually taken**. Luckily we have this information as part of the mini-batch. We can feed it with an additional placeholder, let's call it `self.actions`. The idea is now to mask the output of the network with a one-hot encoded representation of the action indices from the placeholder. To do this use `tf.one_hot` and call the resulting node `self.actions_onehot` or similar. Finally multiply the one_hot vector with the output of the network and call `tf.reduce_sum` on the result to obtain a clean list of the action values we want. The resulting node, let's call it `self.Q` holds the values of $Q(s_t, a_t;\\theta_i)$ for the complete mini-batch.\n",
    "\n",
    "> If you feel uncomfortable with this *trick* create a toy example in a separate cell in order to understand whats going on here.\n",
    "\n",
    "Great, now the rest should be straightforward again. Square the difference of `td_target` and `Q` to obtain the **TD-error** and use `tf.reduce_mean` on that to obtain the expected **loss** of the mini-batch. This corresponds to $\\mathbb{E}_{(s,a,r,s') \\sim U(\\mathcal{D})}$ in the formula. Create an optimizer node such as the AdamOptimizer and again, let the user specifiy the learnin rate as a parameter at creation time of the network. Finally minimize the loss and call this final node something like `self.updateModel` or `self.train`.\n",
    "\n",
    "> Note that this is again a *lot* of text but *only* something like ~8 lines of code!"
   ]
  },
  {
   "cell_type": "code",
   "execution_count": 6,
   "metadata": {},
   "outputs": [],
   "source": [
    "import tensorflow as tf\n",
    "\n",
    "import tensorflow as tf\n",
    "\n",
    "class DQNetwork():\n",
    "    \n",
    "    def __init__(self, scope, num_inputs, num_hidden, num_outputs, gamma, learning_rate):\n",
    "\n",
    "        self.scope = scope\n",
    "        \n",
    "        with tf.variable_scope(self.scope):\n",
    "            \n",
    "            # ---------------------\n",
    "            # Basic Deep Q-Network\n",
    "            # ---------------------\n",
    "            # You code comes here     \n",
    "            self.state = tf.placeholder(tf.float32, shape=[None,num_inputs], name=\"StatePlaceholder\")\n",
    "                 \n",
    "            self.hidden = tf.layers.dense(inputs=self.state, units=num_hidden, activation=tf.nn.relu, name=\"hiddenLayer\")\n",
    "                 \n",
    "            self.logits = tf.layers.dense(inputs=self.hidden, units=num_outputs, name=\"logits\")\n",
    "            \n",
    "            self.best_action = tf.argmax(self.logits, name=\"best_action\", axis=1)\n",
    "            \n",
    "            self.max_q = tf.reduce_max(self.logits)\n",
    "                 \n",
    "             \n",
    "            \n",
    "            # ------------------------\n",
    "            # Q-Learning Calculations\n",
    "            # ------------------------\n",
    "               \n",
    "            if scope == 'Target':\n",
    "                # You code comes here  \n",
    "                self.reward_placeholder = tf.placeholder(tf.float32, shape=None, name=\"RewardPlaceholder\")\n",
    "                \n",
    "                self.gamma = tf.constant(value=gamma, name=\"GammaConstant\")\n",
    "                \n",
    "                self.done_placeholder = tf.placeholder(tf.int32, shape = None, name=\"DonePlaceholder\")\n",
    "                \n",
    "                self.td_target = self.reward_placeholder + ((gamma*self.max_q)*tf.cast(tf.abs(self.done_placeholder - 1), tf.float32))\n",
    "                \n",
    "                \n",
    "              \n",
    "                \n",
    "            if scope == 'Q':\n",
    "                # You code comes here\n",
    "                self.td_target_placeholder = tf.placeholder(tf.float32, shape=None, name=\"TD-TargetPlaceholder\")\n",
    "                \n",
    "                self.actions = tf.placeholder(tf.uint8, shape=None, name=\"ActionTakenPlaceholder\")\n",
    "                \n",
    "                self.actions_onehot = tf.one_hot(self.actions, depth=num_outputs)\n",
    "                \n",
    "                self.masked_logits = tf.multiply(self.actions_onehot, self.logits)\n",
    "                \n",
    "                self.Q = tf.reduce_sum (self.masked_logits)\n",
    "                \n",
    "                self.td_error = self.td_target_placeholder - self.Q\n",
    "                \n",
    "                self.expected_loss = tf.reduce_mean(self.td_error**2)\n",
    "                \n",
    "                self.optimizer = tf.train.AdamOptimizer(learning_rate, name=\"AdamOptimizer\")\n",
    "                \n",
    "                self.update_model = self.optimizer.minimize(self.expected_loss, name=\"minimize_loss\")\n",
    "                \n",
    "    "
   ]
  },
  {
   "cell_type": "code",
   "execution_count": 7,
   "metadata": {},
   "outputs": [],
   "source": [
    "# A cell for testing\n",
    "\n"
   ]
  },
  {
   "cell_type": "markdown",
   "metadata": {},
   "source": [
    "### E-Greedy Policy\n",
    "\n",
    "As in the Q-Learning notebook, let us encapsulate the action selection into a separate method. This time however, selecting a greedy max action requires us to perform a forward pass through the Q-Network. The method per se remains as simple as in the Q-Learning case. In order to perform the forward pass of the network though, we have to hand over a reference to the current Tensorflow session object from the main loop etc.\n",
    "\n",
    "Note that the `sess.run` call will most certainly return a list, containing a single action indice. Make sure to *unpack* it properly before returning it. You can test this in separate cell or in the main loop by using a **fixed epsilon value**."
   ]
  },
  {
   "cell_type": "code",
   "execution_count": 8,
   "metadata": {},
   "outputs": [],
   "source": [
    "import numpy as np\n",
    "\n",
    "\n",
    "def choose_egreedy_action(session, current_state, network, epsilon):\n",
    "    probability = [epsilon, 1-epsilon]\n",
    "    \n",
    "    #DEBUG print(\"Probability: \", probability)\n",
    "    \n",
    "    random_method = [0,1]\n",
    "    \n",
    "    action_choice = np.random.choice(random_method, p=probability)\n",
    "    \n",
    "    if action_choice == 0:\n",
    "        # Choose a random Action out of two possibilities (Action 0 and Action 1)\n",
    "        action = np.random.choice(2)\n",
    "        \n",
    "    else:\n",
    "        current_state = np.reshape(current_state, [1, observation_space])\n",
    "        action, max_q, logits = session.run([network.best_action, network.max_q, network.logits], feed_dict={network.state:current_state})\n",
    "        #DEBUG: print(\"Max_q: \",max_q)\n",
    "        #DEBUG: print(\"Logits: \",logits)\n",
    "        action = action[0]\n",
    "    #DEBUG: print(action_choice, \" : \",action)    \n",
    "    return action\n",
    "    "
   ]
  },
  {
   "cell_type": "raw",
   "metadata": {},
   "source": [
    "tf.reset_default_graph()\n",
    "\n",
    "QNetwork = DQNetwork(\"Q1\", 2, 64, 4, 0.9, 0.1) \n",
    "\n",
    "init = tf.global_variables_initializer()\n",
    "\n",
    "with tf.Session() as sess:\n",
    "    sess.run(init)\n",
    "    states = []\n",
    "    states.append((0,4))\n",
    "    action = choose_egreedy_action(session=sess, current_state=states, network=QNetwork, epsilon=0.001)\n",
    "    \n",
    "\n",
    "    print(action)"
   ]
  },
  {
   "cell_type": "markdown",
   "metadata": {},
   "source": [
    "### Update the Target Network\n",
    "\n",
    "As explained in the theory part, the Target-Network will be fixed for some time $C$ while the main Q-Network gets update every training/update step. Every $C$ time steps however we want to *switch* the networks or better, update the Target-Network with the latest information from the Q-Network. This basically means that we want to copy over all weights from the Q-Network and assign them to the Target-Network. The Q-Network itself remains unchanged. We will control this freeze frequency later inside the main loop and execute the copy process only every $C$ time steps.\n",
    "\n",
    "Assigning new values to variables in Tensorflow can be done with the `tf.assign` method. But, as everything in TensorFlow, these assign operations will be tensor nodes and **we have to create them before we start the session**. Since they don't belong to any of the networks let us do this in an extra method.\n",
    "\n",
    "> Note that in (before) the main loop you will have to create both networks first and then hand them to the `get_update_target_ops` method to obtain the list of assign operations!\n",
    "\n",
    "- get all trainable variables of a network with `tf.trainable_variables(scope=)`.\n",
    "- better sort the lists using `sorted` and the `attrgetter` helper, e.g `Q_vars = sorted(Q_vars, key=attrgetter('name'))`.\n",
    "- create an empty list for the assign expressions, let's call them something like `update_target_expr`.\n",
    "- loop over the variable lists and create assign opertations, e.g. `t_var.assign(q_var)`. Append them to the expression list.\n",
    "- a handy way for iterating over two lists is zip in a for loop. See the cell below for a little demo.\n",
    "- return the list of assign operations. You can later simply call `sess.run(update_target_expr)` to run all of the assign operations.\n",
    "\n",
    "\n",
    "Use the cells below to test your implementation with some toy networks!"
   ]
  },
  {
   "cell_type": "code",
   "execution_count": 9,
   "metadata": {},
   "outputs": [
    {
     "name": "stdout",
     "output_type": "stream",
     "text": [
      "1 4\n",
      "2 5\n",
      "3 6\n"
     ]
    }
   ],
   "source": [
    "# Zip demo\n",
    "x = [1,2,3]\n",
    "y = [4,5,6]\n",
    "\n",
    "for x,y in zip(x,y):\n",
    "    print(x,y)"
   ]
  },
  {
   "cell_type": "code",
   "execution_count": 10,
   "metadata": {},
   "outputs": [],
   "source": [
    "from operator import attrgetter\n",
    "\n",
    "def get_update_target_ops(Q_network, Target_network):\n",
    "\n",
    "    # You code comes here     \n",
    "    # 1. get the trainable variables per network\n",
    "    q_train_vars = tf.trainable_variables(scope=Q_network.scope)\n",
    "    target_train_vars = tf.trainable_variables(scope=Target_network.scope)\n",
    "    \n",
    "    # 2. sort them with sorted(list, key=attrgetter())\n",
    "    q_train_vars = sorted(q_train_vars, key=attrgetter(\"name\"))\n",
    "    target_train_vars = sorted(target_train_vars, key=attrgetter(\"name\"))\n",
    "    \n",
    "    #print(q_train_vars)\n",
    "    # 3.create a new list with all assign ops\n",
    "    update_target_expr = []\n",
    "    \n",
    "    for q_var, t_var in zip (q_train_vars, target_train_vars):\n",
    "        assign_task = t_var.assign(q_var)\n",
    "        update_target_expr.append(assign_task)\n",
    "\n",
    "    return update_target_expr"
   ]
  },
  {
   "cell_type": "code",
   "execution_count": 11,
   "metadata": {},
   "outputs": [
    {
     "name": "stdout",
     "output_type": "stream",
     "text": [
      "WARNING:tensorflow:From <ipython-input-6-18e03700f04d>:19: dense (from tensorflow.python.layers.core) is deprecated and will be removed in a future version.\n",
      "Instructions for updating:\n",
      "Use keras.layers.dense instead.\n",
      "WARNING:tensorflow:From c:\\users\\chris\\appdata\\local\\conda\\conda\\envs\\pia\\lib\\site-packages\\tensorflow\\python\\framework\\op_def_library.py:263: colocate_with (from tensorflow.python.framework.ops) is deprecated and will be removed in a future version.\n",
      "Instructions for updating:\n",
      "Colocations handled automatically by placer.\n",
      "List of created Assign operations\n",
      "[<tf.Tensor 'Assign:0' shape=(2,) dtype=float32_ref>, <tf.Tensor 'Assign_1:0' shape=(1, 2) dtype=float32_ref>, <tf.Tensor 'Assign_2:0' shape=(1,) dtype=float32_ref>, <tf.Tensor 'Assign_3:0' shape=(2, 1) dtype=float32_ref>]\n",
      "\n",
      " Q1 Variables\n",
      "[<tf.Variable 'Q1/hiddenLayer/kernel:0' shape=(1, 2) dtype=float32_ref>, <tf.Variable 'Q1/hiddenLayer/bias:0' shape=(2,) dtype=float32_ref>, <tf.Variable 'Q1/logits/kernel:0' shape=(2, 1) dtype=float32_ref>, <tf.Variable 'Q1/logits/bias:0' shape=(1,) dtype=float32_ref>]\n",
      "\n",
      " Q2 Variables\n",
      "[<tf.Variable 'Q2/hiddenLayer/kernel:0' shape=(1, 2) dtype=float32_ref>, <tf.Variable 'Q2/hiddenLayer/bias:0' shape=(2,) dtype=float32_ref>, <tf.Variable 'Q2/logits/kernel:0' shape=(2, 1) dtype=float32_ref>, <tf.Variable 'Q2/logits/bias:0' shape=(1,) dtype=float32_ref>]\n",
      "\n",
      " Q1 Values\n",
      "[array([[-0.84206164, -0.46590674]], dtype=float32), array([0., 0.], dtype=float32), array([[-1.4012222],\n",
      "       [-0.5719462]], dtype=float32), array([0.], dtype=float32)]\n",
      "\n",
      " Q2 Values\n",
      "[array([[ 0.18239939, -0.839667  ]], dtype=float32), array([0., 0.], dtype=float32), array([[-0.9036901 ],\n",
      "       [ 0.36009288]], dtype=float32), array([0.], dtype=float32)]\n",
      "\n",
      " Q2 Values AFTER network copy. Should now be identical to the values of Q1\n",
      "[array([[-0.84206164, -0.46590674]], dtype=float32), array([0., 0.], dtype=float32), array([[-1.4012222],\n",
      "       [-0.5719462]], dtype=float32), array([0.], dtype=float32)]\n"
     ]
    }
   ],
   "source": [
    "# TESTING get_update_target_ops with some toy networks\n",
    "tf.reset_default_graph()\n",
    "Q1 = DQNetwork(\"Q1\", 1,2,1, 0.9, 0.1) \n",
    "Q2 = DQNetwork(\"Q2\", 1,2,1, 0.9, 0.1)\n",
    "\n",
    "Q1_vars = tf.trainable_variables(scope=\"Q1\")\n",
    "Q2_vars = tf.trainable_variables(scope=\"Q2\")\n",
    "update_target_expr = get_update_target_ops(Q1, Q2)\n",
    "\n",
    "print(\"List of created Assign operations\"), print(update_target_expr)\n",
    "print(\"\\n Q1 Variables\"), print(Q1_vars)\n",
    "print(\"\\n Q2 Variables\"), print(Q2_vars)\n",
    "\n",
    "with tf.Session() as sess:\n",
    "    sess.run(tf.global_variables_initializer())        \n",
    "\n",
    "    print(\"\\n Q1 Values\"), print(sess.run(Q1_vars))\n",
    "    print(\"\\n Q2 Values\"), print(sess.run(Q2_vars))\n",
    "    \n",
    "    sess.run(update_target_expr)\n",
    "\n",
    "    print(\"\\n Q2 Values AFTER network copy. Should now be identical to the values of Q1\")\n",
    "    print(sess.run(Q2_vars))  "
   ]
  },
  {
   "cell_type": "markdown",
   "metadata": {},
   "source": [
    "### Train Method\n",
    "\n",
    "Finally let's create a method to run the actual network training. Doing this in an extra method is not necessary per se but un-clutters the main loop a lot. The implementation requires the following three steps:\n",
    "\n",
    "1. Sample a mini-batch of experience from the replay buffer. In order to feed everything to the DQNetworks, the mixed batch must be reshaped into separate **list** batches (`[]`!) of `observations, actions, rewards, next_observations` and `done`. Make sure this true before creating corresponding feed_dicts! Depending on your replay buffer implementation you way find it handy to use `zip` again and apply the `list` operator with the `map` function, e.g. `map(list, zip(*batch))`. See the cell below for an UnZip demo.\n",
    "2. Prepare an appropriate `feed_dict` and get the `td_target` values by running the Target-Network.\n",
    "3. Prepare an appropriate `feed_dict` and run the `update_model` or `train` operation of the main Q-Network.\n",
    "\n",
    "Now we can simply call `train` inside the main loop every time we want to train the Q-Network."
   ]
  },
  {
   "cell_type": "code",
   "execution_count": 12,
   "metadata": {},
   "outputs": [
    {
     "name": "stdout",
     "output_type": "stream",
     "text": [
      "(1, 1, 1)\n",
      "(2, 2, 2)\n",
      "(3, 3, 3)\n"
     ]
    }
   ],
   "source": [
    "# UnZip demo *\n",
    "mini_batch = [[1,2,3], [1,2,3], [1,2,3]]\n",
    "    \n",
    "for i in zip(*mini_batch):\n",
    "    print(i)"
   ]
  },
  {
   "cell_type": "raw",
   "metadata": {},
   "source": [
    "\n",
    "\n",
    "game = gym.make(\"CartPole-v0\")\n",
    "\n",
    "rb = ReplayBuffer(3)\n",
    "\n",
    "action_space = game.action_space.n\n",
    "\n",
    "a = 0\n",
    "for a in range(2):\n",
    "    state = game.reset()\n",
    "    x = 0\n",
    "    while x in range(0,10):\n",
    "        random_action = np.random.randint(0,action_space)\n",
    "        state_next, reward, terminal, info  = game.step(random_action)\n",
    "        #print(\"added\")\n",
    "        rb.add(state, random_action, reward, state_next, terminal)\n",
    "        #print(state)\n",
    "\n",
    "        game.render()\n",
    "        x+=1 \n",
    "        state = state_next\n",
    "    \n",
    "    a+=1\n",
    "        \n",
    "game.close()\n",
    "\n",
    "#print(rb)\n",
    "\n",
    "samp = rb.sample(2)\n",
    "separate_lists = list(map(list, zip(*samp)))\n",
    "print(separate_lists[3])\n",
    "\n",
    "    \n"
   ]
  },
  {
   "cell_type": "code",
   "execution_count": 13,
   "metadata": {},
   "outputs": [],
   "source": [
    "def train(sess, Q, Target, buffer, batch_size):\n",
    "\n",
    "    # You code comes here     \n",
    "    # 1. Sample from the replay buffer\n",
    "    sample = buffer.sample(batch_size)\n",
    "    \n",
    "    separate_lists = list(map(list, zip(*sample)))\n",
    "\n",
    "    observations = separate_lists[0]\n",
    "    actions = separate_lists[1]\n",
    "    rewards = separate_lists[2]\n",
    "    next_observations = separate_lists[3]\n",
    "    done = separate_lists[4]\n",
    "    \n",
    "    \n",
    "    # 2. Retrieve the TD-target values from the Target-Network\n",
    "    #inputs = []\n",
    "    #for obs, act, rew, nex in zip(observations, actions, rewards, next_observations):\n",
    "    #    inputs.append([obs, act, rew, nex])\n",
    "    \n",
    "    for i in range(batch_size):\n",
    "        \n",
    "        \n",
    "        next_observations[i] = np.reshape(next_observations[i], [1, observation_space])\n",
    "        td_target_feed = {Target.state:next_observations[i], Target.reward_placeholder:rewards[i], Target.done_placeholder:done[i]}\n",
    "\n",
    "        td_target = sess.run(Target.td_target, feed_dict=td_target_feed)\n",
    "\n",
    "        # 3. Perform a training step by running the main Q-Network\n",
    "\n",
    "        observations[i] = np.reshape(observations[i], [1, observation_space])\n",
    "        sess.run(Q.update_model, feed_dict={Q.state:observations[i], Q.td_target_placeholder: td_target, Q.actions:actions[i]})\n",
    "    \n",
    "    "
   ]
  },
  {
   "cell_type": "markdown",
   "metadata": {},
   "source": [
    "### Main Loop\n",
    "\n",
    "Below you can see the **Deep Q-Learning** pseudo code from the original paper. This will help you to get at least the main parts of the algorithm right and should serve as a rough blue print of when to do what inside the loop. In practice, there are many more subtle details which are not mentioned explicitly. For that reason we provide you an additional checklist below the algorithm so you don't miss anything important. **As in the last notebook we strongly recommend to start simple and work through the steps one by one!** In addition, the checklist provides some sane default ranges for the hyperparameters to get you started. Try different settings and make it work :) **If you have problems, better start with *huge* values and reduce them step by step as needed!**\n",
    "\n",
    "> Hint: Personally I like to put the (hyperparameters and the preparation stuff) and the actual loop in separate code cells. You don't have to follow this *convention*. If you prefer one huge code cell, that's fine. Just do what works best for you!\n",
    "\n",
    "---\n",
    "##### Deep Q-Learning with experience replay\n",
    "\n",
    "- Initialize replay memory $D$ to capacity $N$\n",
    "- Initialize action-value function $Q$ with random weights $\\theta$\n",
    "- Initialize target action-value function $\\hat{Q}$ with random weights $\\theta^{-}$\n",
    "\n",
    "- **For** $t = 1, T$ **do**\n",
    "    - With probability $\\epsilon$ select a random action $a_t$\n",
    "    - otherwise select $a_t = \\text{arg}\\max_a Q(s_t,a;\\theta)$\n",
    "    <br><br>\n",
    "    - Execute action $a_t$ in emulator and observe reward $r_t$ and state $s_{t+1}$\n",
    "    - Store transition $(s_t,a_t,r_t,s_{t+1})$ in $D$\n",
    "    - Sample random minibatch transitions $(s_j,a_j,r_j,s_{j+1})$ from $D$\n",
    "    - set    \n",
    "    $\n",
    "    y_j = \\begin{cases}\n",
    "          r_j  & \\text{if episode terminates at step } j + 1 \\\\               \n",
    "          r_j + \\gamma \\max_a \\hat{Q}(s_{j+1}, a; \\theta^{-})  & \\text{otherwise}\n",
    "        \\end{cases}\n",
    "$\n",
    "    \n",
    "    - Perform a gradient descent step on $\\big(y_j - Q(s_j,a_j;\\theta)\\big)^2$ with respect to the network parameters $\\theta$\n",
    "    - Every $C$ steps reset $\\hat{Q} = Q$\n",
    "- **End For**\n",
    "---\n",
    "#####  Deep Q-Learning - PIA checklist \n",
    "\n",
    "> This is a helpful checklist without any claim to completeness. Depending on your implementation you may add, change or remove parameters as you like!\n",
    "\n",
    "**Preparation and hyper parameters**\n",
    "\n",
    "- Epsilon Schedule\n",
    "    - `start_epsilon` $1$\n",
    "    - `final_epsilon` $\\in \\{0.02,0.1\\}$ \n",
    "    - `pre_training_steps` $\\sim[32,...,10000]$\n",
    "    - `final_exploration_step` $\\sim [100,...,40000]$\n",
    "\n",
    "- Replay Buffer\n",
    "    - `buffer_size` $N \\in \\{32,100,500,1000,10000,50000, ...?\\}$ (Bigger is better but try small ones too!)\n",
    "\n",
    "- Training\n",
    "    - total/max time steps `T` $\\in \\{10k,20k,30k,40k,100k\\}$\n",
    "    - `training_freq` $1$ - train the Q-Network only every $n$ steps. For now just use 1 as default.\n",
    "    - `switch_networks` $C \\sim 500$ \n",
    "    - `gamma` $\\in \\{0.9, 0.99, 1\\}$\n",
    "    - `batch_size` $32$\n",
    "    - `learning_rate` $0.001$\n",
    "    \n",
    "- Model\n",
    "    - always call `tf.reset_default_graph()` before creating a new graph\n",
    "    - get the `observation_space` and `action_space` from the game env\n",
    "    - `num_hidden` $64$\n",
    "    - create a `Q_network` and `T_network` with scope `\"Q\"` and `\"Target\"`\n",
    "    - save the result from `get_update_target_ops` to something like `update_target_network`\n",
    "    \n",
    "**Inside the Loop**\n",
    "\n",
    "- Use the pseudo code as a guideline\n",
    "- Remember to train and switch the networks only after `t` becomes `t > pre_training_steps`\n",
    "- Maybe obvious but remember to set `observation = new_observation` for $t+1$\n",
    "\n",
    "**If the Loop runs without errors**\n",
    "\n",
    "- Create insight\n",
    "    - keep track of the episode rewards, calculate a 10 mean, 100 mean\n",
    "    - print some info every $n'th \\sim 2000$ time step, e.g. current step, epsilon, mean reward etc.\n",
    "    - plot the epsilon schedule vs. the reward\n",
    "   \n",
    "- Save/Load the model - needed for the test evaluation later\n",
    "    - `saver = tf.train.Saver()` - outside the session\n",
    "    - `saver.save(sess, \"./some_path/model.ckpt\")` - with an active session\n",
    "    - `saver.restore(sess, \"./some_path/model.ckpt\")` - with a new session. In this case `tf.global_variables_initializer()` is not required. A fitting graph definition however is. If there is none left in ram, e.g. if the kernel was restartet, make sure you recreate the graph definition before restoring (at least the main Q-Network). You will need it anyway to reference nodes in the `sess.run` calls later. "
   ]
  },
  {
   "cell_type": "code",
   "execution_count": 14,
   "metadata": {},
   "outputs": [],
   "source": [
    "import gym\n",
    "import tensorflow as tf\n",
    "\n",
    "# Create a new game\n",
    "game = gym.make('CartPole-v0')"
   ]
  },
  {
   "cell_type": "code",
   "execution_count": 15,
   "metadata": {},
   "outputs": [],
   "source": [
    "# Your code comes here\n",
    "tf.reset_default_graph()\n",
    "\n",
    "# Hyperparameters:\n",
    "## Epsilon Schedule\n",
    "start_epsilon = 1 \n",
    "final_epsilon = 0.02 \n",
    "pre_training_steps = 4000\n",
    "final_exploration_step = 20000\n",
    "epsilon_schedule = LinearSchedule(start_epsilon, final_epsilon, pre_training_steps, final_exploration_step)\n",
    "\n",
    "## Replay Buffer\n",
    "buffer_size = 5000\n",
    "\n",
    "## Training\n",
    "### Max Trainsteps T\n",
    "T = 50000\n",
    "### Currently use 1 as Train Frequency 1 = 100% of steps are being trained\n",
    "train_freq = 1\n",
    "### Update the Target Network every 500 steps\n",
    "switch_networks = 500\n",
    "### Set Gamma\n",
    "gamma = 0.95\n",
    "### Set Batch Size\n",
    "batch_size = 32\n",
    "### Set Learning Rate\n",
    "learn_rate = 0.001\n",
    "\n",
    "##Model\n",
    "hidden_layers = 64"
   ]
  },
  {
   "cell_type": "code",
   "execution_count": 16,
   "metadata": {},
   "outputs": [
    {
     "name": "stdout",
     "output_type": "stream",
     "text": [
      "WARNING:tensorflow:From c:\\users\\chris\\appdata\\local\\conda\\conda\\envs\\pia\\lib\\site-packages\\tensorflow\\python\\ops\\math_ops.py:3066: to_int32 (from tensorflow.python.ops.math_ops) is deprecated and will be removed in a future version.\n",
      "Instructions for updating:\n",
      "Use tf.cast instead.\n"
     ]
    }
   ],
   "source": [
    "#Preparation\n",
    "replay = ReplayBuffer(buffer_size)\n",
    "Q_network = DQNetwork(\"Q\",\n",
    "                      game.observation_space.shape[0],\n",
    "                      hidden_layers,\n",
    "                      game.action_space.n,\n",
    "                      gamma,\n",
    "                      learn_rate)\n",
    "\n",
    "Target_network = DQNetwork(\"Target\",\n",
    "                           game.observation_space.shape[0],\n",
    "                           hidden_layers,\n",
    "                           game.action_space.n,\n",
    "                           gamma,\n",
    "                           learn_rate)\n",
    "\n",
    "update_target_network = get_update_target_ops(Q_network,Target_network)"
   ]
  },
  {
   "cell_type": "code",
   "execution_count": 17,
   "metadata": {},
   "outputs": [],
   "source": [
    "# Plotting Values\n",
    "epsilon_plot = []\n",
    "episode_length_plot = []\n",
    "episode_reward_plot = []"
   ]
  },
  {
   "cell_type": "code",
   "execution_count": 18,
   "metadata": {},
   "outputs": [
    {
     "name": "stderr",
     "output_type": "stream",
     "text": [
      "  9%|██████▊                                                                    | 4500/50000 [00:47<1:10:00, 10.83it/s]"
     ]
    },
    {
     "name": "stdout",
     "output_type": "stream",
     "text": [
      "update Target network\n"
     ]
    },
    {
     "name": "stderr",
     "output_type": "stream",
     "text": [
      " 10%|███████▍                                                                   | 4999/50000 [01:31<1:07:53, 11.05it/s]"
     ]
    },
    {
     "name": "stdout",
     "output_type": "stream",
     "text": [
      "update Target network\n"
     ]
    },
    {
     "name": "stderr",
     "output_type": "stream",
     "text": [
      " 11%|████████▏                                                                  | 5499/50000 [02:14<1:05:25, 11.34it/s]"
     ]
    },
    {
     "name": "stdout",
     "output_type": "stream",
     "text": [
      "update Target network\n"
     ]
    },
    {
     "name": "stderr",
     "output_type": "stream",
     "text": [
      " 12%|████████▉                                                                  | 5999/50000 [02:58<1:06:21, 11.05it/s]"
     ]
    },
    {
     "name": "stdout",
     "output_type": "stream",
     "text": [
      "update Target network\n"
     ]
    },
    {
     "name": "stderr",
     "output_type": "stream",
     "text": [
      " 13%|█████████▋                                                                 | 6499/50000 [03:42<1:06:17, 10.94it/s]"
     ]
    },
    {
     "name": "stdout",
     "output_type": "stream",
     "text": [
      "update Target network\n"
     ]
    },
    {
     "name": "stderr",
     "output_type": "stream",
     "text": [
      " 14%|██████████▍                                                                | 6999/50000 [04:27<1:05:43, 10.91it/s]"
     ]
    },
    {
     "name": "stdout",
     "output_type": "stream",
     "text": [
      "update Target network\n"
     ]
    },
    {
     "name": "stderr",
     "output_type": "stream",
     "text": [
      " 15%|███████████▎                                                               | 7500/50000 [05:14<1:10:50, 10.00it/s]"
     ]
    },
    {
     "name": "stdout",
     "output_type": "stream",
     "text": [
      "update Target network\n"
     ]
    },
    {
     "name": "stderr",
     "output_type": "stream",
     "text": [
      " 16%|███████████▉                                                               | 7999/50000 [06:05<1:04:17, 10.89it/s]"
     ]
    },
    {
     "name": "stdout",
     "output_type": "stream",
     "text": [
      "update Target network\n"
     ]
    },
    {
     "name": "stderr",
     "output_type": "stream",
     "text": [
      " 17%|████████████▊                                                              | 8500/50000 [06:52<1:10:20,  9.83it/s]"
     ]
    },
    {
     "name": "stdout",
     "output_type": "stream",
     "text": [
      "update Target network\n"
     ]
    },
    {
     "name": "stderr",
     "output_type": "stream",
     "text": [
      " 18%|█████████████▌                                                             | 9000/50000 [07:49<1:27:44,  7.79it/s]"
     ]
    },
    {
     "name": "stdout",
     "output_type": "stream",
     "text": [
      "update Target network\n"
     ]
    },
    {
     "name": "stderr",
     "output_type": "stream",
     "text": [
      " 19%|██████████████▎                                                            | 9500/50000 [08:46<1:14:45,  9.03it/s]"
     ]
    },
    {
     "name": "stdout",
     "output_type": "stream",
     "text": [
      "update Target network\n"
     ]
    },
    {
     "name": "stderr",
     "output_type": "stream",
     "text": [
      " 20%|██████████████▉                                                            | 9999/50000 [09:40<1:09:54,  9.54it/s]"
     ]
    },
    {
     "name": "stdout",
     "output_type": "stream",
     "text": [
      "update Target network\n"
     ]
    },
    {
     "name": "stderr",
     "output_type": "stream",
     "text": [
      " 21%|███████████████▌                                                          | 10500/50000 [10:32<1:07:50,  9.70it/s]"
     ]
    },
    {
     "name": "stdout",
     "output_type": "stream",
     "text": [
      "update Target network\n"
     ]
    },
    {
     "name": "stderr",
     "output_type": "stream",
     "text": [
      " 22%|████████████████▎                                                         | 10999/50000 [11:24<1:09:46,  9.31it/s]"
     ]
    },
    {
     "name": "stdout",
     "output_type": "stream",
     "text": [
      "update Target network\n"
     ]
    },
    {
     "name": "stderr",
     "output_type": "stream",
     "text": [
      " 23%|█████████████████                                                         | 11500/50000 [12:17<1:05:30,  9.79it/s]"
     ]
    },
    {
     "name": "stdout",
     "output_type": "stream",
     "text": [
      "update Target network\n"
     ]
    },
    {
     "name": "stderr",
     "output_type": "stream",
     "text": [
      " 24%|█████████████████▊                                                        | 12000/50000 [13:13<1:11:43,  8.83it/s]"
     ]
    },
    {
     "name": "stdout",
     "output_type": "stream",
     "text": [
      "update Target network\n"
     ]
    },
    {
     "name": "stderr",
     "output_type": "stream",
     "text": [
      " 25%|██████████████████▌                                                       | 12500/50000 [14:04<1:05:18,  9.57it/s]"
     ]
    },
    {
     "name": "stdout",
     "output_type": "stream",
     "text": [
      "update Target network\n"
     ]
    },
    {
     "name": "stderr",
     "output_type": "stream",
     "text": [
      " 26%|███████████████████▏                                                      | 12999/50000 [14:53<1:03:04,  9.78it/s]"
     ]
    },
    {
     "name": "stdout",
     "output_type": "stream",
     "text": [
      "update Target network\n"
     ]
    },
    {
     "name": "stderr",
     "output_type": "stream",
     "text": [
      " 27%|████████████████████▌                                                       | 13499/50000 [15:47<54:32, 11.15it/s]"
     ]
    },
    {
     "name": "stdout",
     "output_type": "stream",
     "text": [
      "update Target network\n"
     ]
    },
    {
     "name": "stderr",
     "output_type": "stream",
     "text": [
      " 28%|█████████████████████▎                                                      | 14000/50000 [16:37<54:47, 10.95it/s]"
     ]
    },
    {
     "name": "stdout",
     "output_type": "stream",
     "text": [
      "update Target network\n"
     ]
    },
    {
     "name": "stderr",
     "output_type": "stream",
     "text": [
      " 29%|██████████████████████                                                      | 14500/50000 [17:31<55:06, 10.74it/s]"
     ]
    },
    {
     "name": "stdout",
     "output_type": "stream",
     "text": [
      "update Target network\n"
     ]
    },
    {
     "name": "stderr",
     "output_type": "stream",
     "text": [
      " 30%|██████████████████████▏                                                   | 15000/50000 [18:26<1:13:14,  7.97it/s]"
     ]
    },
    {
     "name": "stdout",
     "output_type": "stream",
     "text": [
      "update Target network\n"
     ]
    },
    {
     "name": "stderr",
     "output_type": "stream",
     "text": [
      " 31%|██████████████████████▉                                                   | 15500/50000 [19:21<1:02:26,  9.21it/s]"
     ]
    },
    {
     "name": "stdout",
     "output_type": "stream",
     "text": [
      "update Target network\n"
     ]
    },
    {
     "name": "stderr",
     "output_type": "stream",
     "text": [
      " 32%|███████████████████████▋                                                  | 16000/50000 [20:20<1:13:48,  7.68it/s]"
     ]
    },
    {
     "name": "stdout",
     "output_type": "stream",
     "text": [
      "update Target network\n"
     ]
    },
    {
     "name": "stderr",
     "output_type": "stream",
     "text": [
      " 33%|████████████████████████▍                                                 | 16500/50000 [21:17<1:03:29,  8.79it/s]"
     ]
    },
    {
     "name": "stdout",
     "output_type": "stream",
     "text": [
      "update Target network\n"
     ]
    },
    {
     "name": "stderr",
     "output_type": "stream",
     "text": [
      " 34%|█████████████████████████▏                                                | 17000/50000 [22:13<1:22:47,  6.64it/s]"
     ]
    },
    {
     "name": "stdout",
     "output_type": "stream",
     "text": [
      "update Target network\n"
     ]
    },
    {
     "name": "stderr",
     "output_type": "stream",
     "text": [
      " 35%|█████████████████████████▉                                                | 17500/50000 [23:10<1:06:56,  8.09it/s]"
     ]
    },
    {
     "name": "stdout",
     "output_type": "stream",
     "text": [
      "update Target network\n"
     ]
    },
    {
     "name": "stderr",
     "output_type": "stream",
     "text": [
      " 36%|██████████████████████████▋                                               | 18000/50000 [24:06<1:00:06,  8.87it/s]"
     ]
    },
    {
     "name": "stdout",
     "output_type": "stream",
     "text": [
      "update Target network\n"
     ]
    },
    {
     "name": "stderr",
     "output_type": "stream",
     "text": [
      " 37%|████████████████████████████                                                | 18500/50000 [24:59<52:59,  9.91it/s]"
     ]
    },
    {
     "name": "stdout",
     "output_type": "stream",
     "text": [
      "update Target network\n"
     ]
    },
    {
     "name": "stderr",
     "output_type": "stream",
     "text": [
      " 38%|████████████████████████████▉                                               | 19000/50000 [25:52<55:30,  9.31it/s]"
     ]
    },
    {
     "name": "stdout",
     "output_type": "stream",
     "text": [
      "update Target network\n"
     ]
    },
    {
     "name": "stderr",
     "output_type": "stream",
     "text": [
      " 39%|█████████████████████████████▋                                              | 19500/50000 [26:43<47:16, 10.75it/s]"
     ]
    },
    {
     "name": "stdout",
     "output_type": "stream",
     "text": [
      "update Target network\n"
     ]
    },
    {
     "name": "stderr",
     "output_type": "stream",
     "text": [
      " 40%|██████████████████████████████▍                                             | 20000/50000 [27:34<53:51,  9.28it/s]"
     ]
    },
    {
     "name": "stdout",
     "output_type": "stream",
     "text": [
      "update Target network\n"
     ]
    },
    {
     "name": "stderr",
     "output_type": "stream",
     "text": [
      " 41%|███████████████████████████████▏                                            | 20499/50000 [28:24<48:58, 10.04it/s]"
     ]
    },
    {
     "name": "stdout",
     "output_type": "stream",
     "text": [
      "update Target network\n"
     ]
    },
    {
     "name": "stderr",
     "output_type": "stream",
     "text": [
      " 42%|███████████████████████████████▉                                            | 21000/50000 [29:14<51:43,  9.34it/s]"
     ]
    },
    {
     "name": "stdout",
     "output_type": "stream",
     "text": [
      "update Target network\n"
     ]
    },
    {
     "name": "stderr",
     "output_type": "stream",
     "text": [
      " 43%|████████████████████████████████▋                                           | 21500/50000 [30:04<50:26,  9.42it/s]"
     ]
    },
    {
     "name": "stdout",
     "output_type": "stream",
     "text": [
      "update Target network\n"
     ]
    },
    {
     "name": "stderr",
     "output_type": "stream",
     "text": [
      " 44%|████████████████████████████████▌                                         | 22000/50000 [31:08<1:40:43,  4.63it/s]"
     ]
    },
    {
     "name": "stdout",
     "output_type": "stream",
     "text": [
      "update Target network\n"
     ]
    },
    {
     "name": "stderr",
     "output_type": "stream",
     "text": [
      " 45%|█████████████████████████████████▎                                        | 22500/50000 [32:18<1:02:45,  7.30it/s]"
     ]
    },
    {
     "name": "stdout",
     "output_type": "stream",
     "text": [
      "update Target network\n"
     ]
    },
    {
     "name": "stderr",
     "output_type": "stream",
     "text": [
      " 46%|██████████████████████████████████▉                                         | 23000/50000 [33:45<58:00,  7.76it/s]"
     ]
    },
    {
     "name": "stdout",
     "output_type": "stream",
     "text": [
      "update Target network\n"
     ]
    },
    {
     "name": "stderr",
     "output_type": "stream",
     "text": [
      " 47%|██████████████████████████████████▊                                       | 23500/50000 [35:01<1:17:02,  5.73it/s]"
     ]
    },
    {
     "name": "stdout",
     "output_type": "stream",
     "text": [
      "update Target network\n"
     ]
    },
    {
     "name": "stderr",
     "output_type": "stream",
     "text": [
      " 48%|████████████████████████████████████▍                                       | 24000/50000 [36:13<53:11,  8.15it/s]"
     ]
    },
    {
     "name": "stdout",
     "output_type": "stream",
     "text": [
      "update Target network\n"
     ]
    },
    {
     "name": "stderr",
     "output_type": "stream",
     "text": [
      " 49%|█████████████████████████████████████▏                                      | 24500/50000 [37:20<52:18,  8.12it/s]"
     ]
    },
    {
     "name": "stdout",
     "output_type": "stream",
     "text": [
      "update Target network\n"
     ]
    },
    {
     "name": "stderr",
     "output_type": "stream",
     "text": [
      " 50%|██████████████████████████████████████                                      | 25000/50000 [38:30<52:56,  7.87it/s]"
     ]
    },
    {
     "name": "stdout",
     "output_type": "stream",
     "text": [
      "update Target network\n"
     ]
    },
    {
     "name": "stderr",
     "output_type": "stream",
     "text": [
      " 51%|█████████████████████████████████████▋                                    | 25500/50000 [39:41<1:05:13,  6.26it/s]"
     ]
    },
    {
     "name": "stdout",
     "output_type": "stream",
     "text": [
      "update Target network\n"
     ]
    },
    {
     "name": "stderr",
     "output_type": "stream",
     "text": [
      " 52%|██████████████████████████████████████▍                                   | 26000/50000 [40:55<1:00:17,  6.63it/s]"
     ]
    },
    {
     "name": "stdout",
     "output_type": "stream",
     "text": [
      "update Target network\n"
     ]
    },
    {
     "name": "stderr",
     "output_type": "stream",
     "text": [
      " 53%|████████████████████████████████████████▎                                   | 26500/50000 [42:09<48:13,  8.12it/s]"
     ]
    },
    {
     "name": "stdout",
     "output_type": "stream",
     "text": [
      "update Target network\n"
     ]
    },
    {
     "name": "stderr",
     "output_type": "stream",
     "text": [
      " 54%|█████████████████████████████████████████                                   | 27000/50000 [43:12<48:38,  7.88it/s]"
     ]
    },
    {
     "name": "stdout",
     "output_type": "stream",
     "text": [
      "update Target network\n"
     ]
    },
    {
     "name": "stderr",
     "output_type": "stream",
     "text": [
      " 55%|█████████████████████████████████████████▊                                  | 27500/50000 [44:14<45:47,  8.19it/s]"
     ]
    },
    {
     "name": "stdout",
     "output_type": "stream",
     "text": [
      "update Target network\n"
     ]
    },
    {
     "name": "stderr",
     "output_type": "stream",
     "text": [
      " 56%|██████████████████████████████████████████▌                                 | 28000/50000 [45:23<47:42,  7.69it/s]"
     ]
    },
    {
     "name": "stdout",
     "output_type": "stream",
     "text": [
      "update Target network\n"
     ]
    },
    {
     "name": "stderr",
     "output_type": "stream",
     "text": [
      " 57%|███████████████████████████████████████████▎                                | 28500/50000 [46:38<45:18,  7.91it/s]"
     ]
    },
    {
     "name": "stdout",
     "output_type": "stream",
     "text": [
      "update Target network\n"
     ]
    },
    {
     "name": "stderr",
     "output_type": "stream",
     "text": [
      " 58%|████████████████████████████████████████████                                | 29000/50000 [47:48<42:58,  8.15it/s]"
     ]
    },
    {
     "name": "stdout",
     "output_type": "stream",
     "text": [
      "update Target network\n"
     ]
    },
    {
     "name": "stderr",
     "output_type": "stream",
     "text": [
      " 59%|████████████████████████████████████████████▊                               | 29500/50000 [48:50<42:54,  7.96it/s]"
     ]
    },
    {
     "name": "stdout",
     "output_type": "stream",
     "text": [
      "update Target network\n"
     ]
    },
    {
     "name": "stderr",
     "output_type": "stream",
     "text": [
      " 60%|█████████████████████████████████████████████▌                              | 30000/50000 [49:52<40:51,  8.16it/s]"
     ]
    },
    {
     "name": "stdout",
     "output_type": "stream",
     "text": [
      "update Target network\n"
     ]
    },
    {
     "name": "stderr",
     "output_type": "stream",
     "text": [
      " 61%|██████████████████████████████████████████████▎                             | 30500/50000 [50:52<35:16,  9.21it/s]"
     ]
    },
    {
     "name": "stdout",
     "output_type": "stream",
     "text": [
      "update Target network\n"
     ]
    },
    {
     "name": "stderr",
     "output_type": "stream",
     "text": [
      " 62%|███████████████████████████████████████████████                             | 31000/50000 [52:16<57:48,  5.48it/s]"
     ]
    },
    {
     "name": "stdout",
     "output_type": "stream",
     "text": [
      "update Target network\n"
     ]
    },
    {
     "name": "stderr",
     "output_type": "stream",
     "text": [
      " 63%|███████████████████████████████████████████████▉                            | 31500/50000 [53:19<35:46,  8.62it/s]"
     ]
    },
    {
     "name": "stdout",
     "output_type": "stream",
     "text": [
      "update Target network\n"
     ]
    },
    {
     "name": "stderr",
     "output_type": "stream",
     "text": [
      " 64%|████████████████████████████████████████████████▋                           | 32000/50000 [54:19<34:19,  8.74it/s]"
     ]
    },
    {
     "name": "stdout",
     "output_type": "stream",
     "text": [
      "update Target network\n"
     ]
    },
    {
     "name": "stderr",
     "output_type": "stream",
     "text": [
      " 65%|█████████████████████████████████████████████████▍                          | 32500/50000 [55:20<34:03,  8.56it/s]"
     ]
    },
    {
     "name": "stdout",
     "output_type": "stream",
     "text": [
      "update Target network\n"
     ]
    },
    {
     "name": "stderr",
     "output_type": "stream",
     "text": [
      " 66%|██████████████████████████████████████████████████▏                         | 33000/50000 [56:21<33:25,  8.48it/s]"
     ]
    },
    {
     "name": "stdout",
     "output_type": "stream",
     "text": [
      "update Target network\n"
     ]
    },
    {
     "name": "stderr",
     "output_type": "stream",
     "text": [
      " 67%|██████████████████████████████████████████████████▉                         | 33500/50000 [57:43<32:47,  8.38it/s]"
     ]
    },
    {
     "name": "stdout",
     "output_type": "stream",
     "text": [
      "update Target network\n"
     ]
    },
    {
     "name": "stderr",
     "output_type": "stream",
     "text": [
      " 68%|███████████████████████████████████████████████████▋                        | 34000/50000 [58:43<34:50,  7.65it/s]"
     ]
    },
    {
     "name": "stdout",
     "output_type": "stream",
     "text": [
      "update Target network\n"
     ]
    },
    {
     "name": "stderr",
     "output_type": "stream",
     "text": [
      " 69%|████████████████████████████████████████████████████▍                       | 34500/50000 [59:44<31:08,  8.30it/s]"
     ]
    },
    {
     "name": "stdout",
     "output_type": "stream",
     "text": [
      "update Target network\n"
     ]
    },
    {
     "name": "stderr",
     "output_type": "stream",
     "text": [
      " 70%|███████████████████████████████████████████████████▊                      | 35000/50000 [1:00:50<35:04,  7.13it/s]"
     ]
    },
    {
     "name": "stdout",
     "output_type": "stream",
     "text": [
      "update Target network\n"
     ]
    },
    {
     "name": "stderr",
     "output_type": "stream",
     "text": [
      " 71%|████████████████████████████████████████████████████▌                     | 35500/50000 [1:02:04<36:33,  6.61it/s]"
     ]
    },
    {
     "name": "stdout",
     "output_type": "stream",
     "text": [
      "update Target network\n"
     ]
    },
    {
     "name": "stderr",
     "output_type": "stream",
     "text": [
      " 72%|█████████████████████████████████████████████████████▎                    | 36000/50000 [1:03:25<34:28,  6.77it/s]"
     ]
    },
    {
     "name": "stdout",
     "output_type": "stream",
     "text": [
      "update Target network\n"
     ]
    },
    {
     "name": "stderr",
     "output_type": "stream",
     "text": [
      " 73%|██████████████████████████████████████████████████████                    | 36500/50000 [1:04:35<29:30,  7.62it/s]"
     ]
    },
    {
     "name": "stdout",
     "output_type": "stream",
     "text": [
      "update Target network\n"
     ]
    },
    {
     "name": "stderr",
     "output_type": "stream",
     "text": [
      " 74%|██████████████████████████████████████████████████████▊                   | 37000/50000 [1:05:43<22:07,  9.80it/s]"
     ]
    },
    {
     "name": "stdout",
     "output_type": "stream",
     "text": [
      "update Target network\n"
     ]
    },
    {
     "name": "stderr",
     "output_type": "stream",
     "text": [
      " 75%|███████████████████████████████████████████████████████▍                  | 37499/50000 [1:06:34<21:55,  9.50it/s]"
     ]
    },
    {
     "name": "stdout",
     "output_type": "stream",
     "text": [
      "update Target network\n"
     ]
    },
    {
     "name": "stderr",
     "output_type": "stream",
     "text": [
      " 76%|████████████████████████████████████████████████████████▏                 | 38000/50000 [1:07:25<20:09,  9.92it/s]"
     ]
    },
    {
     "name": "stdout",
     "output_type": "stream",
     "text": [
      "update Target network\n"
     ]
    },
    {
     "name": "stderr",
     "output_type": "stream",
     "text": [
      " 77%|████████████████████████████████████████████████████████▉                 | 38500/50000 [1:08:19<28:17,  6.77it/s]"
     ]
    },
    {
     "name": "stdout",
     "output_type": "stream",
     "text": [
      "update Target network\n"
     ]
    },
    {
     "name": "stderr",
     "output_type": "stream",
     "text": [
      " 78%|█████████████████████████████████████████████████████████▋                | 39000/50000 [1:09:32<24:12,  7.57it/s]"
     ]
    },
    {
     "name": "stdout",
     "output_type": "stream",
     "text": [
      "update Target network\n"
     ]
    },
    {
     "name": "stderr",
     "output_type": "stream",
     "text": [
      " 79%|██████████████████████████████████████████████████████████▍               | 39500/50000 [1:10:37<22:31,  7.77it/s]"
     ]
    },
    {
     "name": "stdout",
     "output_type": "stream",
     "text": [
      "update Target network\n"
     ]
    },
    {
     "name": "stderr",
     "output_type": "stream",
     "text": [
      " 80%|███████████████████████████████████████████████████████████▏              | 40000/50000 [1:11:43<21:06,  7.90it/s]"
     ]
    },
    {
     "name": "stdout",
     "output_type": "stream",
     "text": [
      "update Target network\n"
     ]
    },
    {
     "name": "stderr",
     "output_type": "stream",
     "text": [
      " 81%|███████████████████████████████████████████████████████████▉              | 40500/50000 [1:12:47<20:51,  7.59it/s]"
     ]
    },
    {
     "name": "stdout",
     "output_type": "stream",
     "text": [
      "update Target network\n"
     ]
    },
    {
     "name": "stderr",
     "output_type": "stream",
     "text": [
      " 82%|████████████████████████████████████████████████████████████▋             | 41000/50000 [1:13:59<26:53,  5.58it/s]"
     ]
    },
    {
     "name": "stdout",
     "output_type": "stream",
     "text": [
      "update Target network\n"
     ]
    },
    {
     "name": "stderr",
     "output_type": "stream",
     "text": [
      " 83%|█████████████████████████████████████████████████████████████▍            | 41500/50000 [1:15:17<21:12,  6.68it/s]"
     ]
    },
    {
     "name": "stdout",
     "output_type": "stream",
     "text": [
      "update Target network\n"
     ]
    },
    {
     "name": "stderr",
     "output_type": "stream",
     "text": [
      " 84%|██████████████████████████████████████████████████████████████▏           | 42000/50000 [1:16:31<13:31,  9.85it/s]"
     ]
    },
    {
     "name": "stdout",
     "output_type": "stream",
     "text": [
      "update Target network\n"
     ]
    },
    {
     "name": "stderr",
     "output_type": "stream",
     "text": [
      " 85%|██████████████████████████████████████████████████████████████▉           | 42500/50000 [1:17:29<15:40,  7.98it/s]"
     ]
    },
    {
     "name": "stdout",
     "output_type": "stream",
     "text": [
      "update Target network\n"
     ]
    },
    {
     "name": "stderr",
     "output_type": "stream",
     "text": [
      " 86%|███████████████████████████████████████████████████████████████▋          | 43000/50000 [1:18:25<12:09,  9.60it/s]"
     ]
    },
    {
     "name": "stdout",
     "output_type": "stream",
     "text": [
      "update Target network\n"
     ]
    },
    {
     "name": "stderr",
     "output_type": "stream",
     "text": [
      " 87%|████████████████████████████████████████████████████████████████▍         | 43500/50000 [1:19:25<13:35,  7.97it/s]"
     ]
    },
    {
     "name": "stdout",
     "output_type": "stream",
     "text": [
      "update Target network\n"
     ]
    },
    {
     "name": "stderr",
     "output_type": "stream",
     "text": [
      " 88%|█████████████████████████████████████████████████████████████████         | 44000/50000 [1:20:22<12:36,  7.94it/s]"
     ]
    },
    {
     "name": "stdout",
     "output_type": "stream",
     "text": [
      "update Target network\n"
     ]
    },
    {
     "name": "stderr",
     "output_type": "stream",
     "text": [
      " 89%|█████████████████████████████████████████████████████████████████▊        | 44499/50000 [1:21:20<09:20,  9.81it/s]"
     ]
    },
    {
     "name": "stdout",
     "output_type": "stream",
     "text": [
      "update Target network\n"
     ]
    },
    {
     "name": "stderr",
     "output_type": "stream",
     "text": [
      " 90%|██████████████████████████████████████████████████████████████████▌       | 45000/50000 [1:22:19<09:29,  8.78it/s]"
     ]
    },
    {
     "name": "stdout",
     "output_type": "stream",
     "text": [
      "update Target network\n"
     ]
    },
    {
     "name": "stderr",
     "output_type": "stream",
     "text": [
      " 91%|███████████████████████████████████████████████████████████████████▎      | 45500/50000 [1:23:15<07:56,  9.44it/s]"
     ]
    },
    {
     "name": "stdout",
     "output_type": "stream",
     "text": [
      "update Target network\n"
     ]
    },
    {
     "name": "stderr",
     "output_type": "stream",
     "text": [
      " 92%|████████████████████████████████████████████████████████████████████      | 46000/50000 [1:24:17<08:18,  8.03it/s]"
     ]
    },
    {
     "name": "stdout",
     "output_type": "stream",
     "text": [
      "update Target network\n"
     ]
    },
    {
     "name": "stderr",
     "output_type": "stream",
     "text": [
      " 93%|████████████████████████████████████████████████████████████████████▊     | 46500/50000 [1:25:19<07:14,  8.05it/s]"
     ]
    },
    {
     "name": "stdout",
     "output_type": "stream",
     "text": [
      "update Target network\n"
     ]
    },
    {
     "name": "stderr",
     "output_type": "stream",
     "text": [
      " 94%|█████████████████████████████████████████████████████████████████████▌    | 47000/50000 [1:26:21<06:24,  7.80it/s]"
     ]
    },
    {
     "name": "stdout",
     "output_type": "stream",
     "text": [
      "update Target network\n"
     ]
    },
    {
     "name": "stderr",
     "output_type": "stream",
     "text": [
      " 95%|██████████████████████████████████████████████████████████████████████▎   | 47500/50000 [1:27:23<05:09,  8.08it/s]"
     ]
    },
    {
     "name": "stdout",
     "output_type": "stream",
     "text": [
      "update Target network\n"
     ]
    },
    {
     "name": "stderr",
     "output_type": "stream",
     "text": [
      " 96%|███████████████████████████████████████████████████████████████████████   | 48000/50000 [1:28:25<04:09,  8.00it/s]"
     ]
    },
    {
     "name": "stdout",
     "output_type": "stream",
     "text": [
      "update Target network\n"
     ]
    },
    {
     "name": "stderr",
     "output_type": "stream",
     "text": [
      " 97%|███████████████████████████████████████████████████████████████████████▊  | 48500/50000 [1:29:23<02:47,  8.97it/s]"
     ]
    },
    {
     "name": "stdout",
     "output_type": "stream",
     "text": [
      "update Target network\n"
     ]
    },
    {
     "name": "stderr",
     "output_type": "stream",
     "text": [
      " 98%|████████████████████████████████████████████████████████████████████████▌ | 49000/50000 [1:30:18<02:05,  7.97it/s]"
     ]
    },
    {
     "name": "stdout",
     "output_type": "stream",
     "text": [
      "update Target network\n"
     ]
    },
    {
     "name": "stderr",
     "output_type": "stream",
     "text": [
      " 99%|█████████████████████████████████████████████████████████████████████████▎| 49500/50000 [1:31:16<00:56,  8.87it/s]"
     ]
    },
    {
     "name": "stdout",
     "output_type": "stream",
     "text": [
      "update Target network\n"
     ]
    },
    {
     "name": "stderr",
     "output_type": "stream",
     "text": [
      "100%|██████████████████████████████████████████████████████████████████████████| 50000/50000 [1:32:13<00:00,  9.49it/s]\n"
     ]
    }
   ],
   "source": [
    "from tqdm import tqdm\n",
    "\n",
    "with tf.Session() as sess:\n",
    "    sess.run(tf.global_variables_initializer())\n",
    "    \n",
    "    state = game.reset()\n",
    "    state = np.reshape(state, [1, game.observation_space.shape[0]])\n",
    "    \n",
    "    episode_steps = 0\n",
    "    reward_in_episode = 0\n",
    "    # Your code comes here\n",
    "    for t in tqdm(range(T)):\n",
    "        episode_steps+=1\n",
    "        current_epsilon = epsilon_schedule.value(t)\n",
    "        #DEBUG: print(\"current epsilon: \",current_epsilon)\n",
    "        \n",
    "        action = choose_egreedy_action(session=sess, current_state=state, network=Q_network, epsilon=current_epsilon)\n",
    "        \n",
    "        #DEBUG: print(\"action: \", action)\n",
    "\n",
    "        state_next, reward, terminal, info = game.step(action)\n",
    "        reward_in_episode+=reward\n",
    "        #DEBUG: print(episode, \"-\", t, state_next, reward, terminal, info)\n",
    "        replay.add(state, action, reward, state_next, terminal)\n",
    "        \n",
    "        if terminal:\n",
    "            #DEBUG: print(\"End of Game\")\n",
    "            epsilon_plot.append(current_epsilon)\n",
    "            episode_length_plot.append(episode_steps)\n",
    "            episode_reward_plot.append(reward_in_episode)\n",
    "            state = game.reset()\n",
    "            state = np.reshape(state, [1, game.observation_space.shape[0]])\n",
    "            episode_steps = 0\n",
    "            reward_in_episode = 0\n",
    "\n",
    "        else:\n",
    "            if t > pre_training_steps:\n",
    "                # Train and Update Target Network Variables\n",
    "                #DEBUG: print(\"Training\")\n",
    "                train(sess,Q_network,Target_network,replay,batch_size)\n",
    "\n",
    "                if(t%switch_networks==0):\n",
    "                    print(\"update Target network\")\n",
    "                    sess.run(update_target_network)\n",
    "\n",
    "        state = state_next\n"
   ]
  },
  {
   "cell_type": "markdown",
   "metadata": {},
   "source": [
    "### Plot statistics"
   ]
  },
  {
   "cell_type": "code",
   "execution_count": 39,
   "metadata": {},
   "outputs": [
    {
     "data": {
      "image/png": "[encoded data removed]",
      "text/plain": [
       "<Figure size 1800x576 with 1 Axes>"
      ]
     },
     "metadata": {},
     "output_type": "display_data"
    }
   ],
   "source": [
    "# You code comes here\n",
    "%matplotlib inline\n",
    "import matplotlib.pyplot as plt\n",
    "import seaborn as sns\n",
    "import numpy as np\n",
    "import itertools\n",
    "\n",
    "\n",
    "sns.set_style(\"darkgrid\")\n",
    "pallete = sns.color_palette()\n",
    "\n",
    "epsilon_percentage=[]\n",
    "for i,epsi in enumerate(epsilon_plot):\n",
    "    # Multiply with 100 - to show percentage\n",
    "    epsilon_percentage.append(epsi*100)\n",
    "    \n",
    "\n",
    "mean_episode_length_plot = [np.mean(episode_length_plot) for i in range(len(episode_length_plot))]\n",
    "mean_episode_reward_plot = [np.mean(episode_reward_plot)  for i in range(len(episode_length_plot))]\n",
    "\n",
    "fig = plt.figure(figsize=(25,8))\n",
    "\n",
    "# Plot return per episode  \n",
    "ax1 = fig.add_subplot(1,2,1)\n",
    "ax1.plot(episode_reward_plot, color=pallete[0])\n",
    "ax1.plot(mean_episode_reward_plot, color=pallete[1])\n",
    "ax1.plot(epsilon_percentage, color=pallete[2])\n",
    "ax1.legend(['Return','Mean','Epsilon'])\n",
    "ax1.set_title(\"Return per Episode\", fontsize=14)\n",
    "plt.ylabel(\"Return\")\n",
    "plt.xlabel(\"Episode\")\n",
    "\n",
    "\n",
    "# Show the plot\n",
    "plt.tight_layout()\n",
    "plt.show()"
   ]
  },
  {
   "cell_type": "code",
   "execution_count": 40,
   "metadata": {},
   "outputs": [
    {
     "name": "stdout",
     "output_type": "stream",
     "text": [
      "[9, 36, 19, 11, 40, 20, 37, 17, 19, 19, 38, 25, 27, 15, 14, 12, 39, 43, 40, 16, 18, 10, 13, 30, 22, 24, 33, 13, 16, 23, 16, 21, 18, 12, 17, 13, 14, 19, 25, 16, 12, 21, 10, 13, 12, 19, 22, 66, 14, 11, 15, 21, 12, 18, 17, 53, 28, 29, 20, 19, 14, 48, 13, 16, 13, 11, 27, 21, 14, 59, 21, 18, 33, 15, 18, 14, 31, 49, 32, 11, 22, 49, 21, 13, 23, 29, 19, 12, 14, 13, 17, 16, 22, 18, 35, 23, 34, 17, 17, 41, 36, 60, 15, 26, 12, 16, 15, 11, 27, 44, 13, 12, 16, 21, 15, 15, 25, 16, 14, 26, 27, 24, 9, 21, 42, 15, 31, 19, 31, 20, 17, 37, 32, 21, 16, 19, 14, 13, 19, 13, 32, 11, 10, 24, 19, 12, 22, 29, 17, 18, 26, 30, 10, 15, 35, 13, 11, 24, 19, 31, 34, 16, 13, 22, 17, 11, 13, 9, 21, 20, 14, 22, 24, 10, 15, 14, 22, 32, 12, 21, 10, 12, 39, 16, 49, 47, 30, 14, 15, 19, 37, 36, 18, 13, 42, 12, 21, 22, 23, 35, 26, 13, 13, 15, 17, 33, 11, 11, 25, 15, 24, 17, 16, 26, 41, 9, 12, 12, 11, 27, 14, 16, 32, 21, 24, 49, 33, 18, 38, 35, 9, 14, 29, 22, 14, 16, 36, 13, 16, 10, 16, 25, 11, 13, 21, 41, 34, 26, 25, 22, 14, 23, 32, 12, 13, 36, 10, 11, 10, 13, 25, 58, 20, 12, 29, 42, 30, 20, 25, 29, 13, 12, 35, 25, 11, 16, 12, 18, 17, 23, 47, 33, 66, 16, 14, 14, 28, 17, 12, 13, 30, 15, 52, 45, 36, 12, 13, 32, 14, 22, 19, 39, 10, 9, 15, 21, 32, 12, 66, 28, 46, 26, 24, 57, 11, 29, 12, 11, 16, 14, 21, 46, 13, 12, 11, 20, 39, 15, 30, 19, 42, 64, 27, 16, 13, 22, 33, 67, 15, 44, 11, 34, 25, 21, 26, 15, 24, 12, 16, 25, 41, 34, 34, 57, 24, 18, 24, 16, 28, 30, 25, 27, 21, 16, 21, 31, 11, 41, 30, 9, 23, 18, 41, 27, 22, 14, 18, 10, 31, 77, 26, 127, 24, 11, 63, 24, 26, 28, 9, 15, 15, 40, 11, 42, 38, 10, 37, 26, 15, 22, 14, 17, 11, 31, 86, 25, 14, 62, 58, 10, 12, 11, 17, 21, 20, 31, 12, 34, 18, 112, 34, 82, 24, 57, 22, 134, 83, 74, 69, 24, 28, 56, 17, 80, 24, 92, 38, 124, 35, 16, 16, 19, 12, 45, 85, 29, 12, 72, 92, 32, 33, 164, 108, 200, 30, 78, 43, 200, 118, 53, 131, 25, 131, 181, 18, 146, 40, 144, 158, 39, 138, 86, 200, 116, 200, 200, 163, 61, 75, 200, 143, 167, 200, 135, 17, 179, 200, 200, 183, 137, 200, 117, 176, 200, 200, 200, 200, 200, 200, 170, 174, 200, 200, 185, 200, 200, 171, 182, 176, 200, 200, 200, 200, 200, 200, 200, 159, 154, 145, 171, 200, 164, 150, 183, 180, 200, 145, 188, 200, 200, 137, 200, 200, 200, 200, 200, 143, 54, 200, 152, 200, 200, 160, 197, 164, 152, 92, 122, 178, 68, 18, 43, 87, 86, 73, 25, 153, 81, 87, 35, 56, 157, 33, 48, 54, 23, 149, 9, 13, 42, 10, 116, 200, 27, 200, 108, 137, 126, 132, 124, 127, 130, 148, 122, 135, 113, 131, 139, 158, 173, 189, 132, 188, 123, 177, 74, 164, 121, 46, 200, 200, 200, 200, 200, 200, 199, 200, 200, 200, 200, 200, 200, 200, 200, 200, 200, 200, 200, 103, 109, 65, 64, 117, 124, 128, 122, 126, 134, 131, 68, 129, 117, 24, 109, 109, 24, 124, 124, 113, 23, 46, 15, 13, 49, 136, 162, 71, 105, 151, 150, 200, 162, 169, 168, 177, 91, 12, 11, 122, 136, 136, 13, 16, 158, 159, 124, 11, 166, 192, 188, 166, 139, 67, 55, 120, 127, 121, 117, 107, 140, 200, 200, 200, 102, 200, 200, 200, 200, 200, 166, 200, 183, 197, 110, 156, 179, 118, 121, 98, 120, 92, 128, 138, 144, 149, 151, 181, 164, 114, 113, 106, 118, 121, 112, 132, 136, 142, 194, 158, 120, 85, 105, 125, 188, 153, 142, 140, 161, 135]\n",
      "[9.0, 36.0, 19.0, 11.0, 40.0, 20.0, 37.0, 17.0, 19.0, 19.0, 38.0, 25.0, 27.0, 15.0, 14.0, 12.0, 39.0, 43.0, 40.0, 16.0, 18.0, 10.0, 13.0, 30.0, 22.0, 24.0, 33.0, 13.0, 16.0, 23.0, 16.0, 21.0, 18.0, 12.0, 17.0, 13.0, 14.0, 19.0, 25.0, 16.0, 12.0, 21.0, 10.0, 13.0, 12.0, 19.0, 22.0, 66.0, 14.0, 11.0, 15.0, 21.0, 12.0, 18.0, 17.0, 53.0, 28.0, 29.0, 20.0, 19.0, 14.0, 48.0, 13.0, 16.0, 13.0, 11.0, 27.0, 21.0, 14.0, 59.0, 21.0, 18.0, 33.0, 15.0, 18.0, 14.0, 31.0, 49.0, 32.0, 11.0, 22.0, 49.0, 21.0, 13.0, 23.0, 29.0, 19.0, 12.0, 14.0, 13.0, 17.0, 16.0, 22.0, 18.0, 35.0, 23.0, 34.0, 17.0, 17.0, 41.0, 36.0, 60.0, 15.0, 26.0, 12.0, 16.0, 15.0, 11.0, 27.0, 44.0, 13.0, 12.0, 16.0, 21.0, 15.0, 15.0, 25.0, 16.0, 14.0, 26.0, 27.0, 24.0, 9.0, 21.0, 42.0, 15.0, 31.0, 19.0, 31.0, 20.0, 17.0, 37.0, 32.0, 21.0, 16.0, 19.0, 14.0, 13.0, 19.0, 13.0, 32.0, 11.0, 10.0, 24.0, 19.0, 12.0, 22.0, 29.0, 17.0, 18.0, 26.0, 30.0, 10.0, 15.0, 35.0, 13.0, 11.0, 24.0, 19.0, 31.0, 34.0, 16.0, 13.0, 22.0, 17.0, 11.0, 13.0, 9.0, 21.0, 20.0, 14.0, 22.0, 24.0, 10.0, 15.0, 14.0, 22.0, 32.0, 12.0, 21.0, 10.0, 12.0, 39.0, 16.0, 49.0, 47.0, 30.0, 14.0, 15.0, 19.0, 37.0, 36.0, 18.0, 13.0, 42.0, 12.0, 21.0, 22.0, 23.0, 35.0, 26.0, 13.0, 13.0, 15.0, 17.0, 33.0, 11.0, 11.0, 25.0, 15.0, 24.0, 17.0, 16.0, 26.0, 41.0, 9.0, 12.0, 12.0, 11.0, 27.0, 14.0, 16.0, 32.0, 21.0, 24.0, 49.0, 33.0, 18.0, 38.0, 35.0, 9.0, 14.0, 29.0, 22.0, 14.0, 16.0, 36.0, 13.0, 16.0, 10.0, 16.0, 25.0, 11.0, 13.0, 21.0, 41.0, 34.0, 26.0, 25.0, 22.0, 14.0, 23.0, 32.0, 12.0, 13.0, 36.0, 10.0, 11.0, 10.0, 13.0, 25.0, 58.0, 20.0, 12.0, 29.0, 42.0, 30.0, 20.0, 25.0, 29.0, 13.0, 12.0, 35.0, 25.0, 11.0, 16.0, 12.0, 18.0, 17.0, 23.0, 47.0, 33.0, 66.0, 16.0, 14.0, 14.0, 28.0, 17.0, 12.0, 13.0, 30.0, 15.0, 52.0, 45.0, 36.0, 12.0, 13.0, 32.0, 14.0, 22.0, 19.0, 39.0, 10.0, 9.0, 15.0, 21.0, 32.0, 12.0, 66.0, 28.0, 46.0, 26.0, 24.0, 57.0, 11.0, 29.0, 12.0, 11.0, 16.0, 14.0, 21.0, 46.0, 13.0, 12.0, 11.0, 20.0, 39.0, 15.0, 30.0, 19.0, 42.0, 64.0, 27.0, 16.0, 13.0, 22.0, 33.0, 67.0, 15.0, 44.0, 11.0, 34.0, 25.0, 21.0, 26.0, 15.0, 24.0, 12.0, 16.0, 25.0, 41.0, 34.0, 34.0, 57.0, 24.0, 18.0, 24.0, 16.0, 28.0, 30.0, 25.0, 27.0, 21.0, 16.0, 21.0, 31.0, 11.0, 41.0, 30.0, 9.0, 23.0, 18.0, 41.0, 27.0, 22.0, 14.0, 18.0, 10.0, 31.0, 77.0, 26.0, 127.0, 24.0, 11.0, 63.0, 24.0, 26.0, 28.0, 9.0, 15.0, 15.0, 40.0, 11.0, 42.0, 38.0, 10.0, 37.0, 26.0, 15.0, 22.0, 14.0, 17.0, 11.0, 31.0, 86.0, 25.0, 14.0, 62.0, 58.0, 10.0, 12.0, 11.0, 17.0, 21.0, 20.0, 31.0, 12.0, 34.0, 18.0, 112.0, 34.0, 82.0, 24.0, 57.0, 22.0, 134.0, 83.0, 74.0, 69.0, 24.0, 28.0, 56.0, 17.0, 80.0, 24.0, 92.0, 38.0, 124.0, 35.0, 16.0, 16.0, 19.0, 12.0, 45.0, 85.0, 29.0, 12.0, 72.0, 92.0, 32.0, 33.0, 164.0, 108.0, 200.0, 30.0, 78.0, 43.0, 200.0, 118.0, 53.0, 131.0, 25.0, 131.0, 181.0, 18.0, 146.0, 40.0, 144.0, 158.0, 39.0, 138.0, 86.0, 200.0, 116.0, 200.0, 200.0, 163.0, 61.0, 75.0, 200.0, 143.0, 167.0, 200.0, 135.0, 17.0, 179.0, 200.0, 200.0, 183.0, 137.0, 200.0, 117.0, 176.0, 200.0, 200.0, 200.0, 200.0, 200.0, 200.0, 170.0, 174.0, 200.0, 200.0, 185.0, 200.0, 200.0, 171.0, 182.0, 176.0, 200.0, 200.0, 200.0, 200.0, 200.0, 200.0, 200.0, 159.0, 154.0, 145.0, 171.0, 200.0, 164.0, 150.0, 183.0, 180.0, 200.0, 145.0, 188.0, 200.0, 200.0, 137.0, 200.0, 200.0, 200.0, 200.0, 200.0, 143.0, 54.0, 200.0, 152.0, 200.0, 200.0, 160.0, 197.0, 164.0, 152.0, 92.0, 122.0, 178.0, 68.0, 18.0, 43.0, 87.0, 86.0, 73.0, 25.0, 153.0, 81.0, 87.0, 35.0, 56.0, 157.0, 33.0, 48.0, 54.0, 23.0, 149.0, 9.0, 13.0, 42.0, 10.0, 116.0, 200.0, 27.0, 200.0, 108.0, 137.0, 126.0, 132.0, 124.0, 127.0, 130.0, 148.0, 122.0, 135.0, 113.0, 131.0, 139.0, 158.0, 173.0, 189.0, 132.0, 188.0, 123.0, 177.0, 74.0, 164.0, 121.0, 46.0, 200.0, 200.0, 200.0, 200.0, 200.0, 200.0, 199.0, 200.0, 200.0, 200.0, 200.0, 200.0, 200.0, 200.0, 200.0, 200.0, 200.0, 200.0, 200.0, 103.0, 109.0, 65.0, 64.0, 117.0, 124.0, 128.0, 122.0, 126.0, 134.0, 131.0, 68.0, 129.0, 117.0, 24.0, 109.0, 109.0, 24.0, 124.0, 124.0, 113.0, 23.0, 46.0, 15.0, 13.0, 49.0, 136.0, 162.0, 71.0, 105.0, 151.0, 150.0, 200.0, 162.0, 169.0, 168.0, 177.0, 91.0, 12.0, 11.0, 122.0, 136.0, 136.0, 13.0, 16.0, 158.0, 159.0, 124.0, 11.0, 166.0, 192.0, 188.0, 166.0, 139.0, 67.0, 55.0, 120.0, 127.0, 121.0, 117.0, 107.0, 140.0, 200.0, 200.0, 200.0, 102.0, 200.0, 200.0, 200.0, 200.0, 200.0, 166.0, 200.0, 183.0, 197.0, 110.0, 156.0, 179.0, 118.0, 121.0, 98.0, 120.0, 92.0, 128.0, 138.0, 144.0, 149.0, 151.0, 181.0, 164.0, 114.0, 113.0, 106.0, 118.0, 121.0, 112.0, 132.0, 136.0, 142.0, 194.0, 158.0, 120.0, 85.0, 105.0, 125.0, 188.0, 153.0, 142.0, 140.0, 161.0, 135.0]\n"
     ]
    }
   ],
   "source": [
    "print(episode_length_plot)\n",
    "print(episode_reward_plot)"
   ]
  },
  {
   "cell_type": "markdown",
   "metadata": {},
   "source": [
    "### Evaluation of Deep Reinforcement Learning Algorithms\n",
    "\n",
    "In general, the evaluation of deep RL is discussed controversially among researchers since it remains unclear how to benchmark and compare such algorithms properly. Is the return or average return a good performance measure? How big is the impact of hyperparameters vs. general algorithm vs. implementation etc.? See the paper [Deep Reinforcement Learning that Matters](https://arxiv.org/abs/1709.06560) from Henderson et al. 2017 for a nice overview of these problems.\n",
    "\n",
    "As part of this notebook however, we will evaluate our algorithm as done by the authors of DQN. The testing is very simple. Let the trained agent play the game $30$ times with an e-greedy policy with a fixed $\\epsilon = 0.05$ and report the average high score (return).\n",
    "\n",
    "- Load a pre-trained agent, potentially recreate a Q-Network graph.\n",
    "- Run the agent for 30 episodes with an `evaluation_epsilon = 0.05`.\n",
    "- Plot or print the results in a decent way."
   ]
  },
  {
   "cell_type": "code",
   "execution_count": 20,
   "metadata": {},
   "outputs": [],
   "source": [
    "import gym\n",
    "import tensorflow as tf\n",
    "\n",
    "game = gym.make('CartPole-v0')\n",
    "# You code comes here"
   ]
  },
  {
   "cell_type": "markdown",
   "metadata": {},
   "source": [
    "## Further Ideas\n",
    "\n",
    "- How fast can you train the agent to a test score > 195? In other words, what is the smallest amount of training steps you need to achieve this goal?\n",
    "- Can you get a mean 100 score > 199?\n",
    "- As always, experiment with Hyperparameters/Network sizes etc. **and reason about their effects/importance**!\n",
    "- Implement and experiment with new/different exploration schemes.\n",
    "    \n",
    "- Extend the algorithm to play Atari games."
   ]
  },
  {
   "cell_type": "markdown",
   "metadata": {},
   "source": [
    "## Playing Atari with Deep Reinforcement Learning\n",
    "\n",
    "So far you have implemented a basic DQN agent. For simplicity we have left out some important details which are crucial in order to play video games. If you are eager to do this anyway here are the missing parts.\n",
    "\n",
    "### Architecture\n",
    "\n",
    "First of all, switch the simple MLP with the following architecture from the paper. Note that there are no pooling layers in this CNN!\n",
    "\n",
    "<img src=\"./RL_pics/DQN_architecture.png\" alt=\"DQN\" style=\"width: 800px;\"/>\n",
    "\n",
    "### Observability and Preprocessing\n",
    "\n",
    "We have not talked about observability so far. Formally, Atari video games are Partially Observable Markov Decision Processes or POMDPs. This means that the game screen is not a sufficient observation to fully describe the underlying state and that the Markov Assumption does not hold. A simple example to makes this clear. Think about the game Pong. Given only one frame, the agent has no way of telling if the ball is currently moving from left to right or from right to left. For that reason the authors used the last 4 frames of the game as observation. This turns the POMDP into an MDP again. Furthermore they applied some more preprocessing steps to the game screens such as turning them into gray scale, rescaling, and taking the max out of two subsequent frames. Please see [the methods section of the DQN paper](https://deepmind.com/research/publications/human-level-control-through-deep-reinforcement-learning/) for more details on that.\n",
    "\n",
    "> Hint: In order to implement this you have to keep some sort of frame buffer of the last 4 frames etc.!\n",
    "\n",
    "### Training Details\n",
    "\n",
    "In order to play faster, the authors trained the network only every $K=4$ time step. In between, the last taken action was repeated. This allows to play more games, e.g. gather more experience in less time since stepping the emulator forward is computationally *cheaper* than training the network. Again see the paper for details.\n",
    "\n",
    "During training, the authors clipped the reward to the range $R \\in \\{-1,0,1\\}$. Remember to remove this constraint during testing again to get the *real high score*\n",
    "\n",
    "Another way to improve training stability was to clip the gradients (or better the squared L2 loss) to the range -1,1. In other words, only apply L2 if the error is inside this range and take a linear loss outside. This corresponds to a Huber Loss. Here you can find a TensorFlow implementations of that from the [OpenAI baseline agents](https://github.com/openai/baselines/blob/24fe3d6576dd8f4cdd5f017805be689d6fa6be8c/baselines/common/tf_util.py#L39). Please read the [Wikipedia](https://en.wikipedia.org/wiki/Huber_loss) to see what the function is doing.\n",
    "\n",
    "The original DQN implementation used a slightly modified version of RMSProp as its optimizer. You dont have to implement this. It is perfectly fine to stay with Adam for instance. However, be aware that the learning rate is a really crucial parameter in this context. If at least for any, this is definetly the first (and probably the most important) hyperparameter for which you want to test different settings!\n",
    "\n",
    "### Hyper Parameters\n",
    "\n",
    "See the paper for a list of good default parameters. Due to the lengthy training times you may want to reduce the total amount of time steps the agent will be trained. You also may adjust the exploration accordingly. However, be aware that exploration time is very important. You may want to benchmark a very short training first and then do some rough calculations of how long it will take to train the agent for some $x$ time steps etc. Then plan some experiments. "
   ]
  },
  {
   "cell_type": "code",
   "execution_count": null,
   "metadata": {},
   "outputs": [],
   "source": []
  },
  {
   "cell_type": "markdown",
   "metadata": {},
   "source": [
    "# References\n",
    "\n",
    "<sup>[1]</sup> [Tensorflow - tf.layers](https://www.tensorflow.org/api_docs/python/tf/layers/dense)  \n",
    "<sup>[2]</sup> [Tensorflow - tf.constant](https://www.tensorflow.org/api_docs/python/tf/constant)  \n",
    "<sup>[3]</sup> [Simple Reinforcement Learning with Tensorflow Part 7: Action-Selection Strategies for Exploration](https://ai-mrkogao.github.io/reinforcement%20learning/actionselectionstrategy/)  \n",
    "<sup>[4]</sup> [Tensorflow - tf.argmax](https://www.tensorflow.org/api_docs/python/tf/math/argmax)  \n",
    "\n"
   ]
  },
  {
   "cell_type": "code",
   "execution_count": null,
   "metadata": {},
   "outputs": [],
   "source": []
  }
 ],
 "metadata": {
  "kernelspec": {
   "display_name": "Python 3",
   "language": "python",
   "name": "python3"
  },
  "language_info": {
   "codemirror_mode": {
    "name": "ipython",
    "version": 3
   },
   "file_extension": ".py",
   "mimetype": "text/x-python",
   "name": "python",
   "nbconvert_exporter": "python",
   "pygments_lexer": "ipython3",
   "version": "3.6.7"
  }
 },
 "nbformat": 4,
 "nbformat_minor": 2
}
