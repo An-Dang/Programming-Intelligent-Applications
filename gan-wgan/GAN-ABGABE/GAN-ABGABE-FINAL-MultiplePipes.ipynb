{
 "cells": [
  {
   "cell_type": "markdown",
   "metadata": {},
   "source": [
    "| Teammember |                    |\n",
    "|------------|--------------------|\n",
    "| 1.         | Christopher Caldwell |\n",
    "| 2.         | Fabian Müller      |\n",
    "| 3.         | An Dang         |"
   ]
  },
  {
   "cell_type": "code",
   "execution_count": 1,
   "metadata": {
    "ExecuteTime": {
     "end_time": "2018-03-14T10:15:54.565824Z",
     "start_time": "2018-03-14T10:15:49.809955Z"
    }
   },
   "outputs": [],
   "source": [
    "import tensorflow as tf\n",
    "import numpy as np\n",
    "import matplotlib.pyplot as plt\n",
    "%matplotlib inline\n",
    "\n",
    "tf.reset_default_graph()"
   ]
  },
  {
   "cell_type": "code",
   "execution_count": 2,
   "metadata": {
    "ExecuteTime": {
     "end_time": "2018-03-14T10:15:54.857714Z",
     "start_time": "2018-03-14T10:15:54.568240Z"
    }
   },
   "outputs": [],
   "source": [
    "from tensorflow.keras.datasets.mnist import load_data\n",
    "(train_X, train_y),(test_X, test_y) = load_data()\n",
    "\n",
    "train_X = train_X/255.0\n",
    "train_y = train_y/255.0\n",
    "\n",
    "test_X = test_X/255.0\n",
    "test_y = test_y/255.0\n",
    "\n",
    "\n",
    "train = np.append(train_X, test_X, axis=0) #Use both Train and Testset for GAN\n"
   ]
  },
  {
   "cell_type": "code",
   "execution_count": 3,
   "metadata": {},
   "outputs": [],
   "source": [
    "with tf.name_scope('input'):\n",
    "    leaky_relu = tf.placeholder(tf.bool, shape=(), name=\"UseLeakyRelu\")"
   ]
  },
  {
   "cell_type": "code",
   "execution_count": 4,
   "metadata": {
    "ExecuteTime": {
     "end_time": "2018-03-14T10:15:54.960658Z",
     "start_time": "2018-03-14T10:15:54.859486Z"
    }
   },
   "outputs": [],
   "source": [
    "def discriminator(X, reuse_vars=None):\n",
    "    with tf.variable_scope('dis', reuse=reuse_vars):\n",
    "        \n",
    "        \n",
    "        conv1 = tf.layers.conv2d(inputs=X, filters=32, kernel_size=[5,5], padding=\"same\", name=\"conv1\")\n",
    "        if leaky_relu is True:\n",
    "            conv1 = tf.nn.leaky_relu(conv1)\n",
    "        else:\n",
    "            conv1 = tf.nn.relu(conv1)\n",
    "        pool1 = tf.layers.average_pooling2d(inputs=conv1, pool_size=[2,2], strides=2, name=\"pool1\")\n",
    "\n",
    "        conv2 = tf.layers.conv2d(inputs=pool1, filters=64, kernel_size=[5,5], padding=\"same\", name=\"conv2\")\n",
    "        \n",
    "        if leaky_relu is True:\n",
    "            conv2 = tf.nn.leaky_relu(conv2)\n",
    "        else:\n",
    "            conv2 = tf.nn.relu(conv2)\n",
    "            \n",
    "        pool2 = tf.layers.average_pooling2d(inputs=conv2, pool_size=[2,2], strides=2, name=\"pool2\")\n",
    "\n",
    "        flat_layer = tf.reshape(pool2, [-1, 7 * 7 * 64], name=\"flatten\")\n",
    "\n",
    "        dense = tf.layers.dense(inputs=flat_layer, units=1024, name=\"dense\")\n",
    "        # Dense layer\n",
    "        if leaky_relu is True:\n",
    "            dense = tf.nn.leaky_relu(dense)\n",
    "        else:\n",
    "            dense = tf.nn.relu(dense)\n",
    "        \n",
    "        \n",
    "        # Logits layer\n",
    "        logits = tf.layers.dense(inputs=dense, units=1, name=\"dense2\")\n",
    "        \n",
    "        output = tf.sigmoid(logits, name=\"sigmoid\")\n",
    "        \n",
    "        return output, logits\n",
    "\n"
   ]
  },
  {
   "cell_type": "code",
   "execution_count": 5,
   "metadata": {
    "ExecuteTime": {
     "end_time": "2018-03-14T10:15:55.079403Z",
     "start_time": "2018-03-14T10:15:54.963904Z"
    }
   },
   "outputs": [],
   "source": [
    "def gen(noise, reuse_vars=None):\n",
    "    with tf.variable_scope(\"gen\", reuse=reuse_vars):\n",
    "        \n",
    "        \n",
    "        \n",
    "        # First DenseLayer\n",
    "        dense = tf.layers.dense(inputs=noise, units=3136, name=\"dense\")\n",
    "        if leaky_relu is True:\n",
    "            dense = tf.nn.leaky_relu(dense)\n",
    "        else:\n",
    "            dense = tf.nn.relu(dense)\n",
    "            \n",
    "\n",
    "        #Reshape\n",
    "        reshape = tf.reshape(dense, [-1, 56, 56, 1], name=\"reshape\")\n",
    "\n",
    "        \n",
    "        \n",
    "        #1 Conv2d\n",
    "        conv1 = tf.layers.conv2d(inputs=reshape, filters=50, kernel_size=[3,3], strides=2, padding=\"same\", name=\"conv1\")\n",
    "\n",
    "        if leaky_relu is True:\n",
    "            conv1 = tf.nn.leaky_relu(conv1)\n",
    "            \n",
    "        else:\n",
    "            conv1 = tf.nn.relu(conv1)\n",
    "        \n",
    "        \n",
    "        #BatchNormalization\n",
    "        conv1_norm = tf.layers.batch_normalization(conv1, name=\"batch_norm1\")\n",
    "\n",
    "        #Upsample\n",
    "        conv1_upsample = tf.image.resize_images(conv1_norm, (56,56))\n",
    "\n",
    "\n",
    "        #2 Conv2d\n",
    "        conv2 = tf.layers.conv2d(inputs=conv1_upsample, filters=25, kernel_size=[3,3], strides=2, padding=\"same\", name=\"conv2\")\n",
    "\n",
    "        if leaky_relu is True:\n",
    "            conv2 = tf.nn.leaky_relu(conv2)\n",
    "        else:\n",
    "            conv2 = tf.nn.relu(conv2)\n",
    "        \n",
    "        \n",
    "        #BatchNormalization\n",
    "        conv2_norm = tf.layers.batch_normalization(conv2, name=\"batch_norm2\")\n",
    "\n",
    "        #Upsample\n",
    "        conv2_upsample = tf.image.resize_images(conv2_norm, (56,56))\n",
    "\n",
    "\n",
    "        #2 Conv2d\n",
    "        logits = tf.layers.conv2d(inputs=conv2_upsample, filters=1, kernel_size=[3,3], strides=2, padding=\"same\", name=\"conv3\")\n",
    "\n",
    "        output = tf.nn.sigmoid(logits, name=\"sigmoid\")\n",
    "        return output\n"
   ]
  },
  {
   "cell_type": "code",
   "execution_count": 6,
   "metadata": {
    "ExecuteTime": {
     "end_time": "2018-03-14T10:26:24.096011Z",
     "start_time": "2018-03-14T10:26:23.824272Z"
    }
   },
   "outputs": [],
   "source": [
    "with tf.name_scope('input'):\n",
    "    real_images = tf.placeholder(tf.float32, shape=[None, 28,28,1], name=\"ImagePlaceholder\")\n",
    "    z = tf.placeholder(tf.float32, shape=[None, 100], name = \"NoisePlaceholder\")"
   ]
  },
  {
   "cell_type": "code",
   "execution_count": 7,
   "metadata": {
    "scrolled": true
   },
   "outputs": [
    {
     "name": "stdout",
     "output_type": "stream",
     "text": [
      "WARNING:tensorflow:From <ipython-input-5-1bfceaf4ba4c>:7: dense (from tensorflow.python.layers.core) is deprecated and will be removed in a future version.\n",
      "Instructions for updating:\n",
      "Use keras.layers.dense instead.\n",
      "WARNING:tensorflow:From c:\\users\\chris\\appdata\\local\\conda\\conda\\envs\\pia\\lib\\site-packages\\tensorflow\\python\\framework\\op_def_library.py:263: colocate_with (from tensorflow.python.framework.ops) is deprecated and will be removed in a future version.\n",
      "Instructions for updating:\n",
      "Colocations handled automatically by placer.\n",
      "WARNING:tensorflow:From <ipython-input-5-1bfceaf4ba4c>:20: conv2d (from tensorflow.python.layers.convolutional) is deprecated and will be removed in a future version.\n",
      "Instructions for updating:\n",
      "Use keras.layers.conv2d instead.\n",
      "WARNING:tensorflow:From <ipython-input-5-1bfceaf4ba4c>:30: batch_normalization (from tensorflow.python.layers.normalization) is deprecated and will be removed in a future version.\n",
      "Instructions for updating:\n",
      "Use keras.layers.batch_normalization instead.\n"
     ]
    }
   ],
   "source": [
    "Gz = gen(z)"
   ]
  },
  {
   "cell_type": "code",
   "execution_count": 8,
   "metadata": {},
   "outputs": [
    {
     "name": "stdout",
     "output_type": "stream",
     "text": [
      "WARNING:tensorflow:From <ipython-input-4-6b29c60f6d12>:10: average_pooling2d (from tensorflow.python.layers.pooling) is deprecated and will be removed in a future version.\n",
      "Instructions for updating:\n",
      "Use keras.layers.average_pooling2d instead.\n"
     ]
    }
   ],
   "source": [
    "D_output_real, D_logits_real = discriminator(real_images)\n",
    "D_output_fake, D_logits_fake = discriminator(Gz, reuse_vars=True)"
   ]
  },
  {
   "cell_type": "code",
   "execution_count": 9,
   "metadata": {},
   "outputs": [],
   "source": [
    "# LOSSES\n",
    "def loss_func (logits_in, labels_in):\n",
    "    return tf.reduce_mean(tf.nn.sigmoid_cross_entropy_with_logits(\n",
    "    logits=logits_in, labels=labels_in, name=\"CrossEntropy\"), name=\"ReduceMean\")"
   ]
  },
  {
   "cell_type": "code",
   "execution_count": 10,
   "metadata": {},
   "outputs": [],
   "source": [
    "SMOOTHING = tf.placeholder(tf.float32, name = \"SmothingFactor\")\n",
    "\n",
    "D_real_loss = loss_func(D_logits_real, tf.ones_like(D_logits_real, name=\"Generator_Label\")*SMOOTHING)\n",
    "D_fake_loss = loss_func(D_logits_fake, tf.zeros_like(D_logits_fake, name=\"Discriminator_Label\"))\n",
    "\n",
    "D_loss = D_real_loss + D_fake_loss"
   ]
  },
  {
   "cell_type": "code",
   "execution_count": 11,
   "metadata": {},
   "outputs": [],
   "source": [
    "G_loss = loss_func(D_logits_fake, tf.ones_like(D_logits_fake, name=\"Generator_TrickLabel\"))"
   ]
  },
  {
   "cell_type": "code",
   "execution_count": 12,
   "metadata": {
    "ExecuteTime": {
     "end_time": "2018-03-14T12:52:00.755627Z",
     "start_time": "2018-03-14T12:51:59.784876Z"
    }
   },
   "outputs": [],
   "source": [
    "D_learning_rate = tf.placeholder(tf.float32, name = \"DiscriminatorLearningRate\")\n",
    "G_learning_rate = tf.placeholder(tf.float32, name = \"GeneratorLearningRate\")\n",
    "\n",
    "# learning_rate = 0.001 - worked so far better"
   ]
  },
  {
   "cell_type": "raw",
   "metadata": {},
   "source": [
    "tvars = tf.trainable_variables()\n",
    "\n",
    "d_vars = [var for var in tvars if 'dis' in var.name]\n",
    "g_vars = [var for var in tvars if 'gen' in var.name]"
   ]
  },
  {
   "cell_type": "code",
   "execution_count": 13,
   "metadata": {},
   "outputs": [],
   "source": [
    "d_vars = tf.trainable_variables(scope='dis')\n",
    "g_vars = tf.trainable_variables(scope='gen')"
   ]
  },
  {
   "cell_type": "code",
   "execution_count": 14,
   "metadata": {},
   "outputs": [
    {
     "name": "stdout",
     "output_type": "stream",
     "text": [
      "WARNING:tensorflow:From c:\\users\\chris\\appdata\\local\\conda\\conda\\envs\\pia\\lib\\site-packages\\tensorflow\\python\\ops\\math_ops.py:3066: to_int32 (from tensorflow.python.ops.math_ops) is deprecated and will be removed in a future version.\n",
      "Instructions for updating:\n",
      "Use tf.cast instead.\n"
     ]
    }
   ],
   "source": [
    "D_trainer = tf.train.AdamOptimizer(D_learning_rate, name=\"AdamOptimizer_Discriminator\").minimize(D_loss, var_list=d_vars)\n"
   ]
  },
  {
   "cell_type": "code",
   "execution_count": 15,
   "metadata": {},
   "outputs": [],
   "source": [
    "G_trainer = tf.train.AdamOptimizer(G_learning_rate, name=\"AdamOptimizer_Discriminator\").minimize(G_loss, var_list=g_vars, name=\"minimize_G_loss\")"
   ]
  },
  {
   "cell_type": "code",
   "execution_count": 16,
   "metadata": {
    "ExecuteTime": {
     "end_time": "2018-03-14T12:52:59.868943Z",
     "start_time": "2018-03-14T12:52:59.534225Z"
    }
   },
   "outputs": [
    {
     "data": {
      "text/plain": [
       "<tf.Tensor 'Generated_Images:0' shape=() dtype=string>"
      ]
     },
     "execution_count": 16,
     "metadata": {},
     "output_type": "execute_result"
    }
   ],
   "source": [
    "tf.summary.scalar(\"Dx_Loss\", D_real_loss)\n",
    "tf.summary.scalar(\"Dg_Loss\", D_fake_loss)\n",
    "tf.summary.scalar(\"D_loss\", D_loss)\n",
    "tf.summary.scalar(\"G_loss\", G_loss)\n",
    "\n",
    "tf.summary.image(\"Generated_Images\", Gz, max_outputs=5)"
   ]
  },
  {
   "cell_type": "code",
   "execution_count": 17,
   "metadata": {},
   "outputs": [],
   "source": [
    "import datetime\n",
    "\n",
    "now = datetime.datetime.now()"
   ]
  },
  {
   "cell_type": "code",
   "execution_count": 18,
   "metadata": {},
   "outputs": [],
   "source": [
    "BATCH_SIZE = tf.placeholder(tf.int64, name = \"BatchSizePlaceholder\")\n",
    "#BATCH_SIZE = 100\n",
    "\n",
    "BUFFER_SIZE = 140000\n",
    "\n"
   ]
  },
  {
   "cell_type": "code",
   "execution_count": 19,
   "metadata": {},
   "outputs": [],
   "source": [
    "samples = []\n",
    "#real = []"
   ]
  },
  {
   "cell_type": "code",
   "execution_count": 20,
   "metadata": {},
   "outputs": [],
   "source": [
    "#Adding config for GPU - not using all of the GPUs Memory -> leading to crashes\n",
    "config = tf.ConfigProto()\n",
    "config.gpu_options.allow_growth = True\n",
    "config.gpu_options.per_process_gpu_memory_fraction = 0.95\n",
    "\n",
    "merged = tf.summary.merge_all()"
   ]
  },
  {
   "cell_type": "code",
   "execution_count": 21,
   "metadata": {
    "ExecuteTime": {
     "start_time": "2018-03-14T14:00:25.297Z"
    }
   },
   "outputs": [],
   "source": [
    "from tqdm import tqdm\n",
    "from tensorflow.keras.datasets.mnist import load_data\n",
    "(train_X, train_y),(test_X, test_y) = load_data()\n",
    "\n",
    "train_X = train_X/255.0\n",
    "train_y = train_y/255.0\n",
    "\n",
    "test_X = test_X/255.0\n",
    "test_y = test_y/255.0\n",
    "\n",
    "\n",
    "train = np.append(train_X, test_X, axis=0) #Use both Train and Testset for GAN\n",
    "\n",
    "\n",
    "\n",
    "\n",
    "batchtrain = train.reshape(train.shape[0], 28, 28, 1).astype('float32')\n",
    "dataset = tf.data.Dataset.from_tensor_slices(batchtrain).repeat().shuffle(BUFFER_SIZE).batch(BATCH_SIZE)\n",
    "iterator = dataset.make_initializable_iterator()\n",
    "nextbatch = iterator.get_next()\n",
    "\n",
    "\n",
    "init = tf.global_variables_initializer()\n",
    " "
   ]
  },
  {
   "cell_type": "markdown",
   "metadata": {},
   "source": [
    "* batch_size:             64 | 128 | \n",
    "* learning_rate:          0.0001 | 0.001 | 0.003\n",
    "* pretrain:               0 |10000 | 20000\n",
    "* activation function:    tan | sigmoid\n",
    "* smoothing:              0.9 | 1\n",
    "* leaky relu:             no | yes"
   ]
  },
  {
   "cell_type": "code",
   "execution_count": 22,
   "metadata": {},
   "outputs": [
    {
     "name": "stdout",
     "output_type": "stream",
     "text": [
      "96\n"
     ]
    }
   ],
   "source": [
    "mode_batch_size = [64,128]\n",
    "mode_learning_rate = [0.0001,0.00001]\n",
    "mode_disc_lr_multiplier = [1, 3]\n",
    "mode_pretrain_runs = [0, 10000, 20000]\n",
    "mode_smoothing = [0.9, 1]\n",
    "mode_leakyRelu = [False, True]\n",
    "\n",
    "\n",
    "modes = []\n",
    "\n",
    "for m_batch_size, m_learning_rate, m_disc_multiplier, m_pretrain, m_smoothing, m_leaky in [(m_batch_size, m_learning_rate, m_disc_multiplier, m_pretrain, m_smoothing, m_leaky) for m_batch_size in mode_batch_size for m_learning_rate in mode_learning_rate for m_disc_multiplier in mode_disc_lr_multiplier for m_pretrain in mode_pretrain_runs for m_smoothing in mode_smoothing for m_leaky in mode_leakyRelu]:\n",
    "    mode = [m_batch_size, m_learning_rate, m_disc_multiplier, m_pretrain, m_smoothing, m_leaky]\n",
    "    modes.append(mode)\n",
    "    \n",
    "print(len(modes))"
   ]
  },
  {
   "cell_type": "code",
   "execution_count": 23,
   "metadata": {},
   "outputs": [
    {
     "name": "stdout",
     "output_type": "stream",
     "text": [
      "[[64, 0.0001, 1, 0, 0.9, False], [64, 0.0001, 1, 0, 0.9, True], [64, 0.0001, 1, 0, 1, False], [64, 0.0001, 1, 0, 1, True], [64, 0.0001, 1, 10000, 0.9, False], [64, 0.0001, 1, 10000, 0.9, True], [64, 0.0001, 1, 10000, 1, False], [64, 0.0001, 1, 10000, 1, True], [64, 0.0001, 1, 20000, 0.9, False], [64, 0.0001, 1, 20000, 0.9, True], [64, 0.0001, 1, 20000, 1, False], [64, 0.0001, 1, 20000, 1, True], [64, 0.0001, 3, 0, 0.9, False], [64, 0.0001, 3, 0, 0.9, True], [64, 0.0001, 3, 0, 1, False], [64, 0.0001, 3, 0, 1, True], [64, 0.0001, 3, 10000, 0.9, False], [64, 0.0001, 3, 10000, 0.9, True], [64, 0.0001, 3, 10000, 1, False], [64, 0.0001, 3, 10000, 1, True], [64, 0.0001, 3, 20000, 0.9, False], [64, 0.0001, 3, 20000, 0.9, True], [64, 0.0001, 3, 20000, 1, False], [64, 0.0001, 3, 20000, 1, True], [64, 1e-05, 1, 0, 0.9, False], [64, 1e-05, 1, 0, 0.9, True], [64, 1e-05, 1, 0, 1, False], [64, 1e-05, 1, 0, 1, True], [64, 1e-05, 1, 10000, 0.9, False], [64, 1e-05, 1, 10000, 0.9, True], [64, 1e-05, 1, 10000, 1, False], [64, 1e-05, 1, 10000, 1, True], [64, 1e-05, 1, 20000, 0.9, False], [64, 1e-05, 1, 20000, 0.9, True], [64, 1e-05, 1, 20000, 1, False], [64, 1e-05, 1, 20000, 1, True], [64, 1e-05, 3, 0, 0.9, False], [64, 1e-05, 3, 0, 0.9, True], [64, 1e-05, 3, 0, 1, False], [64, 1e-05, 3, 0, 1, True], [64, 1e-05, 3, 10000, 0.9, False], [64, 1e-05, 3, 10000, 0.9, True], [64, 1e-05, 3, 10000, 1, False], [64, 1e-05, 3, 10000, 1, True], [64, 1e-05, 3, 20000, 0.9, False], [64, 1e-05, 3, 20000, 0.9, True], [64, 1e-05, 3, 20000, 1, False], [64, 1e-05, 3, 20000, 1, True], [128, 0.0001, 1, 0, 0.9, False], [128, 0.0001, 1, 0, 0.9, True], [128, 0.0001, 1, 0, 1, False], [128, 0.0001, 1, 0, 1, True], [128, 0.0001, 1, 10000, 0.9, False], [128, 0.0001, 1, 10000, 0.9, True], [128, 0.0001, 1, 10000, 1, False], [128, 0.0001, 1, 10000, 1, True], [128, 0.0001, 1, 20000, 0.9, False], [128, 0.0001, 1, 20000, 0.9, True], [128, 0.0001, 1, 20000, 1, False], [128, 0.0001, 1, 20000, 1, True], [128, 0.0001, 3, 0, 0.9, False], [128, 0.0001, 3, 0, 0.9, True], [128, 0.0001, 3, 0, 1, False], [128, 0.0001, 3, 0, 1, True], [128, 0.0001, 3, 10000, 0.9, False], [128, 0.0001, 3, 10000, 0.9, True], [128, 0.0001, 3, 10000, 1, False], [128, 0.0001, 3, 10000, 1, True], [128, 0.0001, 3, 20000, 0.9, False], [128, 0.0001, 3, 20000, 0.9, True], [128, 0.0001, 3, 20000, 1, False], [128, 0.0001, 3, 20000, 1, True], [128, 1e-05, 1, 0, 0.9, False], [128, 1e-05, 1, 0, 0.9, True], [128, 1e-05, 1, 0, 1, False], [128, 1e-05, 1, 0, 1, True], [128, 1e-05, 1, 10000, 0.9, False], [128, 1e-05, 1, 10000, 0.9, True], [128, 1e-05, 1, 10000, 1, False], [128, 1e-05, 1, 10000, 1, True], [128, 1e-05, 1, 20000, 0.9, False], [128, 1e-05, 1, 20000, 0.9, True], [128, 1e-05, 1, 20000, 1, False], [128, 1e-05, 1, 20000, 1, True], [128, 1e-05, 3, 0, 0.9, False], [128, 1e-05, 3, 0, 0.9, True], [128, 1e-05, 3, 0, 1, False], [128, 1e-05, 3, 0, 1, True], [128, 1e-05, 3, 10000, 0.9, False], [128, 1e-05, 3, 10000, 0.9, True], [128, 1e-05, 3, 10000, 1, False], [128, 1e-05, 3, 10000, 1, True], [128, 1e-05, 3, 20000, 0.9, False], [128, 1e-05, 3, 20000, 0.9, True], [128, 1e-05, 3, 20000, 1, False], [128, 1e-05, 3, 20000, 1, True]]\n"
     ]
    }
   ],
   "source": [
    "print(modes)"
   ]
  },
  {
   "cell_type": "code",
   "execution_count": 25,
   "metadata": {
    "scrolled": true
   },
   "outputs": [
    {
     "name": "stderr",
     "output_type": "stream",
     "text": [
      "\n",
      "0it [00:00, ?it/s]\n",
      "  0%|                                                                                        | 0/78125 [00:00<?, ?it/s]\n",
      "  0%|                                                                            | 1/78125 [00:13<289:23:46, 13.34s/it]\n",
      "  0%|                                                                            | 2/78125 [00:14<207:54:59,  9.58s/it]\n",
      "  0%|                                                                            | 3/78125 [00:14<150:38:26,  6.94s/it]\n",
      "  0%|                                                                            | 4/78125 [00:15<110:32:53,  5.09s/it]\n",
      "  0%|                                                                             | 5/78125 [00:16<82:39:56,  3.81s/it]\n",
      "  0%|                                                                             | 6/78125 [00:17<62:41:34,  2.89s/it]\n",
      "  0%|                                                                             | 7/78125 [00:18<48:41:33,  2.24s/it]\n",
      "  0%|                                                                             | 8/78125 [00:18<38:52:44,  1.79s/it]\n",
      "  0%|                                                                             | 9/78125 [00:19<31:59:48,  1.47s/it]\n",
      "  0%|                                                                            | 10/78125 [00:20<27:15:26,  1.26s/it]\n",
      "  0%|                                                                            | 11/78125 [00:20<23:54:25,  1.10s/it]\n",
      "  0%|                                                                            | 12/78125 [00:21<21:32:33,  1.01it/s]\n",
      "  0%|                                                                            | 13/78125 [00:22<19:52:50,  1.09it/s]\n",
      "  0%|                                                                            | 14/78125 [00:23<18:41:52,  1.16it/s]\n",
      "  0%|                                                                            | 15/78125 [00:23<17:52:58,  1.21it/s]\n",
      "  0%|                                                                            | 16/78125 [00:24<17:16:00,  1.26it/s]\n",
      "  0%|                                                                            | 17/78125 [00:25<16:52:27,  1.29it/s]\n",
      "  0%|                                                                            | 18/78125 [00:26<16:35:59,  1.31it/s]\n",
      "  0%|                                                                            | 19/78125 [00:26<16:24:03,  1.32it/s]\n",
      "  0%|                                                                            | 20/78125 [00:27<16:25:03,  1.32it/s]\n",
      "  0%|                                                                            | 21/78125 [00:28<16:15:37,  1.33it/s]\n",
      "  0%|                                                                            | 22/78125 [00:29<16:09:47,  1.34it/s]\n",
      "  0%|                                                                            | 23/78125 [00:29<16:15:04,  1.33it/s]\n",
      "  0%|                                                                            | 24/78125 [00:30<16:02:45,  1.35it/s]\n",
      "  0%|                                                                            | 25/78125 [00:31<15:58:49,  1.36it/s]\n",
      "  0%|                                                                            | 26/78125 [00:31<15:47:05,  1.37it/s]\n",
      "  0%|                                                                            | 27/78125 [00:32<15:42:46,  1.38it/s]\n",
      "  0%|                                                                            | 28/78125 [00:33<15:06:11,  1.44it/s]\n",
      "  0%|                                                                            | 29/78125 [00:34<15:16:05,  1.42it/s]\n",
      "  0%|                                                                            | 30/78125 [00:34<15:17:08,  1.42it/s]\n",
      "  0%|                                                                            | 31/78125 [00:35<14:48:36,  1.46it/s]\n",
      "  0%|                                                                            | 32/78125 [00:36<14:29:49,  1.50it/s]\n",
      "  0%|                                                                            | 33/78125 [00:36<14:49:27,  1.46it/s]\n",
      "  0%|                                                                            | 34/78125 [00:37<14:30:24,  1.50it/s]\n",
      "  0%|                                                                            | 35/78125 [00:38<14:28:56,  1.50it/s]\n",
      "  0%|                                                                            | 36/78125 [00:38<14:15:38,  1.52it/s]\n",
      "  0%|                                                                            | 37/78125 [00:39<14:05:57,  1.54it/s]\n",
      "  0%|                                                                            | 38/78125 [00:39<13:58:22,  1.55it/s]\n",
      "  0%|                                                                            | 39/78125 [00:40<14:17:10,  1.52it/s]\n",
      "  0%|                                                                            | 40/78125 [00:41<14:12:29,  1.53it/s]\n",
      "  0%|                                                                            | 41/78125 [00:41<14:02:49,  1.54it/s]\n",
      "  0%|                                                                            | 42/78125 [00:42<13:55:23,  1.56it/s]\n",
      "  0%|                                                                            | 43/78125 [00:43<13:56:49,  1.56it/s]\n",
      "  0%|                                                                            | 44/78125 [00:43<13:49:38,  1.57it/s]\n",
      "  0%|                                                                            | 45/78125 [00:44<14:22:50,  1.51it/s]\n",
      "  0%|                                                                            | 46/78125 [00:45<14:19:09,  1.51it/s]\n",
      "  0%|                                                                            | 47/78125 [00:45<14:15:23,  1.52it/s]\n",
      "  0%|                                                                            | 48/78125 [00:46<14:12:45,  1.53it/s]\n",
      "  0%|                                                                            | 49/78125 [00:47<14:12:51,  1.53it/s]\n",
      "  0%|                                                                            | 50/78125 [00:47<14:12:09,  1.53it/s]\n",
      "  0%|                                                                            | 51/78125 [00:48<14:13:59,  1.52it/s]\n",
      "  0%|                                                                            | 52/78125 [00:49<14:52:20,  1.46it/s]\n",
      "  0%|                                                                            | 53/78125 [00:49<15:23:28,  1.41it/s]\n",
      "  0%|                                                                            | 54/78125 [00:50<15:48:00,  1.37it/s]\n",
      "  0%|                                                                            | 55/78125 [00:51<16:02:48,  1.35it/s]\n",
      "  0%|                                                                            | 56/78125 [00:52<16:13:11,  1.34it/s]\n",
      "  0%|                                                                            | 57/78125 [00:53<16:20:49,  1.33it/s]\n",
      "  0%|                                                                            | 58/78125 [00:53<16:26:33,  1.32it/s]\n",
      "  0%|                                                                            | 59/78125 [00:54<16:34:05,  1.31it/s]\n",
      "  0%|                                                                            | 60/78125 [00:55<16:27:38,  1.32it/s]\n",
      "  0%|                                                                            | 61/78125 [00:56<16:34:50,  1.31it/s]\n",
      "  0%|                                                                            | 62/78125 [00:56<16:37:08,  1.30it/s]\n",
      "  0%|                                                                            | 63/78125 [00:57<16:31:43,  1.31it/s]\n",
      "  0%|                                                                            | 64/78125 [00:58<16:40:47,  1.30it/s]\n",
      "  0%|                                                                            | 65/78125 [00:59<16:32:19,  1.31it/s]\n",
      "  0%|                                                                            | 66/78125 [00:59<16:26:00,  1.32it/s]\n",
      "  0%|                                                                            | 67/78125 [01:00<16:23:31,  1.32it/s]\n"
     ]
    },
    {
     "name": "stderr",
     "output_type": "stream",
     "text": [
      "  0%|                                                                            | 68/78125 [01:01<16:21:00,  1.33it/s]\n",
      "  0%|                                                                            | 69/78125 [01:02<17:01:21,  1.27it/s]\n",
      "  0%|                                                                            | 70/78125 [01:03<17:02:18,  1.27it/s]\n",
      "  0%|                                                                            | 71/78125 [01:03<16:50:05,  1.29it/s]\n",
      "  0%|                                                                            | 72/78125 [01:04<16:37:33,  1.30it/s]\n",
      "  0%|                                                                            | 73/78125 [01:05<16:31:12,  1.31it/s]\n",
      "  0%|                                                                            | 74/78125 [01:06<16:25:34,  1.32it/s]\n",
      "  0%|                                                                            | 75/78125 [01:06<16:23:19,  1.32it/s]\n",
      "  0%|                                                                            | 76/78125 [01:07<16:17:42,  1.33it/s]\n",
      "  0%|                                                                            | 77/78125 [01:08<16:14:10,  1.34it/s]\n",
      "  0%|                                                                            | 78/78125 [01:09<16:14:01,  1.34it/s]\n",
      "  0%|                                                                            | 79/78125 [01:09<16:18:12,  1.33it/s]\n",
      "  0%|                                                                            | 80/78125 [01:10<16:20:21,  1.33it/s]\n",
      "  0%|                                                                            | 81/78125 [01:11<16:25:22,  1.32it/s]\n",
      "  0%|                                                                            | 82/78125 [01:12<16:28:05,  1.32it/s]\n",
      "  0%|                                                                            | 83/78125 [01:12<16:31:10,  1.31it/s]\n",
      "  0%|                                                                            | 84/78125 [01:13<16:28:14,  1.32it/s]\n",
      "  0%|                                                                            | 85/78125 [01:14<16:49:58,  1.29it/s]\n",
      "  0%|                                                                            | 86/78125 [01:15<16:47:15,  1.29it/s]\n",
      "  0%|                                                                            | 87/78125 [01:15<16:44:33,  1.29it/s]\n",
      "  0%|                                                                            | 88/78125 [01:16<16:41:07,  1.30it/s]\n",
      "  0%|                                                                            | 89/78125 [01:17<16:38:41,  1.30it/s]\n",
      "  0%|                                                                            | 90/78125 [01:18<16:35:49,  1.31it/s]\n",
      "  0%|                                                                            | 91/78125 [01:19<16:31:29,  1.31it/s]\n",
      "  0%|                                                                            | 92/78125 [01:19<16:28:25,  1.32it/s]\n",
      "  0%|                                                                            | 93/78125 [01:20<16:20:03,  1.33it/s]\n",
      "  0%|                                                                            | 94/78125 [01:21<16:15:21,  1.33it/s]\n",
      "  0%|                                                                            | 95/78125 [01:21<16:09:51,  1.34it/s]\n",
      "  0%|                                                                            | 96/78125 [01:22<16:19:55,  1.33it/s]\n",
      "  0%|                                                                            | 97/78125 [01:23<16:21:05,  1.33it/s]\n",
      "  0%|                                                                            | 98/78125 [01:24<16:17:38,  1.33it/s]\n",
      "  0%|                                                                            | 99/78125 [01:25<16:24:15,  1.32it/s]\n",
      "  0%|                                                                           | 100/78125 [01:25<16:21:00,  1.33it/s]\n",
      "  0%|                                                                           | 101/78125 [01:26<16:17:10,  1.33it/s]\n",
      "  0%|                                                                           | 102/78125 [01:27<16:14:05,  1.33it/s]\n",
      "  0%|                                                                           | 103/78125 [01:28<16:09:58,  1.34it/s]\n",
      "  0%|                                                                           | 104/78125 [01:28<16:12:33,  1.34it/s]\n",
      "  0%|                                                                           | 105/78125 [01:29<16:09:40,  1.34it/s]\n",
      "  0%|                                                                           | 106/78125 [01:30<16:06:29,  1.35it/s]\n",
      "  0%|                                                                           | 107/78125 [01:30<16:05:48,  1.35it/s]\n",
      "  0%|                                                                           | 108/78125 [01:31<16:04:56,  1.35it/s]\n",
      "  0%|                                                                           | 109/78125 [01:32<16:07:26,  1.34it/s]\n",
      "  0%|                                                                           | 110/78125 [01:33<16:04:54,  1.35it/s]\n",
      "  0%|                                                                           | 111/78125 [01:33<16:04:18,  1.35it/s]\n",
      "  0%|                                                                           | 112/78125 [01:34<16:12:03,  1.34it/s]\n",
      "  0%|                                                                           | 113/78125 [01:35<16:15:09,  1.33it/s]\n",
      "  0%|                                                                           | 114/78125 [01:36<16:21:59,  1.32it/s]\n",
      "  0%|                                                                           | 115/78125 [01:37<16:23:39,  1.32it/s]\n",
      "  0%|                                                                           | 116/78125 [01:37<16:22:51,  1.32it/s]\n",
      "  0%|                                                                           | 117/78125 [01:38<17:06:44,  1.27it/s]\n",
      "  0%|                                                                           | 118/78125 [01:39<16:52:14,  1.28it/s]\n",
      "  0%|                                                                           | 119/78125 [01:40<16:52:36,  1.28it/s]\n",
      "  0%|                                                                           | 120/78125 [01:40<16:41:33,  1.30it/s]\n",
      "  0%|                                                                           | 121/78125 [01:41<16:38:29,  1.30it/s]\n",
      "  0%|                                                                           | 122/78125 [01:42<16:41:01,  1.30it/s]\n",
      "  0%|                                                                           | 123/78125 [01:43<16:37:43,  1.30it/s]\n",
      "  0%|                                                                           | 124/78125 [01:43<16:32:17,  1.31it/s]\n",
      "  0%|                                                                           | 125/78125 [01:44<16:30:02,  1.31it/s]\n",
      "  0%|                                                                           | 126/78125 [01:45<16:30:25,  1.31it/s]\n",
      "  0%|                                                                           | 127/78125 [01:46<16:37:17,  1.30it/s]\n",
      "  0%|                                                                           | 128/78125 [01:47<16:35:52,  1.31it/s]\n",
      "  0%|                                                                           | 129/78125 [01:47<16:32:55,  1.31it/s]\n",
      "  0%|                                                                           | 130/78125 [01:48<16:29:18,  1.31it/s]\n",
      "  0%|▏                                                                          | 131/78125 [01:49<16:29:05,  1.31it/s]\n",
      "  0%|▏                                                                          | 132/78125 [01:50<16:28:57,  1.31it/s]\n",
      "  0%|▏                                                                          | 133/78125 [01:50<16:33:08,  1.31it/s]\n",
      "  0%|▏                                                                          | 134/78125 [01:51<16:31:46,  1.31it/s]\n",
      "  0%|▏                                                                          | 135/78125 [01:52<16:56:08,  1.28it/s]\n"
     ]
    },
    {
     "name": "stderr",
     "output_type": "stream",
     "text": [
      "  0%|▏                                                                          | 136/78125 [01:53<16:47:29,  1.29it/s]\n",
      "  0%|▏                                                                          | 137/78125 [01:53<16:44:31,  1.29it/s]\n",
      "  0%|▏                                                                          | 138/78125 [01:54<16:41:17,  1.30it/s]\n",
      "  0%|▏                                                                          | 139/78125 [01:55<16:55:46,  1.28it/s]\n",
      "  0%|▏                                                                          | 140/78125 [01:56<16:50:19,  1.29it/s]\n",
      "  0%|▏                                                                          | 141/78125 [01:57<16:45:43,  1.29it/s]\n",
      "  0%|▏                                                                          | 142/78125 [01:57<16:38:59,  1.30it/s]\n",
      "  0%|▏                                                                          | 143/78125 [01:58<16:37:23,  1.30it/s]\n",
      "  0%|▏                                                                          | 144/78125 [01:59<16:32:45,  1.31it/s]\n",
      "  0%|▏                                                                          | 145/78125 [02:00<16:36:32,  1.30it/s]\n",
      "  0%|▏                                                                          | 146/78125 [02:00<16:30:35,  1.31it/s]\n",
      "  0%|▏                                                                          | 147/78125 [02:01<16:30:20,  1.31it/s]\n",
      "  0%|▏                                                                          | 148/78125 [02:02<16:28:58,  1.31it/s]\n",
      "  0%|▏                                                                          | 149/78125 [02:03<16:31:55,  1.31it/s]\n",
      "  0%|▏                                                                          | 150/78125 [02:03<16:26:11,  1.32it/s]\n",
      "  0%|▏                                                                          | 151/78125 [02:04<16:27:37,  1.32it/s]\n",
      "  0%|▏                                                                          | 152/78125 [02:05<16:34:04,  1.31it/s]\n",
      "  0%|▏                                                                          | 153/78125 [02:06<16:32:21,  1.31it/s]\n",
      "  0%|▏                                                                          | 154/78125 [02:06<16:30:45,  1.31it/s]\n",
      "  0%|▏                                                                          | 155/78125 [02:07<16:28:04,  1.32it/s]\n",
      "  0%|▏                                                                          | 156/78125 [02:08<16:25:25,  1.32it/s]\n",
      "  0%|▏                                                                          | 157/78125 [02:09<16:27:03,  1.32it/s]\n",
      "  0%|▏                                                                          | 158/78125 [02:09<16:26:38,  1.32it/s]\n",
      "  0%|▏                                                                          | 159/78125 [02:10<16:24:01,  1.32it/s]\n",
      "  0%|▏                                                                          | 160/78125 [02:11<16:25:17,  1.32it/s]\n",
      "  0%|▏                                                                          | 161/78125 [02:12<16:26:57,  1.32it/s]\n",
      "  0%|▏                                                                          | 162/78125 [02:13<16:27:43,  1.32it/s]\n",
      "  0%|▏                                                                          | 163/78125 [02:13<16:27:29,  1.32it/s]\n",
      "  0%|▏                                                                          | 164/78125 [02:14<16:34:19,  1.31it/s]\n",
      "  0%|▏                                                                          | 165/78125 [02:15<17:13:00,  1.26it/s]\n",
      "  0%|▏                                                                          | 166/78125 [02:16<16:47:05,  1.29it/s]\n",
      "  0%|▏                                                                          | 167/78125 [02:16<16:34:23,  1.31it/s]\n",
      "  0%|▏                                                                          | 168/78125 [02:17<16:24:44,  1.32it/s]\n",
      "  0%|▏                                                                          | 169/78125 [02:18<16:19:31,  1.33it/s]\n",
      "  0%|▏                                                                          | 170/78125 [02:19<16:14:19,  1.33it/s]\n",
      "  0%|▏                                                                          | 171/78125 [02:19<16:11:03,  1.34it/s]\n",
      "  0%|▏                                                                          | 172/78125 [02:20<16:05:15,  1.35it/s]\n",
      "  0%|▏                                                                          | 173/78125 [02:21<16:05:53,  1.35it/s]\n",
      "  0%|▏                                                                          | 174/78125 [02:22<16:02:47,  1.35it/s]\n",
      "  0%|▏                                                                          | 175/78125 [02:22<16:07:16,  1.34it/s]\n",
      "  0%|▏                                                                          | 176/78125 [02:23<16:03:45,  1.35it/s]\n",
      "  0%|▏                                                                          | 177/78125 [02:24<16:04:02,  1.35it/s]\n",
      "  0%|▏                                                                          | 178/78125 [02:25<16:01:53,  1.35it/s]\n",
      "  0%|▏                                                                          | 179/78125 [02:25<16:01:55,  1.35it/s]\n",
      "  0%|▏                                                                          | 180/78125 [02:26<16:01:11,  1.35it/s]\n",
      "  0%|▏                                                                          | 181/78125 [02:27<16:01:03,  1.35it/s]\n",
      "  0%|▏                                                                          | 182/78125 [02:27<16:01:20,  1.35it/s]\n",
      "  0%|▏                                                                          | 183/78125 [02:28<16:01:55,  1.35it/s]\n",
      "  0%|▏                                                                          | 184/78125 [02:29<16:12:04,  1.34it/s]\n",
      "  0%|▏                                                                          | 185/78125 [02:30<16:19:10,  1.33it/s]\n",
      "  0%|▏                                                                          | 186/78125 [02:31<16:23:21,  1.32it/s]\n",
      "  0%|▏                                                                          | 187/78125 [02:31<16:21:59,  1.32it/s]\n",
      "  0%|▏                                                                          | 188/78125 [02:32<16:23:23,  1.32it/s]\n",
      "  0%|▏                                                                          | 189/78125 [02:33<16:29:24,  1.31it/s]\n",
      "  0%|▏                                                                          | 190/78125 [02:34<16:28:09,  1.31it/s]\n",
      "  0%|▏                                                                          | 191/78125 [02:34<16:31:11,  1.31it/s]\n",
      "  0%|▏                                                                          | 192/78125 [02:35<16:29:01,  1.31it/s]\n",
      "  0%|▏                                                                          | 193/78125 [02:36<16:29:26,  1.31it/s]\n",
      "  0%|▏                                                                          | 194/78125 [02:37<16:25:27,  1.32it/s]\n",
      "  0%|▏                                                                          | 195/78125 [02:37<16:26:09,  1.32it/s]\n",
      "  0%|▏                                                                          | 196/78125 [02:38<16:23:55,  1.32it/s]\n",
      "  0%|▏                                                                          | 197/78125 [02:39<16:27:01,  1.32it/s]\n",
      "  0%|▏                                                                          | 198/78125 [02:40<16:19:00,  1.33it/s]\n",
      "  0%|▏                                                                          | 199/78125 [02:40<16:16:57,  1.33it/s]\n",
      "  0%|▏                                                                          | 200/78125 [02:41<16:11:14,  1.34it/s]\n",
      "  0%|▏                                                                          | 201/78125 [02:42<16:12:25,  1.34it/s]\n",
      "  0%|▏                                                                          | 202/78125 [02:43<16:16:14,  1.33it/s]\n",
      "  0%|▏                                                                          | 203/78125 [02:43<16:12:39,  1.34it/s]\n"
     ]
    },
    {
     "name": "stderr",
     "output_type": "stream",
     "text": [
      "  0%|▏                                                                          | 204/78125 [02:44<16:07:26,  1.34it/s]\n",
      "  0%|▏                                                                          | 205/78125 [02:45<16:06:07,  1.34it/s]\n",
      "  0%|▏                                                                          | 206/78125 [02:46<16:01:40,  1.35it/s]\n",
      "  0%|▏                                                                          | 207/78125 [02:46<16:06:30,  1.34it/s]\n",
      "  0%|▏                                                                          | 208/78125 [02:47<16:02:43,  1.35it/s]\n",
      "  0%|▏                                                                          | 209/78125 [02:48<16:02:36,  1.35it/s]\n",
      "  0%|▏                                                                          | 210/78125 [02:49<15:59:59,  1.35it/s]\n",
      "  0%|▏                                                                          | 211/78125 [02:49<15:59:19,  1.35it/s]\n",
      "  0%|▏                                                                          | 212/78125 [02:50<15:56:53,  1.36it/s]\n",
      "  0%|▏                                                                          | 213/78125 [02:51<16:40:45,  1.30it/s]\n",
      "  0%|▏                                                                          | 214/78125 [02:52<16:44:35,  1.29it/s]\n",
      "  0%|▏                                                                          | 215/78125 [02:52<16:30:31,  1.31it/s]\n",
      "  0%|▏                                                                          | 216/78125 [02:53<16:33:07,  1.31it/s]\n",
      "  0%|▏                                                                          | 217/78125 [02:54<16:32:37,  1.31it/s]\n",
      "  0%|▏                                                                          | 218/78125 [02:55<16:29:55,  1.31it/s]\n",
      "  0%|▏                                                                          | 219/78125 [02:55<16:31:08,  1.31it/s]\n",
      "  0%|▏                                                                          | 220/78125 [02:56<16:22:39,  1.32it/s]\n",
      "  0%|▏                                                                          | 221/78125 [02:57<16:20:12,  1.32it/s]\n",
      "  0%|▏                                                                          | 222/78125 [02:58<16:23:10,  1.32it/s]\n",
      "  0%|▏                                                                          | 223/78125 [02:58<16:24:03,  1.32it/s]\n",
      "  0%|▏                                                                          | 224/78125 [02:59<16:21:34,  1.32it/s]\n",
      "  0%|▏                                                                          | 225/78125 [03:00<16:20:59,  1.32it/s]\n",
      "  0%|▏                                                                          | 226/78125 [03:01<16:18:15,  1.33it/s]\n",
      "  0%|▏                                                                          | 227/78125 [03:01<16:18:39,  1.33it/s]\n",
      "  0%|▏                                                                          | 228/78125 [03:02<16:25:34,  1.32it/s]\n",
      "  0%|▏                                                                          | 229/78125 [03:03<16:26:30,  1.32it/s]\n",
      "  0%|▏                                                                          | 230/78125 [03:04<17:12:17,  1.26it/s]\n",
      "  0%|▏                                                                          | 231/78125 [03:05<17:26:04,  1.24it/s]\n",
      "  0%|▏                                                                          | 232/78125 [03:05<17:08:03,  1.26it/s]\n",
      "  0%|▏                                                                          | 233/78125 [03:06<17:08:41,  1.26it/s]\n",
      "  0%|▏                                                                          | 234/78125 [03:07<17:01:20,  1.27it/s]\n",
      "  0%|▏                                                                          | 235/78125 [03:08<16:55:24,  1.28it/s]\n",
      "  0%|▏                                                                          | 236/78125 [03:09<16:52:25,  1.28it/s]\n",
      "  0%|▏                                                                          | 237/78125 [03:09<16:45:16,  1.29it/s]\n",
      "  0%|▏                                                                          | 238/78125 [03:10<16:33:04,  1.31it/s]\n",
      "  0%|▏                                                                          | 239/78125 [03:11<16:27:49,  1.31it/s]\n",
      "  0%|▏                                                                          | 240/78125 [03:12<16:19:05,  1.33it/s]\n",
      "  0%|▏                                                                          | 241/78125 [03:12<16:19:11,  1.33it/s]\n",
      "  0%|▏                                                                          | 242/78125 [03:13<16:29:46,  1.31it/s]\n",
      "  0%|▏                                                                          | 243/78125 [03:14<16:18:53,  1.33it/s]\n",
      "  0%|▏                                                                          | 244/78125 [03:15<16:11:15,  1.34it/s]\n",
      "  0%|▏                                                                          | 245/78125 [03:15<16:10:35,  1.34it/s]\n",
      "  0%|▏                                                                          | 246/78125 [03:16<16:11:16,  1.34it/s]\n",
      "  0%|▏                                                                          | 247/78125 [03:17<16:08:39,  1.34it/s]\n",
      "  0%|▏                                                                          | 248/78125 [03:18<16:23:32,  1.32it/s]\n",
      "  0%|▏                                                                          | 249/78125 [03:18<16:17:13,  1.33it/s]\n",
      "  0%|▏                                                                          | 250/78125 [03:19<16:20:11,  1.32it/s]\n",
      "  0%|▏                                                                          | 251/78125 [03:20<16:23:02,  1.32it/s]\n",
      "  0%|▏                                                                          | 252/78125 [03:21<16:26:12,  1.32it/s]\n",
      "  0%|▏                                                                          | 253/78125 [03:21<16:22:34,  1.32it/s]\n",
      "  0%|▏                                                                          | 254/78125 [03:22<16:20:48,  1.32it/s]\n",
      "  0%|▏                                                                          | 255/78125 [03:23<16:21:30,  1.32it/s]\n",
      "  0%|▏                                                                          | 256/78125 [03:24<16:22:00,  1.32it/s]\n",
      "  0%|▏                                                                          | 257/78125 [03:24<16:23:07,  1.32it/s]\n",
      "  0%|▏                                                                          | 258/78125 [03:25<16:23:54,  1.32it/s]\n",
      "  0%|▏                                                                          | 259/78125 [03:26<16:20:33,  1.32it/s]\n",
      "  0%|▏                                                                          | 260/78125 [03:27<16:24:25,  1.32it/s]\n",
      "  0%|▎                                                                          | 261/78125 [03:28<17:10:19,  1.26it/s]\n",
      "  0%|▎                                                                          | 262/78125 [03:28<16:51:05,  1.28it/s]\n",
      "  0%|▎                                                                          | 263/78125 [03:29<16:38:24,  1.30it/s]\n",
      "  0%|▎                                                                          | 264/78125 [03:30<16:52:28,  1.28it/s]\n",
      "  0%|▎                                                                          | 265/78125 [03:31<16:44:48,  1.29it/s]\n",
      "  0%|▎                                                                          | 266/78125 [03:31<16:34:22,  1.30it/s]\n",
      "  0%|▎                                                                          | 267/78125 [03:32<16:26:18,  1.32it/s]\n",
      "  0%|▎                                                                          | 268/78125 [03:33<16:20:38,  1.32it/s]\n",
      "  0%|▎                                                                          | 269/78125 [03:34<16:23:40,  1.32it/s]\n",
      "  0%|▎                                                                          | 270/78125 [03:34<16:16:04,  1.33it/s]\n",
      "  0%|▎                                                                          | 271/78125 [03:35<16:13:04,  1.33it/s]\n"
     ]
    },
    {
     "name": "stderr",
     "output_type": "stream",
     "text": [
      "  0%|▎                                                                          | 272/78125 [03:36<16:15:39,  1.33it/s]\n",
      "  0%|▎                                                                          | 273/78125 [03:37<16:10:50,  1.34it/s]\n",
      "  0%|▎                                                                          | 274/78125 [03:37<16:16:47,  1.33it/s]\n",
      "  0%|▎                                                                          | 275/78125 [03:38<16:11:37,  1.34it/s]\n",
      "  0%|▎                                                                          | 276/78125 [03:39<16:05:15,  1.34it/s]\n",
      "  0%|▎                                                                          | 277/78125 [03:40<16:02:45,  1.35it/s]\n",
      "  0%|▎                                                                          | 278/78125 [03:40<16:00:37,  1.35it/s]\n",
      "  0%|▎                                                                          | 279/78125 [03:41<16:01:06,  1.35it/s]\n",
      "  0%|▎                                                                          | 280/78125 [03:42<15:59:43,  1.35it/s]\n",
      "  0%|▎                                                                          | 281/78125 [03:43<16:01:35,  1.35it/s]\n",
      "  0%|▎                                                                          | 282/78125 [03:43<16:09:31,  1.34it/s]\n",
      "  0%|▎                                                                          | 283/78125 [03:44<16:51:37,  1.28it/s]\n",
      "  0%|▎                                                                          | 284/78125 [03:45<17:19:55,  1.25it/s]\n",
      "  0%|▎                                                                          | 285/78125 [03:46<17:11:20,  1.26it/s]\n",
      "  0%|▎                                                                          | 286/78125 [03:47<17:59:00,  1.20it/s]\n",
      "  0%|▎                                                                          | 287/78125 [03:48<18:36:15,  1.16it/s]\n",
      "  0%|▎                                                                          | 288/78125 [03:49<18:55:42,  1.14it/s]\n",
      "  0%|▎                                                                          | 289/78125 [03:49<19:08:56,  1.13it/s]\n",
      "  0%|▎                                                                          | 290/78125 [03:50<18:29:11,  1.17it/s]\n",
      "  0%|▎                                                                          | 291/78125 [03:51<18:04:04,  1.20it/s]\n",
      "  0%|▎                                                                          | 292/78125 [03:52<17:37:32,  1.23it/s]\n",
      "  0%|▎                                                                          | 293/78125 [03:53<17:21:18,  1.25it/s]"
     ]
    },
    {
     "ename": "KeyboardInterrupt",
     "evalue": "",
     "output_type": "error",
     "traceback": [
      "\u001b[1;31m---------------------------------------------------------------------------\u001b[0m",
      "\u001b[1;31mKeyboardInterrupt\u001b[0m                         Traceback (most recent call last)",
      "\u001b[1;32m<ipython-input-25-c6ebba00f2a6>\u001b[0m in \u001b[0;36m<module>\u001b[1;34m\u001b[0m\n\u001b[0;32m     54\u001b[0m             \u001b[1;31m#    D_summary, _, discrloss, discr_r_loss, discr_f_loss = sess.run([merged, D_trainer, D_loss, D_real_loss, D_fake_loss], feed_dict={real_images:batch_images, z:batch_z, D_learning_rate:current_learningRate*current_discMultiplier, SMOOTHING: current_smoothingFactor})\u001b[0m\u001b[1;33m\u001b[0m\u001b[1;33m\u001b[0m\u001b[1;33m\u001b[0m\u001b[0m\n\u001b[0;32m     55\u001b[0m \u001b[1;33m\u001b[0m\u001b[0m\n\u001b[1;32m---> 56\u001b[1;33m             \u001b[0mgenloss\u001b[0m\u001b[1;33m,\u001b[0m \u001b[0m_\u001b[0m \u001b[1;33m=\u001b[0m \u001b[0msess\u001b[0m\u001b[1;33m.\u001b[0m\u001b[0mrun\u001b[0m\u001b[1;33m(\u001b[0m\u001b[1;33m[\u001b[0m\u001b[0mG_loss\u001b[0m\u001b[1;33m,\u001b[0m \u001b[0mG_trainer\u001b[0m\u001b[1;33m]\u001b[0m\u001b[1;33m,\u001b[0m \u001b[0mfeed_dict\u001b[0m\u001b[1;33m=\u001b[0m\u001b[1;33m{\u001b[0m\u001b[0mz\u001b[0m\u001b[1;33m:\u001b[0m\u001b[0mbatch_z\u001b[0m\u001b[1;33m,\u001b[0m \u001b[0mG_learning_rate\u001b[0m\u001b[1;33m:\u001b[0m\u001b[0mcurrent_learningRate\u001b[0m\u001b[1;33m,\u001b[0m \u001b[0mleaky_relu\u001b[0m\u001b[1;33m:\u001b[0m\u001b[0mcurrent_useLeaky\u001b[0m\u001b[1;33m}\u001b[0m\u001b[1;33m)\u001b[0m\u001b[1;33m\u001b[0m\u001b[1;33m\u001b[0m\u001b[0m\n\u001b[0m\u001b[0;32m     57\u001b[0m \u001b[1;33m\u001b[0m\u001b[0m\n\u001b[0;32m     58\u001b[0m             if (epoch % 10 == 0):{\n",
      "\u001b[1;32mc:\\users\\chris\\appdata\\local\\conda\\conda\\envs\\pia\\lib\\site-packages\\tensorflow\\python\\client\\session.py\u001b[0m in \u001b[0;36mrun\u001b[1;34m(self, fetches, feed_dict, options, run_metadata)\u001b[0m\n\u001b[0;32m    927\u001b[0m     \u001b[1;32mtry\u001b[0m\u001b[1;33m:\u001b[0m\u001b[1;33m\u001b[0m\u001b[1;33m\u001b[0m\u001b[0m\n\u001b[0;32m    928\u001b[0m       result = self._run(None, fetches, feed_dict, options_ptr,\n\u001b[1;32m--> 929\u001b[1;33m                          run_metadata_ptr)\n\u001b[0m\u001b[0;32m    930\u001b[0m       \u001b[1;32mif\u001b[0m \u001b[0mrun_metadata\u001b[0m\u001b[1;33m:\u001b[0m\u001b[1;33m\u001b[0m\u001b[1;33m\u001b[0m\u001b[0m\n\u001b[0;32m    931\u001b[0m         \u001b[0mproto_data\u001b[0m \u001b[1;33m=\u001b[0m \u001b[0mtf_session\u001b[0m\u001b[1;33m.\u001b[0m\u001b[0mTF_GetBuffer\u001b[0m\u001b[1;33m(\u001b[0m\u001b[0mrun_metadata_ptr\u001b[0m\u001b[1;33m)\u001b[0m\u001b[1;33m\u001b[0m\u001b[1;33m\u001b[0m\u001b[0m\n",
      "\u001b[1;32mc:\\users\\chris\\appdata\\local\\conda\\conda\\envs\\pia\\lib\\site-packages\\tensorflow\\python\\client\\session.py\u001b[0m in \u001b[0;36m_run\u001b[1;34m(self, handle, fetches, feed_dict, options, run_metadata)\u001b[0m\n\u001b[0;32m   1150\u001b[0m     \u001b[1;32mif\u001b[0m \u001b[0mfinal_fetches\u001b[0m \u001b[1;32mor\u001b[0m \u001b[0mfinal_targets\u001b[0m \u001b[1;32mor\u001b[0m \u001b[1;33m(\u001b[0m\u001b[0mhandle\u001b[0m \u001b[1;32mand\u001b[0m \u001b[0mfeed_dict_tensor\u001b[0m\u001b[1;33m)\u001b[0m\u001b[1;33m:\u001b[0m\u001b[1;33m\u001b[0m\u001b[1;33m\u001b[0m\u001b[0m\n\u001b[0;32m   1151\u001b[0m       results = self._do_run(handle, final_targets, final_fetches,\n\u001b[1;32m-> 1152\u001b[1;33m                              feed_dict_tensor, options, run_metadata)\n\u001b[0m\u001b[0;32m   1153\u001b[0m     \u001b[1;32melse\u001b[0m\u001b[1;33m:\u001b[0m\u001b[1;33m\u001b[0m\u001b[1;33m\u001b[0m\u001b[0m\n\u001b[0;32m   1154\u001b[0m       \u001b[0mresults\u001b[0m \u001b[1;33m=\u001b[0m \u001b[1;33m[\u001b[0m\u001b[1;33m]\u001b[0m\u001b[1;33m\u001b[0m\u001b[1;33m\u001b[0m\u001b[0m\n",
      "\u001b[1;32mc:\\users\\chris\\appdata\\local\\conda\\conda\\envs\\pia\\lib\\site-packages\\tensorflow\\python\\client\\session.py\u001b[0m in \u001b[0;36m_do_run\u001b[1;34m(self, handle, target_list, fetch_list, feed_dict, options, run_metadata)\u001b[0m\n\u001b[0;32m   1326\u001b[0m     \u001b[1;32mif\u001b[0m \u001b[0mhandle\u001b[0m \u001b[1;32mis\u001b[0m \u001b[1;32mNone\u001b[0m\u001b[1;33m:\u001b[0m\u001b[1;33m\u001b[0m\u001b[1;33m\u001b[0m\u001b[0m\n\u001b[0;32m   1327\u001b[0m       return self._do_call(_run_fn, feeds, fetches, targets, options,\n\u001b[1;32m-> 1328\u001b[1;33m                            run_metadata)\n\u001b[0m\u001b[0;32m   1329\u001b[0m     \u001b[1;32melse\u001b[0m\u001b[1;33m:\u001b[0m\u001b[1;33m\u001b[0m\u001b[1;33m\u001b[0m\u001b[0m\n\u001b[0;32m   1330\u001b[0m       \u001b[1;32mreturn\u001b[0m \u001b[0mself\u001b[0m\u001b[1;33m.\u001b[0m\u001b[0m_do_call\u001b[0m\u001b[1;33m(\u001b[0m\u001b[0m_prun_fn\u001b[0m\u001b[1;33m,\u001b[0m \u001b[0mhandle\u001b[0m\u001b[1;33m,\u001b[0m \u001b[0mfeeds\u001b[0m\u001b[1;33m,\u001b[0m \u001b[0mfetches\u001b[0m\u001b[1;33m)\u001b[0m\u001b[1;33m\u001b[0m\u001b[1;33m\u001b[0m\u001b[0m\n",
      "\u001b[1;32mc:\\users\\chris\\appdata\\local\\conda\\conda\\envs\\pia\\lib\\site-packages\\tensorflow\\python\\client\\session.py\u001b[0m in \u001b[0;36m_do_call\u001b[1;34m(self, fn, *args)\u001b[0m\n\u001b[0;32m   1332\u001b[0m   \u001b[1;32mdef\u001b[0m \u001b[0m_do_call\u001b[0m\u001b[1;33m(\u001b[0m\u001b[0mself\u001b[0m\u001b[1;33m,\u001b[0m \u001b[0mfn\u001b[0m\u001b[1;33m,\u001b[0m \u001b[1;33m*\u001b[0m\u001b[0margs\u001b[0m\u001b[1;33m)\u001b[0m\u001b[1;33m:\u001b[0m\u001b[1;33m\u001b[0m\u001b[1;33m\u001b[0m\u001b[0m\n\u001b[0;32m   1333\u001b[0m     \u001b[1;32mtry\u001b[0m\u001b[1;33m:\u001b[0m\u001b[1;33m\u001b[0m\u001b[1;33m\u001b[0m\u001b[0m\n\u001b[1;32m-> 1334\u001b[1;33m       \u001b[1;32mreturn\u001b[0m \u001b[0mfn\u001b[0m\u001b[1;33m(\u001b[0m\u001b[1;33m*\u001b[0m\u001b[0margs\u001b[0m\u001b[1;33m)\u001b[0m\u001b[1;33m\u001b[0m\u001b[1;33m\u001b[0m\u001b[0m\n\u001b[0m\u001b[0;32m   1335\u001b[0m     \u001b[1;32mexcept\u001b[0m \u001b[0merrors\u001b[0m\u001b[1;33m.\u001b[0m\u001b[0mOpError\u001b[0m \u001b[1;32mas\u001b[0m \u001b[0me\u001b[0m\u001b[1;33m:\u001b[0m\u001b[1;33m\u001b[0m\u001b[1;33m\u001b[0m\u001b[0m\n\u001b[0;32m   1336\u001b[0m       \u001b[0mmessage\u001b[0m \u001b[1;33m=\u001b[0m \u001b[0mcompat\u001b[0m\u001b[1;33m.\u001b[0m\u001b[0mas_text\u001b[0m\u001b[1;33m(\u001b[0m\u001b[0me\u001b[0m\u001b[1;33m.\u001b[0m\u001b[0mmessage\u001b[0m\u001b[1;33m)\u001b[0m\u001b[1;33m\u001b[0m\u001b[1;33m\u001b[0m\u001b[0m\n",
      "\u001b[1;32mc:\\users\\chris\\appdata\\local\\conda\\conda\\envs\\pia\\lib\\site-packages\\tensorflow\\python\\client\\session.py\u001b[0m in \u001b[0;36m_run_fn\u001b[1;34m(feed_dict, fetch_list, target_list, options, run_metadata)\u001b[0m\n\u001b[0;32m   1317\u001b[0m       \u001b[0mself\u001b[0m\u001b[1;33m.\u001b[0m\u001b[0m_extend_graph\u001b[0m\u001b[1;33m(\u001b[0m\u001b[1;33m)\u001b[0m\u001b[1;33m\u001b[0m\u001b[1;33m\u001b[0m\u001b[0m\n\u001b[0;32m   1318\u001b[0m       return self._call_tf_sessionrun(\n\u001b[1;32m-> 1319\u001b[1;33m           options, feed_dict, fetch_list, target_list, run_metadata)\n\u001b[0m\u001b[0;32m   1320\u001b[0m \u001b[1;33m\u001b[0m\u001b[0m\n\u001b[0;32m   1321\u001b[0m     \u001b[1;32mdef\u001b[0m \u001b[0m_prun_fn\u001b[0m\u001b[1;33m(\u001b[0m\u001b[0mhandle\u001b[0m\u001b[1;33m,\u001b[0m \u001b[0mfeed_dict\u001b[0m\u001b[1;33m,\u001b[0m \u001b[0mfetch_list\u001b[0m\u001b[1;33m)\u001b[0m\u001b[1;33m:\u001b[0m\u001b[1;33m\u001b[0m\u001b[1;33m\u001b[0m\u001b[0m\n",
      "\u001b[1;32mc:\\users\\chris\\appdata\\local\\conda\\conda\\envs\\pia\\lib\\site-packages\\tensorflow\\python\\client\\session.py\u001b[0m in \u001b[0;36m_call_tf_sessionrun\u001b[1;34m(self, options, feed_dict, fetch_list, target_list, run_metadata)\u001b[0m\n\u001b[0;32m   1405\u001b[0m     return tf_session.TF_SessionRun_wrapper(\n\u001b[0;32m   1406\u001b[0m         \u001b[0mself\u001b[0m\u001b[1;33m.\u001b[0m\u001b[0m_session\u001b[0m\u001b[1;33m,\u001b[0m \u001b[0moptions\u001b[0m\u001b[1;33m,\u001b[0m \u001b[0mfeed_dict\u001b[0m\u001b[1;33m,\u001b[0m \u001b[0mfetch_list\u001b[0m\u001b[1;33m,\u001b[0m \u001b[0mtarget_list\u001b[0m\u001b[1;33m,\u001b[0m\u001b[1;33m\u001b[0m\u001b[1;33m\u001b[0m\u001b[0m\n\u001b[1;32m-> 1407\u001b[1;33m         run_metadata)\n\u001b[0m\u001b[0;32m   1408\u001b[0m \u001b[1;33m\u001b[0m\u001b[0m\n\u001b[0;32m   1409\u001b[0m   \u001b[1;32mdef\u001b[0m \u001b[0m_call_tf_sessionprun\u001b[0m\u001b[1;33m(\u001b[0m\u001b[0mself\u001b[0m\u001b[1;33m,\u001b[0m \u001b[0mhandle\u001b[0m\u001b[1;33m,\u001b[0m \u001b[0mfeed_dict\u001b[0m\u001b[1;33m,\u001b[0m \u001b[0mfetch_list\u001b[0m\u001b[1;33m)\u001b[0m\u001b[1;33m:\u001b[0m\u001b[1;33m\u001b[0m\u001b[1;33m\u001b[0m\u001b[0m\n",
      "\u001b[1;31mKeyboardInterrupt\u001b[0m: "
     ]
    }
   ],
   "source": [
    "with tf.Session(config=config) as sess:\n",
    "    \n",
    "    for model in modes:   \n",
    "        sess.run(init)\n",
    "        \n",
    "        current_batchSize = model[0]\n",
    "        current_learningRate = model[1]\n",
    "        current_discMultiplier = model[2]\n",
    "        current_pretrainRuns = model[3]\n",
    "        current_smoothingFactor = model[4]\n",
    "        current_useLeaky = model[5]\n",
    "        \n",
    "        \n",
    "        EPOCHS = int(5000000/current_batchSize)\n",
    "        \n",
    "        model_text = \"{0}-batchsize_{1}-lr_{2}-discMultiplier_{3}-pretrainRuns_{4}-smoothing_{5}-leakyRelu\".format(\n",
    "            current_batchSize, current_learningRate, current_discMultiplier, current_pretrainRuns, current_smoothingFactor, current_useLeaky)\n",
    "        \n",
    "        # Naming the different Tensorboards. Additionally to the date, we added a shot description of the current model\n",
    "        writer = tf.summary.FileWriter('./tensorboard/{0}_GAN-{1}'.format(now.strftime(\"%Y_%m_%d-%H-%M\"), model_text), sess.graph)\n",
    "\n",
    "        \n",
    "        \n",
    "        \n",
    "        \n",
    "        \n",
    "        # Pretrain Epochs for Discriminator. For 20000 images we need 200 Epochs with a batch size of 100\n",
    "        for pretrain in tqdm(range(int( current_pretrainRuns/current_batchSize))):\n",
    "            sess.run(iterator.initializer, feed_dict={BATCH_SIZE:current_batchSize})\n",
    "            batch_images = sess.run(nextbatch)\n",
    "\n",
    "            # We used random normal distribution with standard deviation of 0.5 -> Explanation below\n",
    "            batch_z =  np.random.normal(0.0, 1, size=(current_batchSize,100))\n",
    "\n",
    "            #if current_useLeaky:\n",
    "            _ = sess.run(D_trainer, feed_dict={real_images:batch_images, z:batch_z, D_learning_rate:current_learningRate*current_discMultiplier, SMOOTHING: current_smoothingFactor, leaky_relu:current_useLeaky})\n",
    "\n",
    "            \n",
    "            #else:\n",
    "            #    _ = sess.run(D_trainer, feed_dict={real_images:batch_images, z:batch_z, D_learning_rate:current_learningRate*current_discMultiplier, SMOOTHING: current_smoothingFactor})\n",
    "\n",
    "\n",
    "        for epoch in tqdm(range(EPOCHS)):\n",
    "            sess.run(iterator.initializer, feed_dict={BATCH_SIZE:current_batchSize})\n",
    "            batch_images = sess.run(nextbatch, feed_dict={BATCH_SIZE:current_batchSize})\n",
    "\n",
    "            # We used random normal distribution with standard deviation of 0.5 -> Explanation below\n",
    "            batch_z = np.random.normal(0.0, 1, size=(current_batchSize,100))\n",
    "\n",
    "            #if current_useLeaky:\n",
    "            D_summary, _, discrloss, discr_r_loss, discr_f_loss = sess.run([merged, D_trainer, D_loss, D_real_loss, D_fake_loss], feed_dict={real_images:batch_images, z:batch_z, D_learning_rate:current_learningRate*current_discMultiplier, SMOOTHING: current_smoothingFactor, leaky_relu:current_useLeaky})\n",
    "            \n",
    "            #else:\n",
    "            #    D_summary, _, discrloss, discr_r_loss, discr_f_loss = sess.run([merged, D_trainer, D_loss, D_real_loss, D_fake_loss], feed_dict={real_images:batch_images, z:batch_z, D_learning_rate:current_learningRate*current_discMultiplier, SMOOTHING: current_smoothingFactor})\n",
    "\n",
    "            genloss, _ = sess.run([G_loss, G_trainer], feed_dict={z:batch_z, G_learning_rate:current_learningRate, leaky_relu:current_useLeaky})\n",
    "\n",
    "            if (epoch % 10 == 0):{\n",
    "                # SUMMARIES\n",
    "                writer.add_summary(D_summary, epoch)      \n",
    "            }\n",
    "\n",
    "\n",
    "            if (EPOCHS%4000 == 0):\n",
    "                # We used random normal distribution with standard deviation of 0.5 -> Explanation below\n",
    "                #sample_z = np.random.uniform(0,1,size=(1,100))\n",
    "                sample_z = np.random.normal(0.0, 1, size=(1,100))\n",
    "                \n",
    "                # Print out all losses\n",
    "                print(\"Discriminator-Real-Loss:\", discr_r_loss)\n",
    "\n",
    "                print(\"Discriminator-Fake-Loss:\", discr_f_loss)\n",
    "\n",
    "                print(\"Discriminator Loss:\",discrloss)\n",
    "\n",
    "                print(\"Generator Loss:\",genloss)\n",
    "\n",
    "                # Generate a sample image\n",
    "                gen_sample = sess.run(gen(z, reuse_vars=True), feed_dict={z: sample_z, leaky_relu:current_useLeaky})\n",
    "\n",
    "                # Display the sample image at current epoch\n",
    "                plt.imshow(gen_sample.reshape(28,28), cmap=\"gray\")\n",
    "                plt.show()\n",
    "\n"
   ]
  },
  {
   "cell_type": "code",
   "execution_count": null,
   "metadata": {},
   "outputs": [],
   "source": []
  }
 ],
 "metadata": {
  "kernelspec": {
   "display_name": "Python 3",
   "language": "python",
   "name": "python3"
  },
  "language_info": {
   "codemirror_mode": {
    "name": "ipython",
    "version": 3
   },
   "file_extension": ".py",
   "mimetype": "text/x-python",
   "name": "python",
   "nbconvert_exporter": "python",
   "pygments_lexer": "ipython3",
   "version": "3.6.8"
  }
 },
 "nbformat": 4,
 "nbformat_minor": 2
}
