{
 "cells": [
  {
   "cell_type": "markdown",
   "metadata": {},
   "source": [
    "## Further Ideas\n",
    "\n",
    "### Change the Loss Function to Wasserstein Distance\n",
    "[Wasserstein GANs (WGAN)](https://arxiv.org/pdf/1701.07875.pdf) are an alternative to *classical* GANs. They use a different loss function and prooved to be more stable to hyperparameter selection. While the paper offers a good theoretical introduction and reasoning why they perform better in many cases, [this article](https://wiseodd.github.io/techblog/2017/02/04/wasserstein-gan/) provides a good practical introduction"
   ]
  },
  {
   "cell_type": "code",
   "execution_count": 29,
   "metadata": {},
   "outputs": [],
   "source": [
    "import tensorflow as tf\n",
    "import numpy as np\n",
    "import matplotlib.pyplot as plt\n",
    "import seaborn as sns\n",
    "%matplotlib inline\n",
    "\n",
    "tf.reset_default_graph()"
   ]
  },
  {
   "cell_type": "code",
   "execution_count": 2,
   "metadata": {},
   "outputs": [],
   "source": [
    "from tensorflow.keras.datasets.mnist import load_data\n",
    "(train_X, train_y),(test_X, test_y) = load_data()\n",
    "\n",
    "train_X = train_X/255.0\n",
    "train_y = train_y/255.0\n",
    "\n",
    "test_X = test_X/255.0\n",
    "test_y = test_y/255.0\n",
    "\n",
    "\n",
    "train = np.append(train_X, test_X, axis=0) #Use both Train and Testset for GAN"
   ]
  },
  {
   "cell_type": "raw",
   "metadata": {},
   "source": [
    "\"\"\"Vanilla GAN\"\"\"\n",
    "def discriminator(X, reuse_vars=None):\n",
    "    with tf.variable_scope('dis', reuse=reuse_vars):\n",
    "        \n",
    "        conv1 = tf.layers.conv2d(inputs=X, filters=32, kernel_size=[5,5], padding=\"same\", activation=tf.nn.relu, name=\"conv1\")\n",
    "\n",
    "        pool1 = tf.layers.average_pooling2d(inputs=conv1, pool_size=[2,2], strides=2, name=\"pool1\")\n",
    "\n",
    "        conv2 = tf.layers.conv2d(inputs=pool1, filters=64, kernel_size=[5,5], padding=\"same\", activation=tf.nn.relu, name=\"conv2\")\n",
    "\n",
    "        pool2 = tf.layers.average_pooling2d(inputs=conv2, pool_size=[2,2], strides=2, name=\"pool2\")\n",
    "\n",
    "        flat_layer = tf.reshape(pool2, [-1, 7 * 7 * 64], name=\"flatten\")\n",
    "\n",
    "        # Dense layer\n",
    "        dense = tf.layers.dense(inputs=flat_layer, units=1024, activation=tf.nn.relu, name=\"dense\")\n",
    "\n",
    "        # Logits layer\n",
    "        logits = tf.layers.dense(inputs=dense, units=1, name=\"dense2\")\n",
    "        \n",
    "        #output = tf.sigmoid(logits, name=\"sigmoid\")\n",
    "        \n",
    "        return logits"
   ]
  },
  {
   "cell_type": "code",
   "execution_count": null,
   "metadata": {},
   "outputs": [],
   "source": [
    "\"\"\"WGAN\"\"\"\n",
    "def discriminator(X, reuse_vars=None):\n",
    "    with tf.variable_scope('dis', reuse=reuse_vars):\n",
    "        \n",
    "        conv1 = tf.layers.conv2d(inputs=X, filters=32, kernel_size=[5,5], padding=\"same\", activation=tf.nn.relu, name=\"conv1\")\n",
    "\n",
    "        pool1 = tf.layers.average_pooling2d(inputs=conv1, pool_size=[2,2], strides=2, name=\"pool1\")\n",
    "\n",
    "        conv2 = tf.layers.conv2d(inputs=pool1, filters=64, kernel_size=[5,5], padding=\"same\", activation=tf.nn.relu, name=\"conv2\")\n",
    "\n",
    "        pool2 = tf.layers.average_pooling2d(inputs=conv2, pool_size=[2,2], strides=2, name=\"pool2\")\n",
    "\n",
    "        flat_layer = tf.reshape(pool2, [-1, 7 * 7 * 64], name=\"flatten\")\n",
    "\n",
    "        # Dense layer\n",
    "        dense = tf.layers.dense(inputs=flat_layer, units=1024, activation=tf.nn.relu, name=\"dense\")\n",
    "\n",
    "        # Logits layer\n",
    "        logits = tf.layers.dense(inputs=dense, units=1, name=\"dense2\")\n",
    "        \n",
    "        #output = tf.sigmoid(logits, name=\"sigmoid\")\n",
    "        \n",
    "        return logits"
   ]
  },
  {
   "cell_type": "code",
   "execution_count": 4,
   "metadata": {},
   "outputs": [],
   "source": [
    "def gen(noise, reuse_vars=None):\n",
    "    with tf.variable_scope(\"gen\", reuse=reuse_vars):\n",
    "        \n",
    "        # First DenseLayer\n",
    "        dense = tf.layers.dense(inputs=noise, units=3136, activation=tf.nn.relu, name=\"dense\")\n",
    "        \n",
    "        #Reshape\n",
    "        reshape = tf.reshape(dense, [-1, 56, 56, 1], name=\"reshape\")\n",
    "        \n",
    "        #1 Conv2d\n",
    "        conv1 = tf.layers.conv2d(inputs=reshape, filters=50, kernel_size=[3,3], strides=2, padding=\"same\", activation=tf.nn.relu, name=\"conv1\")\n",
    "        \n",
    "        #BatchNormalization\n",
    "        conv1_norm = tf.layers.batch_normalization(conv1, name=\"batch_norm1\")\n",
    "        \n",
    "        #Upsample\n",
    "        conv1_upsample = tf.image.resize_images(conv1_norm, (56,56))\n",
    "        \n",
    "        #2 Conv2d\n",
    "        conv2 = tf.layers.conv2d(inputs=conv1_upsample, filters=25, kernel_size=[3,3], strides=2, padding=\"same\", activation=tf.nn.relu, name=\"conv2\")\n",
    "        \n",
    "        #BatchNormalization\n",
    "        conv2_norm = tf.layers.batch_normalization(conv2, name=\"batch_norm2\")\n",
    "        \n",
    "        #Upsample\n",
    "        conv2_upsample = tf.image.resize_images(conv2_norm, (56,56))\n",
    "        \n",
    "        #2 Conv2d\n",
    "        logits = tf.layers.conv2d(inputs=conv2_upsample, filters=1, kernel_size=[3,3], strides=2, padding=\"same\", name=\"conv3\")\n",
    "        output = tf.nn.sigmoid(logits, name=\"sigmoid\")\n",
    "        \n",
    "        return output\n"
   ]
  },
  {
   "cell_type": "code",
   "execution_count": 5,
   "metadata": {},
   "outputs": [],
   "source": [
    "with tf.name_scope('input'):\n",
    "    real_images = tf.placeholder(tf.float32, shape=[None, 28,28,1], name=\"ImagePlaceholder\")\n",
    "    z = tf.placeholder(tf.float32, shape=[None, 100], name = \"NoisePlaceholder\")"
   ]
  },
  {
   "cell_type": "code",
   "execution_count": null,
   "metadata": {},
   "outputs": [],
   "source": []
  },
  {
   "cell_type": "raw",
   "metadata": {},
   "source": [
    "\"\"\"Vanilla GAN\"\"\"\n",
    "Gz = gen(z)\n",
    "D_output_real, D_logits_real = discriminator(real_images)\n",
    "D_output_fake, D_logits_fake = discriminator(Gz, reuse_vars=True)"
   ]
  },
  {
   "cell_type": "code",
   "execution_count": null,
   "metadata": {},
   "outputs": [],
   "source": [
    "\"\"\"WGAN\"\"\"\n",
    "Gz = gen(z)\n",
    "D_logits_real = discriminator(real_images)\n",
    "D_logits_fake = discriminator(Gz, reuse_vars=True)"
   ]
  },
  {
   "cell_type": "raw",
   "metadata": {},
   "source": [
    "# LOSSES\n",
    "def loss_func (logits_in, labels_in):\n",
    "    return tf.reduce_mean(tf.nn.sigmoid_cross_entropy_with_logits(\n",
    "    logits=logits_in, labels=labels_in, name=\"CrossEntropy\"), name=\"ReduceMean\")"
   ]
  },
  {
   "cell_type": "raw",
   "metadata": {},
   "source": [
    "D_real_loss = loss_func(D_logits_real, tf.ones_like(D_logits_real, name=\"Generator_Label\")*0.9)\n",
    "D_fake_loss = loss_func(D_logits_fake, tf.zeros_like(D_logits_fake, name=\"Discriminator_Label\"))\n",
    "\n",
    "D_loss = D_real_loss + D_fake_loss"
   ]
  },
  {
   "cell_type": "raw",
   "metadata": {},
   "source": [
    "G_loss = loss_func(D_logits_fake, tf.ones_like(D_logits_fake, name=\"Generator_TrickLabel\"))"
   ]
  },
  {
   "cell_type": "code",
   "execution_count": null,
   "metadata": {},
   "outputs": [],
   "source": [
    "\"\"\"WGAN\"\"\"\n",
    "D_loss = tf.reduce_mean(D_real) - tf.reduce_mean(D_fake)\n",
    "G_loss = -tf.reduce_mean(D_fake)"
   ]
  },
  {
   "cell_type": "code",
   "execution_count": null,
   "metadata": {},
   "outputs": [],
   "source": [
    "\"\"\"WGAN\"\"\"\n",
    "# theta_D is list of D's params\n",
    "clip_D = [p.assign(tf.clip_by_value(p, -0.01, 0.01)) for p in theta_D]"
   ]
  },
  {
   "cell_type": "code",
   "execution_count": 10,
   "metadata": {},
   "outputs": [],
   "source": [
    "D_learning_rate = 0.00005\n",
    "G_learning_rate = 0.0001"
   ]
  },
  {
   "cell_type": "raw",
   "metadata": {},
   "source": [
    "\"\"\"Vanilla GAN\"\"\"\n",
    "d_vars = tf.trainable_variables(scope='dis')\n",
    "g_vars = tf.trainable_variables(scope='gen')"
   ]
  },
  {
   "cell_type": "code",
   "execution_count": null,
   "metadata": {},
   "outputs": [],
   "source": [
    "\"\"\"WGAN\"\"\"\n",
    "theta_D = tf.trainable_variables(scope='dis')\n",
    "theta_G = tf.trainable_variables(scope='gen')"
   ]
  },
  {
   "cell_type": "code",
   "execution_count": 12,
   "metadata": {},
   "outputs": [],
   "source": [
    "D_trainer = tf.train.RMSPropOptimizer(D_learning_rate, name=\"RMSPropOptimizer_Discriminator\").minimize(D_loss, var_list=d_vars, name=\"minimize_D_loss\")\n",
    "G_trainer = tf.train.RMSPropOptimizer(G_learning_rate, name=\"RMSPropOptimizer_Generator\").minimize(G_loss, var_list=g_vars, name=\"minimize_G_loss\")\n",
    "\n"
   ]
  },
  {
   "cell_type": "code",
   "execution_count": null,
   "metadata": {},
   "outputs": [],
   "source": [
    "\"\"\"Train D more\"\"\"\n",
    "for it in range(1000000):\n",
    "    for _ in range(5):\n",
    "        X_mb, _ = mnist.train.next_batch(mb_size)\n",
    "\n",
    "        _, D_loss_curr, _ = sess.run(\n",
    "            [D_solver, D_loss, clip_D],\n",
    "            feed_dict={X: X_mb, z: sample_z(mb_size, z_dim)}\n",
    "        )\n",
    "\n",
    "    _, G_loss_curr = sess.run(\n",
    "        [G_solver, G_loss],\n",
    "        feed_dict={z: sample_z(mb_size, z_dim)}\n",
    "    )"
   ]
  },
  {
   "cell_type": "code",
   "execution_count": 13,
   "metadata": {},
   "outputs": [
    {
     "data": {
      "text/plain": [
       "<tf.Tensor 'Generated_Images:0' shape=() dtype=string>"
      ]
     },
     "execution_count": 13,
     "metadata": {},
     "output_type": "execute_result"
    }
   ],
   "source": [
    "tf.summary.scalar(\"Dx_Loss\", D_real_loss)\n",
    "tf.summary.scalar(\"Dg_Loss\", D_fake_loss)\n",
    "tf.summary.scalar(\"D_loss\", D_loss)\n",
    "tf.summary.scalar(\"G_loss\", G_loss)\n",
    "tf.summary.image(\"Generated_Images\", Gz, max_outputs=5)"
   ]
  },
  {
   "cell_type": "code",
   "execution_count": 14,
   "metadata": {},
   "outputs": [],
   "source": [
    "import datetime\n",
    "\n",
    "now = datetime.datetime.now()"
   ]
  },
  {
   "cell_type": "code",
   "execution_count": null,
   "metadata": {},
   "outputs": [],
   "source": []
  },
  {
   "cell_type": "code",
   "execution_count": 15,
   "metadata": {},
   "outputs": [],
   "source": [
    "BATCH_SIZE = 100\n",
    "BUFFER_SIZE = 140000\n",
    "EPOCHS = 500000 "
   ]
  },
  {
   "cell_type": "code",
   "execution_count": 16,
   "metadata": {},
   "outputs": [],
   "source": [
    "samples = []\n",
    "real = []"
   ]
  },
  {
   "cell_type": "raw",
   "metadata": {},
   "source": [
    "#Adding config for GPU - not using all of the GPUs Memory -> leading to crashes\n",
    "config = tf.ConfigProto()\n",
    "config.gpu_options.allow_growth = True\n",
    "config.gpu_options.per_process_gpu_memory_fraction = 0.8\n",
    "\n",
    "merged = tf.summary.merge_all()"
   ]
  },
  {
   "cell_type": "code",
   "execution_count": 17,
   "metadata": {},
   "outputs": [],
   "source": [
    "from tqdm import tqdm\n",
    "\n",
    "train = train.reshape(train.shape[0], 28, 28, 1).astype('float32')\n",
    "train_dataset = tf.data.Dataset.from_tensor_slices(train).repeat().shuffle(BUFFER_SIZE).batch(BATCH_SIZE)\n",
    "iterator = train_dataset.make_one_shot_iterator()\n",
    "nextbatch = iterator.get_next()\n",
    "init = tf.global_variables_initializer()"
   ]
  },
  {
   "cell_type": "code",
   "execution_count": 19,
   "metadata": {},
   "outputs": [
    {
     "name": "stderr",
     "output_type": "stream",
     "text": [
      "\r",
      "  0%|          | 0/20 [00:00<?, ?it/s]"
     ]
    },
    {
     "ename": "KeyboardInterrupt",
     "evalue": "",
     "output_type": "error",
     "traceback": [
      "\u001b[0;31m---------------------------------------------------------------------------\u001b[0m",
      "\u001b[0;31mKeyboardInterrupt\u001b[0m                         Traceback (most recent call last)",
      "\u001b[0;32m<ipython-input-19-2e4bed16a8ba>\u001b[0m in \u001b[0;36m<module>\u001b[0;34m\u001b[0m\n\u001b[1;32m      6\u001b[0m \u001b[0;34m\u001b[0m\u001b[0m\n\u001b[1;32m      7\u001b[0m     \u001b[0;32mfor\u001b[0m \u001b[0mpretrain\u001b[0m \u001b[0;32min\u001b[0m \u001b[0mtqdm\u001b[0m\u001b[0;34m(\u001b[0m\u001b[0mrange\u001b[0m\u001b[0;34m(\u001b[0m\u001b[0;36m20\u001b[0m\u001b[0;34m)\u001b[0m\u001b[0;34m)\u001b[0m\u001b[0;34m:\u001b[0m\u001b[0;34m\u001b[0m\u001b[0;34m\u001b[0m\u001b[0m\n\u001b[0;32m----> 8\u001b[0;31m         \u001b[0mbatch_images\u001b[0m \u001b[0;34m=\u001b[0m \u001b[0msess\u001b[0m\u001b[0;34m.\u001b[0m\u001b[0mrun\u001b[0m\u001b[0;34m(\u001b[0m\u001b[0mnextbatch\u001b[0m\u001b[0;34m)\u001b[0m\u001b[0;34m\u001b[0m\u001b[0;34m\u001b[0m\u001b[0m\n\u001b[0m\u001b[1;32m      9\u001b[0m \u001b[0;34m\u001b[0m\u001b[0m\n\u001b[1;32m     10\u001b[0m         \u001b[0;31m#batch = mnist.train.next_batch(BATCH_SIZE)\u001b[0m\u001b[0;34m\u001b[0m\u001b[0;34m\u001b[0m\u001b[0;34m\u001b[0m\u001b[0m\n",
      "\u001b[0;32m/Library/Frameworks/Python.framework/Versions/3.6/lib/python3.6/site-packages/tensorflow/python/client/session.py\u001b[0m in \u001b[0;36mrun\u001b[0;34m(self, fetches, feed_dict, options, run_metadata)\u001b[0m\n\u001b[1;32m    927\u001b[0m     \u001b[0;32mtry\u001b[0m\u001b[0;34m:\u001b[0m\u001b[0;34m\u001b[0m\u001b[0;34m\u001b[0m\u001b[0m\n\u001b[1;32m    928\u001b[0m       result = self._run(None, fetches, feed_dict, options_ptr,\n\u001b[0;32m--> 929\u001b[0;31m                          run_metadata_ptr)\n\u001b[0m\u001b[1;32m    930\u001b[0m       \u001b[0;32mif\u001b[0m \u001b[0mrun_metadata\u001b[0m\u001b[0;34m:\u001b[0m\u001b[0;34m\u001b[0m\u001b[0;34m\u001b[0m\u001b[0m\n\u001b[1;32m    931\u001b[0m         \u001b[0mproto_data\u001b[0m \u001b[0;34m=\u001b[0m \u001b[0mtf_session\u001b[0m\u001b[0;34m.\u001b[0m\u001b[0mTF_GetBuffer\u001b[0m\u001b[0;34m(\u001b[0m\u001b[0mrun_metadata_ptr\u001b[0m\u001b[0;34m)\u001b[0m\u001b[0;34m\u001b[0m\u001b[0;34m\u001b[0m\u001b[0m\n",
      "\u001b[0;32m/Library/Frameworks/Python.framework/Versions/3.6/lib/python3.6/site-packages/tensorflow/python/client/session.py\u001b[0m in \u001b[0;36m_run\u001b[0;34m(self, handle, fetches, feed_dict, options, run_metadata)\u001b[0m\n\u001b[1;32m   1150\u001b[0m     \u001b[0;32mif\u001b[0m \u001b[0mfinal_fetches\u001b[0m \u001b[0;32mor\u001b[0m \u001b[0mfinal_targets\u001b[0m \u001b[0;32mor\u001b[0m \u001b[0;34m(\u001b[0m\u001b[0mhandle\u001b[0m \u001b[0;32mand\u001b[0m \u001b[0mfeed_dict_tensor\u001b[0m\u001b[0;34m)\u001b[0m\u001b[0;34m:\u001b[0m\u001b[0;34m\u001b[0m\u001b[0;34m\u001b[0m\u001b[0m\n\u001b[1;32m   1151\u001b[0m       results = self._do_run(handle, final_targets, final_fetches,\n\u001b[0;32m-> 1152\u001b[0;31m                              feed_dict_tensor, options, run_metadata)\n\u001b[0m\u001b[1;32m   1153\u001b[0m     \u001b[0;32melse\u001b[0m\u001b[0;34m:\u001b[0m\u001b[0;34m\u001b[0m\u001b[0;34m\u001b[0m\u001b[0m\n\u001b[1;32m   1154\u001b[0m       \u001b[0mresults\u001b[0m \u001b[0;34m=\u001b[0m \u001b[0;34m[\u001b[0m\u001b[0;34m]\u001b[0m\u001b[0;34m\u001b[0m\u001b[0;34m\u001b[0m\u001b[0m\n",
      "\u001b[0;32m/Library/Frameworks/Python.framework/Versions/3.6/lib/python3.6/site-packages/tensorflow/python/client/session.py\u001b[0m in \u001b[0;36m_do_run\u001b[0;34m(self, handle, target_list, fetch_list, feed_dict, options, run_metadata)\u001b[0m\n\u001b[1;32m   1326\u001b[0m     \u001b[0;32mif\u001b[0m \u001b[0mhandle\u001b[0m \u001b[0;32mis\u001b[0m \u001b[0;32mNone\u001b[0m\u001b[0;34m:\u001b[0m\u001b[0;34m\u001b[0m\u001b[0;34m\u001b[0m\u001b[0m\n\u001b[1;32m   1327\u001b[0m       return self._do_call(_run_fn, feeds, fetches, targets, options,\n\u001b[0;32m-> 1328\u001b[0;31m                            run_metadata)\n\u001b[0m\u001b[1;32m   1329\u001b[0m     \u001b[0;32melse\u001b[0m\u001b[0;34m:\u001b[0m\u001b[0;34m\u001b[0m\u001b[0;34m\u001b[0m\u001b[0m\n\u001b[1;32m   1330\u001b[0m       \u001b[0;32mreturn\u001b[0m \u001b[0mself\u001b[0m\u001b[0;34m.\u001b[0m\u001b[0m_do_call\u001b[0m\u001b[0;34m(\u001b[0m\u001b[0m_prun_fn\u001b[0m\u001b[0;34m,\u001b[0m \u001b[0mhandle\u001b[0m\u001b[0;34m,\u001b[0m \u001b[0mfeeds\u001b[0m\u001b[0;34m,\u001b[0m \u001b[0mfetches\u001b[0m\u001b[0;34m)\u001b[0m\u001b[0;34m\u001b[0m\u001b[0;34m\u001b[0m\u001b[0m\n",
      "\u001b[0;32m/Library/Frameworks/Python.framework/Versions/3.6/lib/python3.6/site-packages/tensorflow/python/client/session.py\u001b[0m in \u001b[0;36m_do_call\u001b[0;34m(self, fn, *args)\u001b[0m\n\u001b[1;32m   1332\u001b[0m   \u001b[0;32mdef\u001b[0m \u001b[0m_do_call\u001b[0m\u001b[0;34m(\u001b[0m\u001b[0mself\u001b[0m\u001b[0;34m,\u001b[0m \u001b[0mfn\u001b[0m\u001b[0;34m,\u001b[0m \u001b[0;34m*\u001b[0m\u001b[0margs\u001b[0m\u001b[0;34m)\u001b[0m\u001b[0;34m:\u001b[0m\u001b[0;34m\u001b[0m\u001b[0;34m\u001b[0m\u001b[0m\n\u001b[1;32m   1333\u001b[0m     \u001b[0;32mtry\u001b[0m\u001b[0;34m:\u001b[0m\u001b[0;34m\u001b[0m\u001b[0;34m\u001b[0m\u001b[0m\n\u001b[0;32m-> 1334\u001b[0;31m       \u001b[0;32mreturn\u001b[0m \u001b[0mfn\u001b[0m\u001b[0;34m(\u001b[0m\u001b[0;34m*\u001b[0m\u001b[0margs\u001b[0m\u001b[0;34m)\u001b[0m\u001b[0;34m\u001b[0m\u001b[0;34m\u001b[0m\u001b[0m\n\u001b[0m\u001b[1;32m   1335\u001b[0m     \u001b[0;32mexcept\u001b[0m \u001b[0merrors\u001b[0m\u001b[0;34m.\u001b[0m\u001b[0mOpError\u001b[0m \u001b[0;32mas\u001b[0m \u001b[0me\u001b[0m\u001b[0;34m:\u001b[0m\u001b[0;34m\u001b[0m\u001b[0;34m\u001b[0m\u001b[0m\n\u001b[1;32m   1336\u001b[0m       \u001b[0mmessage\u001b[0m \u001b[0;34m=\u001b[0m \u001b[0mcompat\u001b[0m\u001b[0;34m.\u001b[0m\u001b[0mas_text\u001b[0m\u001b[0;34m(\u001b[0m\u001b[0me\u001b[0m\u001b[0;34m.\u001b[0m\u001b[0mmessage\u001b[0m\u001b[0;34m)\u001b[0m\u001b[0;34m\u001b[0m\u001b[0;34m\u001b[0m\u001b[0m\n",
      "\u001b[0;32m/Library/Frameworks/Python.framework/Versions/3.6/lib/python3.6/site-packages/tensorflow/python/client/session.py\u001b[0m in \u001b[0;36m_run_fn\u001b[0;34m(feed_dict, fetch_list, target_list, options, run_metadata)\u001b[0m\n\u001b[1;32m   1317\u001b[0m       \u001b[0mself\u001b[0m\u001b[0;34m.\u001b[0m\u001b[0m_extend_graph\u001b[0m\u001b[0;34m(\u001b[0m\u001b[0;34m)\u001b[0m\u001b[0;34m\u001b[0m\u001b[0;34m\u001b[0m\u001b[0m\n\u001b[1;32m   1318\u001b[0m       return self._call_tf_sessionrun(\n\u001b[0;32m-> 1319\u001b[0;31m           options, feed_dict, fetch_list, target_list, run_metadata)\n\u001b[0m\u001b[1;32m   1320\u001b[0m \u001b[0;34m\u001b[0m\u001b[0m\n\u001b[1;32m   1321\u001b[0m     \u001b[0;32mdef\u001b[0m \u001b[0m_prun_fn\u001b[0m\u001b[0;34m(\u001b[0m\u001b[0mhandle\u001b[0m\u001b[0;34m,\u001b[0m \u001b[0mfeed_dict\u001b[0m\u001b[0;34m,\u001b[0m \u001b[0mfetch_list\u001b[0m\u001b[0;34m)\u001b[0m\u001b[0;34m:\u001b[0m\u001b[0;34m\u001b[0m\u001b[0;34m\u001b[0m\u001b[0m\n",
      "\u001b[0;32m/Library/Frameworks/Python.framework/Versions/3.6/lib/python3.6/site-packages/tensorflow/python/client/session.py\u001b[0m in \u001b[0;36m_call_tf_sessionrun\u001b[0;34m(self, options, feed_dict, fetch_list, target_list, run_metadata)\u001b[0m\n\u001b[1;32m   1405\u001b[0m     return tf_session.TF_SessionRun_wrapper(\n\u001b[1;32m   1406\u001b[0m         \u001b[0mself\u001b[0m\u001b[0;34m.\u001b[0m\u001b[0m_session\u001b[0m\u001b[0;34m,\u001b[0m \u001b[0moptions\u001b[0m\u001b[0;34m,\u001b[0m \u001b[0mfeed_dict\u001b[0m\u001b[0;34m,\u001b[0m \u001b[0mfetch_list\u001b[0m\u001b[0;34m,\u001b[0m \u001b[0mtarget_list\u001b[0m\u001b[0;34m,\u001b[0m\u001b[0;34m\u001b[0m\u001b[0;34m\u001b[0m\u001b[0m\n\u001b[0;32m-> 1407\u001b[0;31m         run_metadata)\n\u001b[0m\u001b[1;32m   1408\u001b[0m \u001b[0;34m\u001b[0m\u001b[0m\n\u001b[1;32m   1409\u001b[0m   \u001b[0;32mdef\u001b[0m \u001b[0m_call_tf_sessionprun\u001b[0m\u001b[0;34m(\u001b[0m\u001b[0mself\u001b[0m\u001b[0;34m,\u001b[0m \u001b[0mhandle\u001b[0m\u001b[0;34m,\u001b[0m \u001b[0mfeed_dict\u001b[0m\u001b[0;34m,\u001b[0m \u001b[0mfetch_list\u001b[0m\u001b[0;34m)\u001b[0m\u001b[0;34m:\u001b[0m\u001b[0;34m\u001b[0m\u001b[0;34m\u001b[0m\u001b[0m\n",
      "\u001b[0;31mKeyboardInterrupt\u001b[0m: "
     ]
    }
   ],
   "source": [
    "#with tf.Session(config=config) as sess:\n",
    "with tf.Session() as sess:\n",
    "    \n",
    "    sess.run(init)\n",
    "    writer = tf.summary.FileWriter('./tensorboard/{0}_TrainableVariables_500K-Epochs'.format(now.strftime(\"%Y_%m_%d-%H-%M\")), sess.graph)\n",
    "    \n",
    "    for pretrain in tqdm(range(20)):\n",
    "        batch_images = sess.run(nextbatch)\n",
    "\n",
    "        #batch = mnist.train.next_batch(BATCH_SIZE)\n",
    "        #batch_images = batch[0].reshape((BATCH_SIZE, 28,28))\n",
    "        #batch_images = np.expand_dims(batch_images, axis=-1)\n",
    "\n",
    "        #print(batch_images.shape)\n",
    "\n",
    "\n",
    "        #batch_images = batch_images * 2 - 1  # Use for TANH to remap between -1 and 1\n",
    "\n",
    "        batch_z = np.random.normal(0,1,size=(BATCH_SIZE,100))\n",
    "        _ = sess.run(D_trainer, feed_dict={real_images:batch_images, z:batch_z})\n",
    "    \n",
    "    \n",
    "    for epoch in tqdm(range(EPOCHS)):\n",
    "        \n",
    "        #num_batches = len(train) // BATCH_SIZE\n",
    "        \n",
    "        #for batch in range(num_batches):\n",
    "            \n",
    "        batch_images = sess.run(nextbatch)\n",
    "\n",
    "        #batch = mnist.train.next_batch(BATCH_SIZE)\n",
    "        #batch_images = batch[0].reshape((BATCH_SIZE, 28,28))\n",
    "        #batch_images = np.expand_dims(batch_images, axis=-1)\n",
    "\n",
    "        #print(batch_images.shape)\n",
    "\n",
    "\n",
    "        #batch_images = batch_images * 2 - 1  # Use for TANH to remap between -1 and 1\n",
    "\n",
    "\n",
    "        batch_z = np.random.normal(0,1,size=(BATCH_SIZE,100))\n",
    "        D_summary, _, discrloss, discr_r_loss, discr_f_loss = sess.run([merged, D_trainer, D_loss, D_real_loss, D_fake_loss], feed_dict={real_images:batch_images, z:batch_z})\n",
    "        genloss, _ = sess.run([G_loss, G_trainer], feed_dict={z:batch_z})\n",
    "\n",
    "        if (epoch % 10 == 0):{\n",
    "            # SUMMARIES\n",
    "            writer.add_summary(D_summary, epoch)\n",
    "            #print(genloss)\n",
    "        }\n",
    "\n",
    "        #print (\"ON EPOCH {}\".format(epoch))\n",
    "        \n",
    "        if (epoch%5000 == 0):\n",
    "            \n",
    "            sample_z = np.random.normal(0,1,size=(1,100))\n",
    "            gen_sample = sess.run(gen(z, reuse_vars=True), feed_dict={z: sample_z})\n",
    "            samples.append(gen_sample)\n",
    "            plt.imshow(gen_sample.reshape(28,28), cmap=\"gray\")\n",
    "            plt.show()\n",
    "        \n"
   ]
  },
  {
   "cell_type": "code",
   "execution_count": 36,
   "metadata": {},
   "outputs": [
    {
     "data": {
      "text/plain": [
       "<matplotlib.axes._subplots.AxesSubplot at 0x127da85c0>"
      ]
     },
     "execution_count": 36,
     "metadata": {},
     "output_type": "execute_result"
    },
    {
     "data": {
      "image/png": "[encoded data removed]",
      "text/plain": [
       "<Figure size 432x288 with 1 Axes>"
      ]
     },
     "metadata": {
      "needs_background": "light"
     },
     "output_type": "display_data"
    }
   ],
   "source": [
    "sns.distplot(np.random.normal(0,1,100))"
   ]
  },
  {
   "cell_type": "code",
   "execution_count": null,
   "metadata": {},
   "outputs": [],
   "source": []
  }
 ],
 "metadata": {
  "kernelspec": {
   "display_name": "Python 3",
   "language": "python",
   "name": "python3"
  },
  "language_info": {
   "codemirror_mode": {
    "name": "ipython",
    "version": 3
   },
   "file_extension": ".py",
   "mimetype": "text/x-python",
   "name": "python",
   "nbconvert_exporter": "python",
   "pygments_lexer": "ipython3",
   "version": "3.6.7"
  }
 },
 "nbformat": 4,
 "nbformat_minor": 2
}
